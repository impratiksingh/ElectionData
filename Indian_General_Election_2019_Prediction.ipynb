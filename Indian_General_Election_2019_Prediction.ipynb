{
  "nbformat": 4,
  "nbformat_minor": 0,
  "metadata": {
    "colab": {
      "name": "Indian General Election 2019 Prediction.ipynb",
      "version": "0.3.2",
      "provenance": [],
      "collapsed_sections": [],
      "include_colab_link": true
    },
    "kernelspec": {
      "name": "python3",
      "display_name": "Python 3"
    }
  },
  "cells": [
    {
      "cell_type": "markdown",
      "metadata": {
        "id": "view-in-github",
        "colab_type": "text"
      },
      "source": [
        "<a href=\"https://colab.research.google.com/github/impratiksingh/ElectionData/blob/master/Indian_General_Election_2019_Prediction.ipynb\" target=\"_parent\"><img src=\"https://colab.research.google.com/assets/colab-badge.svg\" alt=\"Open In Colab\"/></a>"
      ]
    },
    {
      "cell_type": "code",
      "metadata": {
        "id": "0v_AA6mV329r",
        "colab_type": "code",
        "colab": {}
      },
      "source": [
        "# These excel sheets are downloaded from the wesite of Election Commision of India . As the name suggest they contain historical data of previous\n",
        "# General Elections\n",
        "\n",
        "import pandas as pd\n",
        "import numpy as np\n",
        "\n",
        "ge_1998=pd.read_excel('GE_1998.xls')\n",
        "ge_1999=pd.read_excel('GE_1999.xls')\n",
        "ge_2004=pd.read_excel('GE_2004.xls')\n",
        "ge_2009=pd.read_excel('GE_2009.xls')\n",
        "ge_2014=pd.read_excel('GE_2014.xls')"
      ],
      "execution_count": 0,
      "outputs": []
    },
    {
      "cell_type": "code",
      "metadata": {
        "id": "cURC5IQk8OY9",
        "colab_type": "code",
        "colab": {
          "base_uri": "https://localhost:8080/",
          "height": 106
        },
        "outputId": "e6c522a4-8ac8-49bf-8318-4387939b7879"
      },
      "source": [
        "ge_1998.head(2)"
      ],
      "execution_count": 385,
      "outputs": [
        {
          "output_type": "execute_result",
          "data": {
            "text/html": [
              "<div>\n",
              "<style scoped>\n",
              "    .dataframe tbody tr th:only-of-type {\n",
              "        vertical-align: middle;\n",
              "    }\n",
              "\n",
              "    .dataframe tbody tr th {\n",
              "        vertical-align: top;\n",
              "    }\n",
              "\n",
              "    .dataframe thead th {\n",
              "        text-align: right;\n",
              "    }\n",
              "</style>\n",
              "<table border=\"1\" class=\"dataframe\">\n",
              "  <thead>\n",
              "    <tr style=\"text-align: right;\">\n",
              "      <th></th>\n",
              "      <th>ST_CODE</th>\n",
              "      <th>ST_NAME</th>\n",
              "      <th>PC_NO</th>\n",
              "      <th>PC_NAME</th>\n",
              "      <th>PC_TYPE</th>\n",
              "      <th>MONTH</th>\n",
              "      <th>YEAR</th>\n",
              "      <th>CAND_NAME</th>\n",
              "      <th>CAND_SEX</th>\n",
              "      <th>PARTYABBRE</th>\n",
              "      <th>TOTVOTPOLL</th>\n",
              "      <th>POSITION</th>\n",
              "    </tr>\n",
              "  </thead>\n",
              "  <tbody>\n",
              "    <tr>\n",
              "      <th>0</th>\n",
              "      <td>S01</td>\n",
              "      <td>ANDHRA PRADESH</td>\n",
              "      <td>1</td>\n",
              "      <td>Srikakulam</td>\n",
              "      <td>GEN</td>\n",
              "      <td>3</td>\n",
              "      <td>1998</td>\n",
              "      <td>KINJARAPU YERRANNAIDU</td>\n",
              "      <td>M</td>\n",
              "      <td>TDP</td>\n",
              "      <td>286582</td>\n",
              "      <td>1</td>\n",
              "    </tr>\n",
              "    <tr>\n",
              "      <th>1</th>\n",
              "      <td>S01</td>\n",
              "      <td>ANDHRA PRADESH</td>\n",
              "      <td>1</td>\n",
              "      <td>Srikakulam</td>\n",
              "      <td>GEN</td>\n",
              "      <td>3</td>\n",
              "      <td>1998</td>\n",
              "      <td>APPAYYA DORA HANUMANTHU</td>\n",
              "      <td>M</td>\n",
              "      <td>NTRTDP(LP)</td>\n",
              "      <td>200217</td>\n",
              "      <td>2</td>\n",
              "    </tr>\n",
              "  </tbody>\n",
              "</table>\n",
              "</div>"
            ],
            "text/plain": [
              "  ST_CODE         ST_NAME  PC_NO  ...  PARTYABBRE TOTVOTPOLL  POSITION\n",
              "0     S01  ANDHRA PRADESH      1  ...         TDP     286582         1\n",
              "1     S01  ANDHRA PRADESH      1  ...  NTRTDP(LP)     200217         2\n",
              "\n",
              "[2 rows x 12 columns]"
            ]
          },
          "metadata": {
            "tags": []
          },
          "execution_count": 385
        }
      ]
    },
    {
      "cell_type": "code",
      "metadata": {
        "id": "Qyd6zI288OcM",
        "colab_type": "code",
        "colab": {
          "base_uri": "https://localhost:8080/",
          "height": 106
        },
        "outputId": "45ae0e8b-84f5-4a37-e984-b171444bfceb"
      },
      "source": [
        "ge_1999.head(2)"
      ],
      "execution_count": 386,
      "outputs": [
        {
          "output_type": "execute_result",
          "data": {
            "text/html": [
              "<div>\n",
              "<style scoped>\n",
              "    .dataframe tbody tr th:only-of-type {\n",
              "        vertical-align: middle;\n",
              "    }\n",
              "\n",
              "    .dataframe tbody tr th {\n",
              "        vertical-align: top;\n",
              "    }\n",
              "\n",
              "    .dataframe thead th {\n",
              "        text-align: right;\n",
              "    }\n",
              "</style>\n",
              "<table border=\"1\" class=\"dataframe\">\n",
              "  <thead>\n",
              "    <tr style=\"text-align: right;\">\n",
              "      <th></th>\n",
              "      <th>ST_CODE</th>\n",
              "      <th>ST_NAME</th>\n",
              "      <th>PC_NO</th>\n",
              "      <th>PC_NAME</th>\n",
              "      <th>PC_TYPE</th>\n",
              "      <th>MONTH</th>\n",
              "      <th>YEAR</th>\n",
              "      <th>CAND_NAME</th>\n",
              "      <th>CAND_SEX</th>\n",
              "      <th>PARTYABBRE</th>\n",
              "      <th>TOTVOTPOLL</th>\n",
              "      <th>POSITION</th>\n",
              "    </tr>\n",
              "  </thead>\n",
              "  <tbody>\n",
              "    <tr>\n",
              "      <th>0</th>\n",
              "      <td>S01</td>\n",
              "      <td>ANDHRA PRADESH</td>\n",
              "      <td>1</td>\n",
              "      <td>Srikakulam</td>\n",
              "      <td>GEN</td>\n",
              "      <td>7</td>\n",
              "      <td>1999</td>\n",
              "      <td>Yerrannaidu Kinjarapu</td>\n",
              "      <td>M</td>\n",
              "      <td>TDP</td>\n",
              "      <td>373851</td>\n",
              "      <td>1</td>\n",
              "    </tr>\n",
              "    <tr>\n",
              "      <th>1</th>\n",
              "      <td>S01</td>\n",
              "      <td>ANDHRA PRADESH</td>\n",
              "      <td>1</td>\n",
              "      <td>Srikakulam</td>\n",
              "      <td>GEN</td>\n",
              "      <td>7</td>\n",
              "      <td>1999</td>\n",
              "      <td>Kanithi Viswanadaham</td>\n",
              "      <td>M</td>\n",
              "      <td>INC</td>\n",
              "      <td>276969</td>\n",
              "      <td>2</td>\n",
              "    </tr>\n",
              "  </tbody>\n",
              "</table>\n",
              "</div>"
            ],
            "text/plain": [
              "  ST_CODE         ST_NAME  PC_NO  ... PARTYABBRE TOTVOTPOLL  POSITION\n",
              "0     S01  ANDHRA PRADESH      1  ...        TDP     373851         1\n",
              "1     S01  ANDHRA PRADESH      1  ...        INC     276969         2\n",
              "\n",
              "[2 rows x 12 columns]"
            ]
          },
          "metadata": {
            "tags": []
          },
          "execution_count": 386
        }
      ]
    },
    {
      "cell_type": "code",
      "metadata": {
        "id": "cYlz9EAT8OfU",
        "colab_type": "code",
        "colab": {
          "base_uri": "https://localhost:8080/",
          "height": 106
        },
        "outputId": "68ffca5e-602a-4ab4-b39d-419a2b39ecf2"
      },
      "source": [
        "ge_2004.head(2)"
      ],
      "execution_count": 387,
      "outputs": [
        {
          "output_type": "execute_result",
          "data": {
            "text/html": [
              "<div>\n",
              "<style scoped>\n",
              "    .dataframe tbody tr th:only-of-type {\n",
              "        vertical-align: middle;\n",
              "    }\n",
              "\n",
              "    .dataframe tbody tr th {\n",
              "        vertical-align: top;\n",
              "    }\n",
              "\n",
              "    .dataframe thead th {\n",
              "        text-align: right;\n",
              "    }\n",
              "</style>\n",
              "<table border=\"1\" class=\"dataframe\">\n",
              "  <thead>\n",
              "    <tr style=\"text-align: right;\">\n",
              "      <th></th>\n",
              "      <th>ST_CODE</th>\n",
              "      <th>ST_NAME</th>\n",
              "      <th>PC_NO</th>\n",
              "      <th>PC_NAME</th>\n",
              "      <th>PC_TYPE</th>\n",
              "      <th>MONTH</th>\n",
              "      <th>YEAR</th>\n",
              "      <th>CAND_NAME</th>\n",
              "      <th>CAND_SEX</th>\n",
              "      <th>CAND_CATEGORY</th>\n",
              "      <th>PARTYABBRE</th>\n",
              "      <th>TOTVOTPOLL</th>\n",
              "      <th>POSITION</th>\n",
              "    </tr>\n",
              "  </thead>\n",
              "  <tbody>\n",
              "    <tr>\n",
              "      <th>0</th>\n",
              "      <td>S01</td>\n",
              "      <td>ANDHRA PRADESH</td>\n",
              "      <td>1</td>\n",
              "      <td>Srikakulam</td>\n",
              "      <td>GEN</td>\n",
              "      <td>3</td>\n",
              "      <td>2004</td>\n",
              "      <td>YERRANNAIDU KINJARAPU</td>\n",
              "      <td>M</td>\n",
              "      <td>GEN</td>\n",
              "      <td>TDP</td>\n",
              "      <td>361906</td>\n",
              "      <td>1</td>\n",
              "    </tr>\n",
              "    <tr>\n",
              "      <th>1</th>\n",
              "      <td>S01</td>\n",
              "      <td>ANDHRA PRADESH</td>\n",
              "      <td>1</td>\n",
              "      <td>Srikakulam</td>\n",
              "      <td>GEN</td>\n",
              "      <td>3</td>\n",
              "      <td>2004</td>\n",
              "      <td>KILLI KRUPARANI</td>\n",
              "      <td>F</td>\n",
              "      <td>GEN</td>\n",
              "      <td>INC</td>\n",
              "      <td>330027</td>\n",
              "      <td>2</td>\n",
              "    </tr>\n",
              "  </tbody>\n",
              "</table>\n",
              "</div>"
            ],
            "text/plain": [
              "  ST_CODE         ST_NAME  PC_NO  ... PARTYABBRE TOTVOTPOLL  POSITION\n",
              "0     S01  ANDHRA PRADESH      1  ...        TDP     361906         1\n",
              "1     S01  ANDHRA PRADESH      1  ...        INC     330027         2\n",
              "\n",
              "[2 rows x 13 columns]"
            ]
          },
          "metadata": {
            "tags": []
          },
          "execution_count": 387
        }
      ]
    },
    {
      "cell_type": "code",
      "metadata": {
        "id": "1ty_FYUs8OiY",
        "colab_type": "code",
        "colab": {
          "base_uri": "https://localhost:8080/",
          "height": 157
        },
        "outputId": "bb731a45-035c-4f28-a851-7b475b31cc4d"
      },
      "source": [
        "ge_2009.head(2)"
      ],
      "execution_count": 388,
      "outputs": [
        {
          "output_type": "execute_result",
          "data": {
            "text/html": [
              "<div>\n",
              "<style scoped>\n",
              "    .dataframe tbody tr th:only-of-type {\n",
              "        vertical-align: middle;\n",
              "    }\n",
              "\n",
              "    .dataframe tbody tr th {\n",
              "        vertical-align: top;\n",
              "    }\n",
              "\n",
              "    .dataframe thead th {\n",
              "        text-align: right;\n",
              "    }\n",
              "</style>\n",
              "<table border=\"1\" class=\"dataframe\">\n",
              "  <thead>\n",
              "    <tr style=\"text-align: right;\">\n",
              "      <th></th>\n",
              "      <th>ST_CODE</th>\n",
              "      <th>State name</th>\n",
              "      <th>Month</th>\n",
              "      <th>Year</th>\n",
              "      <th>PC Number</th>\n",
              "      <th>PC name</th>\n",
              "      <th>PC Type</th>\n",
              "      <th>Candidate Name</th>\n",
              "      <th>Candidate Sex</th>\n",
              "      <th>Candidate Category</th>\n",
              "      <th>Candidate Age</th>\n",
              "      <th>Party Abbreviation</th>\n",
              "      <th>Total Votes Polled</th>\n",
              "      <th>Position</th>\n",
              "    </tr>\n",
              "  </thead>\n",
              "  <tbody>\n",
              "    <tr>\n",
              "      <th>0</th>\n",
              "      <td>S01</td>\n",
              "      <td>Andhra Pradesh</td>\n",
              "      <td>3</td>\n",
              "      <td>2009</td>\n",
              "      <td>1</td>\n",
              "      <td>Adilabad</td>\n",
              "      <td>ST</td>\n",
              "      <td>RATHOD RAMESH</td>\n",
              "      <td>M</td>\n",
              "      <td>ST</td>\n",
              "      <td>43</td>\n",
              "      <td>TDP</td>\n",
              "      <td>372268</td>\n",
              "      <td>1</td>\n",
              "    </tr>\n",
              "    <tr>\n",
              "      <th>1</th>\n",
              "      <td>S01</td>\n",
              "      <td>Andhra Pradesh</td>\n",
              "      <td>3</td>\n",
              "      <td>2009</td>\n",
              "      <td>1</td>\n",
              "      <td>Adilabad</td>\n",
              "      <td>ST</td>\n",
              "      <td>KOTNAK RAMESH</td>\n",
              "      <td>M</td>\n",
              "      <td>ST</td>\n",
              "      <td>39</td>\n",
              "      <td>INC</td>\n",
              "      <td>257181</td>\n",
              "      <td>2</td>\n",
              "    </tr>\n",
              "  </tbody>\n",
              "</table>\n",
              "</div>"
            ],
            "text/plain": [
              "  ST_CODE      State name  ...  Total Votes Polled  Position\n",
              "0     S01  Andhra Pradesh  ...              372268         1\n",
              "1     S01  Andhra Pradesh  ...              257181         2\n",
              "\n",
              "[2 rows x 14 columns]"
            ]
          },
          "metadata": {
            "tags": []
          },
          "execution_count": 388
        }
      ]
    },
    {
      "cell_type": "code",
      "metadata": {
        "id": "SZ7mRGGX8OmG",
        "colab_type": "code",
        "colab": {
          "base_uri": "https://localhost:8080/",
          "height": 157
        },
        "outputId": "39882ce3-4954-4749-e09b-71bb51b241cd"
      },
      "source": [
        "ge_2014.head(2)"
      ],
      "execution_count": 389,
      "outputs": [
        {
          "output_type": "execute_result",
          "data": {
            "text/html": [
              "<div>\n",
              "<style scoped>\n",
              "    .dataframe tbody tr th:only-of-type {\n",
              "        vertical-align: middle;\n",
              "    }\n",
              "\n",
              "    .dataframe tbody tr th {\n",
              "        vertical-align: top;\n",
              "    }\n",
              "\n",
              "    .dataframe thead th {\n",
              "        text-align: right;\n",
              "    }\n",
              "</style>\n",
              "<table border=\"1\" class=\"dataframe\">\n",
              "  <thead>\n",
              "    <tr style=\"text-align: right;\">\n",
              "      <th></th>\n",
              "      <th>ST_CODE</th>\n",
              "      <th>State name</th>\n",
              "      <th>Month</th>\n",
              "      <th>Year</th>\n",
              "      <th>PC Number</th>\n",
              "      <th>PC name</th>\n",
              "      <th>PC Type</th>\n",
              "      <th>Candidate Name</th>\n",
              "      <th>Candidate Sex</th>\n",
              "      <th>Candidate Category</th>\n",
              "      <th>Candidate Age</th>\n",
              "      <th>Party Abbreviation</th>\n",
              "      <th>Total Votes Polled</th>\n",
              "      <th>Position</th>\n",
              "    </tr>\n",
              "  </thead>\n",
              "  <tbody>\n",
              "    <tr>\n",
              "      <th>0</th>\n",
              "      <td>S01</td>\n",
              "      <td>Andhra Pradesh</td>\n",
              "      <td>5</td>\n",
              "      <td>2014</td>\n",
              "      <td>1</td>\n",
              "      <td>Adilabad</td>\n",
              "      <td>ST</td>\n",
              "      <td>GODAM NAGESH</td>\n",
              "      <td>M</td>\n",
              "      <td>ST</td>\n",
              "      <td>49.0</td>\n",
              "      <td>TRS</td>\n",
              "      <td>430847</td>\n",
              "      <td>1</td>\n",
              "    </tr>\n",
              "    <tr>\n",
              "      <th>1</th>\n",
              "      <td>S01</td>\n",
              "      <td>Andhra Pradesh</td>\n",
              "      <td>5</td>\n",
              "      <td>2014</td>\n",
              "      <td>1</td>\n",
              "      <td>Adilabad</td>\n",
              "      <td>ST</td>\n",
              "      <td>NARESH</td>\n",
              "      <td>M</td>\n",
              "      <td>ST</td>\n",
              "      <td>37.0</td>\n",
              "      <td>INC</td>\n",
              "      <td>259557</td>\n",
              "      <td>2</td>\n",
              "    </tr>\n",
              "  </tbody>\n",
              "</table>\n",
              "</div>"
            ],
            "text/plain": [
              "  ST_CODE      State name  ...  Total Votes Polled  Position\n",
              "0     S01  Andhra Pradesh  ...              430847         1\n",
              "1     S01  Andhra Pradesh  ...              259557         2\n",
              "\n",
              "[2 rows x 14 columns]"
            ]
          },
          "metadata": {
            "tags": []
          },
          "execution_count": 389
        }
      ]
    },
    {
      "cell_type": "code",
      "metadata": {
        "id": "HKUk53E0ApXF",
        "colab_type": "code",
        "colab": {}
      },
      "source": [
        "# Though Candidate Category used to be a driving factor in past , but in recent elections we see the party name is more dominant factor , hence I am dropping out that columns\n",
        "ge_2004=ge_2004.drop(['CAND_CATEGORY'],axis=1)\n",
        "\n",
        "# 1998 , 1999 has similar structure so they can be combined as is\n",
        "df_9899=pd.concat([ge_1998,ge_1999,ge_2004],ignore_index=True)\n",
        "\n",
        "# 2009 , 2014 again has a similar structure and hence can be combined as is\n",
        "df_0914=pd.concat([ge_2009,ge_2014],ignore_index=True)\n",
        "\n",
        "# Dropping Candidate category \n",
        "df_0914=df_0914.drop(['Candidate Category'],axis=1)\n",
        "\n"
      ],
      "execution_count": 0,
      "outputs": []
    },
    {
      "cell_type": "code",
      "metadata": {
        "id": "VQkh1ZmWCzDU",
        "colab_type": "code",
        "colab": {
          "base_uri": "https://localhost:8080/",
          "height": 106
        },
        "outputId": "e591a553-e3bd-477f-f9a0-cb716f5d3d74"
      },
      "source": [
        "df_9899.head(2)"
      ],
      "execution_count": 391,
      "outputs": [
        {
          "output_type": "execute_result",
          "data": {
            "text/html": [
              "<div>\n",
              "<style scoped>\n",
              "    .dataframe tbody tr th:only-of-type {\n",
              "        vertical-align: middle;\n",
              "    }\n",
              "\n",
              "    .dataframe tbody tr th {\n",
              "        vertical-align: top;\n",
              "    }\n",
              "\n",
              "    .dataframe thead th {\n",
              "        text-align: right;\n",
              "    }\n",
              "</style>\n",
              "<table border=\"1\" class=\"dataframe\">\n",
              "  <thead>\n",
              "    <tr style=\"text-align: right;\">\n",
              "      <th></th>\n",
              "      <th>ST_CODE</th>\n",
              "      <th>ST_NAME</th>\n",
              "      <th>PC_NO</th>\n",
              "      <th>PC_NAME</th>\n",
              "      <th>PC_TYPE</th>\n",
              "      <th>MONTH</th>\n",
              "      <th>YEAR</th>\n",
              "      <th>CAND_NAME</th>\n",
              "      <th>CAND_SEX</th>\n",
              "      <th>PARTYABBRE</th>\n",
              "      <th>TOTVOTPOLL</th>\n",
              "      <th>POSITION</th>\n",
              "    </tr>\n",
              "  </thead>\n",
              "  <tbody>\n",
              "    <tr>\n",
              "      <th>0</th>\n",
              "      <td>S01</td>\n",
              "      <td>ANDHRA PRADESH</td>\n",
              "      <td>1</td>\n",
              "      <td>Srikakulam</td>\n",
              "      <td>GEN</td>\n",
              "      <td>3</td>\n",
              "      <td>1998</td>\n",
              "      <td>KINJARAPU YERRANNAIDU</td>\n",
              "      <td>M</td>\n",
              "      <td>TDP</td>\n",
              "      <td>286582</td>\n",
              "      <td>1</td>\n",
              "    </tr>\n",
              "    <tr>\n",
              "      <th>1</th>\n",
              "      <td>S01</td>\n",
              "      <td>ANDHRA PRADESH</td>\n",
              "      <td>1</td>\n",
              "      <td>Srikakulam</td>\n",
              "      <td>GEN</td>\n",
              "      <td>3</td>\n",
              "      <td>1998</td>\n",
              "      <td>APPAYYA DORA HANUMANTHU</td>\n",
              "      <td>M</td>\n",
              "      <td>NTRTDP(LP)</td>\n",
              "      <td>200217</td>\n",
              "      <td>2</td>\n",
              "    </tr>\n",
              "  </tbody>\n",
              "</table>\n",
              "</div>"
            ],
            "text/plain": [
              "  ST_CODE         ST_NAME  PC_NO  ...  PARTYABBRE TOTVOTPOLL  POSITION\n",
              "0     S01  ANDHRA PRADESH      1  ...         TDP     286582         1\n",
              "1     S01  ANDHRA PRADESH      1  ...  NTRTDP(LP)     200217         2\n",
              "\n",
              "[2 rows x 12 columns]"
            ]
          },
          "metadata": {
            "tags": []
          },
          "execution_count": 391
        }
      ]
    },
    {
      "cell_type": "code",
      "metadata": {
        "id": "NuIK5sd7FOPC",
        "colab_type": "code",
        "colab": {}
      },
      "source": [
        "# State Code , State Name , Contituency Number , Contituency Type , month of Election , Candidate's Name , Gender have not \n",
        "# been considered for analysis as they are very less determinant of a Candidate's Win.Total Votes polled will have relative impact , hence dropped.\n",
        "\n",
        "df_9899.drop(['ST_CODE','ST_NAME','PC_NO','PC_TYPE','MONTH','CAND_NAME','CAND_SEX','TOTVOTPOLL'],axis=1,inplace=True)\n"
      ],
      "execution_count": 0,
      "outputs": []
    },
    {
      "cell_type": "code",
      "metadata": {
        "id": "Kn5-lhOiF3gT",
        "colab_type": "code",
        "colab": {
          "base_uri": "https://localhost:8080/",
          "height": 106
        },
        "outputId": "d27decc1-a08d-4360-a47e-71f26cb37e63"
      },
      "source": [
        "df_9899.head(2)"
      ],
      "execution_count": 393,
      "outputs": [
        {
          "output_type": "execute_result",
          "data": {
            "text/html": [
              "<div>\n",
              "<style scoped>\n",
              "    .dataframe tbody tr th:only-of-type {\n",
              "        vertical-align: middle;\n",
              "    }\n",
              "\n",
              "    .dataframe tbody tr th {\n",
              "        vertical-align: top;\n",
              "    }\n",
              "\n",
              "    .dataframe thead th {\n",
              "        text-align: right;\n",
              "    }\n",
              "</style>\n",
              "<table border=\"1\" class=\"dataframe\">\n",
              "  <thead>\n",
              "    <tr style=\"text-align: right;\">\n",
              "      <th></th>\n",
              "      <th>PC_NAME</th>\n",
              "      <th>YEAR</th>\n",
              "      <th>PARTYABBRE</th>\n",
              "      <th>POSITION</th>\n",
              "    </tr>\n",
              "  </thead>\n",
              "  <tbody>\n",
              "    <tr>\n",
              "      <th>0</th>\n",
              "      <td>Srikakulam</td>\n",
              "      <td>1998</td>\n",
              "      <td>TDP</td>\n",
              "      <td>1</td>\n",
              "    </tr>\n",
              "    <tr>\n",
              "      <th>1</th>\n",
              "      <td>Srikakulam</td>\n",
              "      <td>1998</td>\n",
              "      <td>NTRTDP(LP)</td>\n",
              "      <td>2</td>\n",
              "    </tr>\n",
              "  </tbody>\n",
              "</table>\n",
              "</div>"
            ],
            "text/plain": [
              "      PC_NAME  YEAR  PARTYABBRE  POSITION\n",
              "0  Srikakulam  1998         TDP         1\n",
              "1  Srikakulam  1998  NTRTDP(LP)         2"
            ]
          },
          "metadata": {
            "tags": []
          },
          "execution_count": 393
        }
      ]
    },
    {
      "cell_type": "code",
      "metadata": {
        "id": "OksOe3BNDFtr",
        "colab_type": "code",
        "colab": {
          "base_uri": "https://localhost:8080/",
          "height": 106
        },
        "outputId": "04fad108-70d3-49d8-acca-f0cdf7d30f73"
      },
      "source": [
        "df_0914.head(2)"
      ],
      "execution_count": 394,
      "outputs": [
        {
          "output_type": "execute_result",
          "data": {
            "text/html": [
              "<div>\n",
              "<style scoped>\n",
              "    .dataframe tbody tr th:only-of-type {\n",
              "        vertical-align: middle;\n",
              "    }\n",
              "\n",
              "    .dataframe tbody tr th {\n",
              "        vertical-align: top;\n",
              "    }\n",
              "\n",
              "    .dataframe thead th {\n",
              "        text-align: right;\n",
              "    }\n",
              "</style>\n",
              "<table border=\"1\" class=\"dataframe\">\n",
              "  <thead>\n",
              "    <tr style=\"text-align: right;\">\n",
              "      <th></th>\n",
              "      <th>ST_CODE</th>\n",
              "      <th>State name</th>\n",
              "      <th>Month</th>\n",
              "      <th>Year</th>\n",
              "      <th>PC Number</th>\n",
              "      <th>PC name</th>\n",
              "      <th>PC Type</th>\n",
              "      <th>Candidate Name</th>\n",
              "      <th>Candidate Sex</th>\n",
              "      <th>Candidate Age</th>\n",
              "      <th>Party Abbreviation</th>\n",
              "      <th>Total Votes Polled</th>\n",
              "      <th>Position</th>\n",
              "    </tr>\n",
              "  </thead>\n",
              "  <tbody>\n",
              "    <tr>\n",
              "      <th>0</th>\n",
              "      <td>S01</td>\n",
              "      <td>Andhra Pradesh</td>\n",
              "      <td>3</td>\n",
              "      <td>2009</td>\n",
              "      <td>1</td>\n",
              "      <td>Adilabad</td>\n",
              "      <td>ST</td>\n",
              "      <td>RATHOD RAMESH</td>\n",
              "      <td>M</td>\n",
              "      <td>43.0</td>\n",
              "      <td>TDP</td>\n",
              "      <td>372268</td>\n",
              "      <td>1</td>\n",
              "    </tr>\n",
              "    <tr>\n",
              "      <th>1</th>\n",
              "      <td>S01</td>\n",
              "      <td>Andhra Pradesh</td>\n",
              "      <td>3</td>\n",
              "      <td>2009</td>\n",
              "      <td>1</td>\n",
              "      <td>Adilabad</td>\n",
              "      <td>ST</td>\n",
              "      <td>KOTNAK RAMESH</td>\n",
              "      <td>M</td>\n",
              "      <td>39.0</td>\n",
              "      <td>INC</td>\n",
              "      <td>257181</td>\n",
              "      <td>2</td>\n",
              "    </tr>\n",
              "  </tbody>\n",
              "</table>\n",
              "</div>"
            ],
            "text/plain": [
              "  ST_CODE      State name  ...  Total Votes Polled  Position\n",
              "0     S01  Andhra Pradesh  ...              372268         1\n",
              "1     S01  Andhra Pradesh  ...              257181         2\n",
              "\n",
              "[2 rows x 13 columns]"
            ]
          },
          "metadata": {
            "tags": []
          },
          "execution_count": 394
        }
      ]
    },
    {
      "cell_type": "code",
      "metadata": {
        "id": "nptlAheaApTI",
        "colab_type": "code",
        "colab": {}
      },
      "source": [
        "df_0914.drop(['ST_CODE','State name','Month','PC Number','PC Type','Candidate Name','Candidate Sex','Candidate Age','Total Votes Polled'],axis=1,inplace=True)"
      ],
      "execution_count": 0,
      "outputs": []
    },
    {
      "cell_type": "code",
      "metadata": {
        "id": "uNpsgTduApPm",
        "colab_type": "code",
        "colab": {
          "base_uri": "https://localhost:8080/",
          "height": 106
        },
        "outputId": "aa1df24e-82b8-4dbd-bc8a-221fed26e522"
      },
      "source": [
        "df_0914.head(2)"
      ],
      "execution_count": 396,
      "outputs": [
        {
          "output_type": "execute_result",
          "data": {
            "text/html": [
              "<div>\n",
              "<style scoped>\n",
              "    .dataframe tbody tr th:only-of-type {\n",
              "        vertical-align: middle;\n",
              "    }\n",
              "\n",
              "    .dataframe tbody tr th {\n",
              "        vertical-align: top;\n",
              "    }\n",
              "\n",
              "    .dataframe thead th {\n",
              "        text-align: right;\n",
              "    }\n",
              "</style>\n",
              "<table border=\"1\" class=\"dataframe\">\n",
              "  <thead>\n",
              "    <tr style=\"text-align: right;\">\n",
              "      <th></th>\n",
              "      <th>Year</th>\n",
              "      <th>PC name</th>\n",
              "      <th>Party Abbreviation</th>\n",
              "      <th>Position</th>\n",
              "    </tr>\n",
              "  </thead>\n",
              "  <tbody>\n",
              "    <tr>\n",
              "      <th>0</th>\n",
              "      <td>2009</td>\n",
              "      <td>Adilabad</td>\n",
              "      <td>TDP</td>\n",
              "      <td>1</td>\n",
              "    </tr>\n",
              "    <tr>\n",
              "      <th>1</th>\n",
              "      <td>2009</td>\n",
              "      <td>Adilabad</td>\n",
              "      <td>INC</td>\n",
              "      <td>2</td>\n",
              "    </tr>\n",
              "  </tbody>\n",
              "</table>\n",
              "</div>"
            ],
            "text/plain": [
              "   Year   PC name Party Abbreviation  Position\n",
              "0  2009  Adilabad                TDP         1\n",
              "1  2009  Adilabad                INC         2"
            ]
          },
          "metadata": {
            "tags": []
          },
          "execution_count": 396
        }
      ]
    },
    {
      "cell_type": "code",
      "metadata": {
        "id": "Kng8CHP1ApNb",
        "colab_type": "code",
        "colab": {
          "base_uri": "https://localhost:8080/",
          "height": 34
        },
        "outputId": "68ac3a82-0d55-4fc1-8eea-cd1cd4a6c2bf"
      },
      "source": [
        "list(df_9899.columns)"
      ],
      "execution_count": 397,
      "outputs": [
        {
          "output_type": "execute_result",
          "data": {
            "text/plain": [
              "['PC_NAME', 'YEAR', 'PARTYABBRE', 'POSITION']"
            ]
          },
          "metadata": {
            "tags": []
          },
          "execution_count": 397
        }
      ]
    },
    {
      "cell_type": "code",
      "metadata": {
        "id": "8C-DcyraApJ0",
        "colab_type": "code",
        "colab": {}
      },
      "source": [
        "df_9899=df_9899.loc[:,['YEAR','PC_NAME','PARTYABBRE', 'POSITION']]"
      ],
      "execution_count": 0,
      "outputs": []
    },
    {
      "cell_type": "code",
      "metadata": {
        "id": "xgDp6wyJApGO",
        "colab_type": "code",
        "colab": {}
      },
      "source": [
        "# Considering only Historical Results for Consideration , which Candidate got 1st Position , their Associated party and the Contituency Name.\n",
        "col=['YEAR','PC','PARTY', 'POSITION']\n",
        "df_9899.columns=col\n",
        "df_0914.columns=col\n",
        "df1=df_9899\n",
        "df2=df_0914"
      ],
      "execution_count": 0,
      "outputs": []
    },
    {
      "cell_type": "code",
      "metadata": {
        "id": "LiXEVgN6Ao83",
        "colab_type": "code",
        "colab": {
          "base_uri": "https://localhost:8080/",
          "height": 34
        },
        "outputId": "999bb994-8690-44d2-be90-1279ffbaba68"
      },
      "source": [
        "# Combining the different datasets into one\n",
        "election=pd.concat([df1,df2],ignore_index=True,sort=True)\n",
        "print(election.shape)"
      ],
      "execution_count": 400,
      "outputs": [
        {
          "output_type": "stream",
          "text": [
            "(31697, 4)\n"
          ],
          "name": "stdout"
        }
      ]
    },
    {
      "cell_type": "code",
      "metadata": {
        "id": "Txkrj2L4Ao5V",
        "colab_type": "code",
        "colab": {}
      },
      "source": [
        "# Created an Empty Dataset , which will be updated iteratively for different years.\n",
        "# Reason being , I was unable to pivot the dataset as it was giving the multiple index error. I thought of \n",
        "# hadling it year on year basis\n",
        "\n",
        "appended_data=pd.DataFrame(columns=pd.MultiIndex.from_product([['PARTY'], ['9999']],names=[None, 'YEAR']) , index=['ZZZ']).fillna(np.nan)\n",
        "appended_data.index.name='PC'\n",
        "\n",
        "# Taking only Winners' Data , iteratively for each Year\n",
        "years=list(election.YEAR.unique())\n",
        "for year in years:\n",
        "  yearly_election=election[(election.POSITION==1) & (election.YEAR==year)]\n",
        "  yearly_election=yearly_election.apply(lambda x : x.astype(str).str.upper().str.strip()) # UpperCase is done for consistency , strip for handling : 'ADILABAD ' and 'ADILABAD' like entries\n",
        "  \n",
        "  # I found duplicate contituency names , and they hindered pivoting , so dropped them (they were few in numbers , so not much data loass in dropping Ex: Amravati in MP and Maharashtra both)\n",
        "  yearly_election=yearly_election.drop(list(yearly_election[yearly_election.duplicated(['PC'])].index))\n",
        "  \n",
        "  yearly_election=yearly_election[['PARTY','PC','YEAR']]\n",
        "  yearly_election=yearly_election.pivot(index='PC', columns='YEAR')\n",
        " \n",
        "  \n",
        "  appended_data=appended_data.merge(yearly_election,how='outer',left_index=True,right_index=True)\n",
        "\n",
        "# These were added to create the similar structured dataset, coudnt think of a better way today\n",
        "appended_data.drop(columns=['9999'],level=1,inplace=True)\n",
        "appended_data.drop(index=['ZZZ'],axis=0,inplace=True)"
      ],
      "execution_count": 0,
      "outputs": []
    },
    {
      "cell_type": "code",
      "metadata": {
        "id": "aV2qOcTaAo17",
        "colab_type": "code",
        "colab": {
          "base_uri": "https://localhost:8080/",
          "height": 254
        },
        "outputId": "de29fb8a-229f-4a7b-a58c-6c4b21fdf0c4"
      },
      "source": [
        "appended_data.head()"
      ],
      "execution_count": 402,
      "outputs": [
        {
          "output_type": "execute_result",
          "data": {
            "text/html": [
              "<div>\n",
              "<style scoped>\n",
              "    .dataframe tbody tr th:only-of-type {\n",
              "        vertical-align: middle;\n",
              "    }\n",
              "\n",
              "    .dataframe tbody tr th {\n",
              "        vertical-align: top;\n",
              "    }\n",
              "\n",
              "    .dataframe thead tr th {\n",
              "        text-align: left;\n",
              "    }\n",
              "\n",
              "    .dataframe thead tr:last-of-type th {\n",
              "        text-align: right;\n",
              "    }\n",
              "</style>\n",
              "<table border=\"1\" class=\"dataframe\">\n",
              "  <thead>\n",
              "    <tr>\n",
              "      <th></th>\n",
              "      <th colspan=\"5\" halign=\"left\">PARTY</th>\n",
              "    </tr>\n",
              "    <tr>\n",
              "      <th>YEAR</th>\n",
              "      <th>1998</th>\n",
              "      <th>1999</th>\n",
              "      <th>2004</th>\n",
              "      <th>2009</th>\n",
              "      <th>2014</th>\n",
              "    </tr>\n",
              "    <tr>\n",
              "      <th>PC</th>\n",
              "      <th></th>\n",
              "      <th></th>\n",
              "      <th></th>\n",
              "      <th></th>\n",
              "      <th></th>\n",
              "    </tr>\n",
              "  </thead>\n",
              "  <tbody>\n",
              "    <tr>\n",
              "      <th>ADILABAD</th>\n",
              "      <td>TDP</td>\n",
              "      <td>TDP</td>\n",
              "      <td>TRS</td>\n",
              "      <td>TDP</td>\n",
              "      <td>TRS</td>\n",
              "    </tr>\n",
              "    <tr>\n",
              "      <th>ADOOR</th>\n",
              "      <td>CPI</td>\n",
              "      <td>INC</td>\n",
              "      <td>CPI</td>\n",
              "      <td>NaN</td>\n",
              "      <td>NaN</td>\n",
              "    </tr>\n",
              "    <tr>\n",
              "      <th>AGRA</th>\n",
              "      <td>BJP</td>\n",
              "      <td>SP</td>\n",
              "      <td>SP</td>\n",
              "      <td>BJP</td>\n",
              "      <td>BJP</td>\n",
              "    </tr>\n",
              "    <tr>\n",
              "      <th>AHMADNAGAR</th>\n",
              "      <td>NaN</td>\n",
              "      <td>NaN</td>\n",
              "      <td>NaN</td>\n",
              "      <td>BJP</td>\n",
              "      <td>BJP</td>\n",
              "    </tr>\n",
              "    <tr>\n",
              "      <th>AHMEDABAD</th>\n",
              "      <td>BJP</td>\n",
              "      <td>BJP</td>\n",
              "      <td>BJP</td>\n",
              "      <td>NaN</td>\n",
              "      <td>NaN</td>\n",
              "    </tr>\n",
              "  </tbody>\n",
              "</table>\n",
              "</div>"
            ],
            "text/plain": [
              "           PARTY                    \n",
              "YEAR        1998 1999 2004 2009 2014\n",
              "PC                                  \n",
              "ADILABAD     TDP  TDP  TRS  TDP  TRS\n",
              "ADOOR        CPI  INC  CPI  NaN  NaN\n",
              "AGRA         BJP   SP   SP  BJP  BJP\n",
              "AHMADNAGAR   NaN  NaN  NaN  BJP  BJP\n",
              "AHMEDABAD    BJP  BJP  BJP  NaN  NaN"
            ]
          },
          "metadata": {
            "tags": []
          },
          "execution_count": 402
        }
      ]
    },
    {
      "cell_type": "markdown",
      "metadata": {
        "id": "xHRamTBEONXZ",
        "colab_type": "text"
      },
      "source": [
        "**APPROACH 1**"
      ]
    },
    {
      "cell_type": "code",
      "metadata": {
        "id": "g1fLb8Y1OSwg",
        "colab_type": "code",
        "colab": {}
      },
      "source": [
        "'''\n",
        "In order to wrap it up quickly , since data issues took most of the time , I am doing it in a non recursive manner , will use more elegant methods in next update.\n",
        "I assumed that the recent winning party has more chance of winning and a party which won from a certain area in say 1998 will have exponentially low impact today.\n",
        "Since the voter age group and mindset has changed so I assume an exponential shift in it.\n",
        "\n",
        "Using Exponential Weighted Effect on the party's performance with time.\n",
        "\n",
        "There are many name changes , and sub divisions done in the parliamentary contituencies. \n",
        "Ex : 'BARODA' : Vadodara; Ahmednagar to Ahmadnagar; Ahmedabad split into ahmedabad east and west. \n",
        "'ALLEPPEY' became 'ALAPPUZHA'. Trivandrum etc.In tomorrow's results even our own Gurgaon will be called Gurugram and Allahabad as Prayagraj.\n",
        "\n",
        "To handle them , I took the Exponential weighing .\n",
        "\n",
        "'''\n",
        "from collections import Counter\n",
        "d_1998=dict(Counter(appended_data.PARTY['1998']))\n",
        "d_1999=dict(Counter(appended_data.PARTY['1999']))\n",
        "d_2004=dict(Counter(appended_data.PARTY['2004']))\n",
        "d_2009=dict(Counter(appended_data.PARTY['2009']))\n",
        "d_2014=dict(Counter(appended_data.PARTY['2014']))\n",
        "\n",
        "d_1998={k:v*2**1 for k,v in d_1998.items()}\n",
        "d_1999={k:v*2**2 for k,v in d_1999.items()}\n",
        "d_2004={k:v*2**3 for k,v in d_2004.items()}\n",
        "d_2009={k:v*2**4 for k,v in d_2009.items()}\n",
        "d_2014={k:v*2**5 for k,v in d_2014.items()}\n"
      ],
      "execution_count": 0,
      "outputs": []
    },
    {
      "cell_type": "code",
      "metadata": {
        "id": "A3uZ0sP_jE-V",
        "colab_type": "code",
        "colab": {
          "base_uri": "https://localhost:8080/",
          "height": 54
        },
        "outputId": "67a1711e-602a-4f01-dbd8-2776ecbec7f8"
      },
      "source": [
        "init_dict=[d_1998,d_1999,d_2004,d_2014]\n",
        "# sum the values with same keys \n",
        "counter = Counter() \n",
        "for d in init_dict:  \n",
        "    counter.update(d) \n",
        "      \n",
        "result = dict(counter) \n",
        "  \n",
        "  \n",
        "print(\"resultant dictionary : \", str(counter))"
      ],
      "execution_count": 404,
      "outputs": [
        {
          "output_type": "stream",
          "text": [
            "resultant dictionary :  Counter({'BJP': 11144, nan: 7544, 'INC': 3304, 'ADMK': 1260, 'AITC': 1136, 'CPM': 828, 'BJD': 786, 'SHS': 700, 'TDP': 692, 'SP': 580, 'TRS': 392, 'RJD': 382, 'NCP': 296, 'YSRCP': 288, 'SAD': 216, 'BSP': 214, 'JD(U)': 212, 'LJP': 192, 'DMK': 188, 'IND': 172, 'CPI': 146, 'AAAP': 128, 'PMK': 108, 'JKPDP': 104, 'JMM': 104, 'AIUDF': 96, 'BLSP': 96, 'JD(S)': 92, 'INLD': 84, 'RSP': 78, 'IUML': 64, 'AD': 64, 'MDMK': 54, 'AIMIM': 46, 'SDF': 46, 'NPF': 40, 'JKN': 38, 'KEC(M)': 38, 'RLD': 32, 'LJNSP': 32, 'SWP': 32, 'AINRC': 32, 'NPEP': 32, 'SAP': 24, 'AIFB': 24, 'MUL': 20, 'AGP': 16, 'SJP(R)': 14, 'WBTC': 14, 'JD': 12, 'FBL': 12, 'KEC': 12, 'RPI': 8, 'HLD(R)': 8, 'ABLTC': 8, 'BNP': 8, 'MNF': 8, 'IFDP': 8, 'NLP': 8, 'RPI(A)': 8, 'LS': 6, 'MSCP': 6, 'PWPI': 6, 'TMC(M)': 6, 'AC': 4, 'BBM': 4, 'CPI(ML)(L)': 4, 'MADMK': 4, 'SAD(M)': 4, 'HVC': 4, 'ASDC': 2, 'UMFA': 2, 'HVP': 2, 'AIIC(S)': 2, 'JP': 2, 'AIRJP': 2})\n"
          ],
          "name": "stdout"
        }
      ]
    },
    {
      "cell_type": "code",
      "metadata": {
        "id": "6WAN-TVwkpNy",
        "colab_type": "code",
        "colab": {
          "base_uri": "https://localhost:8080/",
          "height": 195
        },
        "outputId": "9aeb1fb6-7447-41f5-a1d6-8f9920eb5cd1"
      },
      "source": [
        "dict_len=len(result.keys())\n",
        "\n",
        "# Creating a dataset with PARTY and Weighted Points Calculated above.\n",
        "\n",
        "result_data=pd.DataFrame(pd.Series(result),columns=['SEATS'])\n",
        "result_data.drop(result_data.index[3],inplace=True)\n",
        "result_data.head()"
      ],
      "execution_count": 405,
      "outputs": [
        {
          "output_type": "execute_result",
          "data": {
            "text/html": [
              "<div>\n",
              "<style scoped>\n",
              "    .dataframe tbody tr th:only-of-type {\n",
              "        vertical-align: middle;\n",
              "    }\n",
              "\n",
              "    .dataframe tbody tr th {\n",
              "        vertical-align: top;\n",
              "    }\n",
              "\n",
              "    .dataframe thead th {\n",
              "        text-align: right;\n",
              "    }\n",
              "</style>\n",
              "<table border=\"1\" class=\"dataframe\">\n",
              "  <thead>\n",
              "    <tr style=\"text-align: right;\">\n",
              "      <th></th>\n",
              "      <th>SEATS</th>\n",
              "    </tr>\n",
              "  </thead>\n",
              "  <tbody>\n",
              "    <tr>\n",
              "      <th>TDP</th>\n",
              "      <td>692</td>\n",
              "    </tr>\n",
              "    <tr>\n",
              "      <th>CPI</th>\n",
              "      <td>146</td>\n",
              "    </tr>\n",
              "    <tr>\n",
              "      <th>BJP</th>\n",
              "      <td>11144</td>\n",
              "    </tr>\n",
              "    <tr>\n",
              "      <th>SHS</th>\n",
              "      <td>700</td>\n",
              "    </tr>\n",
              "    <tr>\n",
              "      <th>INC</th>\n",
              "      <td>3304</td>\n",
              "    </tr>\n",
              "  </tbody>\n",
              "</table>\n",
              "</div>"
            ],
            "text/plain": [
              "     SEATS\n",
              "TDP    692\n",
              "CPI    146\n",
              "BJP  11144\n",
              "SHS    700\n",
              "INC   3304"
            ]
          },
          "metadata": {
            "tags": []
          },
          "execution_count": 405
        }
      ]
    },
    {
      "cell_type": "code",
      "metadata": {
        "id": "A7aJo8xqoTQx",
        "colab_type": "code",
        "colab": {
          "base_uri": "https://localhost:8080/",
          "height": 1882
        },
        "outputId": "33555687-848f-4bca-b176-c924902a52d7"
      },
      "source": [
        "# Taking avg and calculating the Numebr of Seats a Party should win , according to historical data.\n",
        "\n",
        "final_result=round(result_data*543/result_data.SEATS.sum()).sort_values(by='SEATS',ascending=False)\n",
        "final_result"
      ],
      "execution_count": 406,
      "outputs": [
        {
          "output_type": "execute_result",
          "data": {
            "text/html": [
              "<div>\n",
              "<style scoped>\n",
              "    .dataframe tbody tr th:only-of-type {\n",
              "        vertical-align: middle;\n",
              "    }\n",
              "\n",
              "    .dataframe tbody tr th {\n",
              "        vertical-align: top;\n",
              "    }\n",
              "\n",
              "    .dataframe thead th {\n",
              "        text-align: right;\n",
              "    }\n",
              "</style>\n",
              "<table border=\"1\" class=\"dataframe\">\n",
              "  <thead>\n",
              "    <tr style=\"text-align: right;\">\n",
              "      <th></th>\n",
              "      <th>SEATS</th>\n",
              "    </tr>\n",
              "  </thead>\n",
              "  <tbody>\n",
              "    <tr>\n",
              "      <th>BJP</th>\n",
              "      <td>244.0</td>\n",
              "    </tr>\n",
              "    <tr>\n",
              "      <th>INC</th>\n",
              "      <td>72.0</td>\n",
              "    </tr>\n",
              "    <tr>\n",
              "      <th>ADMK</th>\n",
              "      <td>28.0</td>\n",
              "    </tr>\n",
              "    <tr>\n",
              "      <th>AITC</th>\n",
              "      <td>25.0</td>\n",
              "    </tr>\n",
              "    <tr>\n",
              "      <th>CPM</th>\n",
              "      <td>18.0</td>\n",
              "    </tr>\n",
              "    <tr>\n",
              "      <th>BJD</th>\n",
              "      <td>17.0</td>\n",
              "    </tr>\n",
              "    <tr>\n",
              "      <th>TDP</th>\n",
              "      <td>15.0</td>\n",
              "    </tr>\n",
              "    <tr>\n",
              "      <th>SHS</th>\n",
              "      <td>15.0</td>\n",
              "    </tr>\n",
              "    <tr>\n",
              "      <th>SP</th>\n",
              "      <td>13.0</td>\n",
              "    </tr>\n",
              "    <tr>\n",
              "      <th>TRS</th>\n",
              "      <td>9.0</td>\n",
              "    </tr>\n",
              "    <tr>\n",
              "      <th>RJD</th>\n",
              "      <td>8.0</td>\n",
              "    </tr>\n",
              "    <tr>\n",
              "      <th>NCP</th>\n",
              "      <td>6.0</td>\n",
              "    </tr>\n",
              "    <tr>\n",
              "      <th>YSRCP</th>\n",
              "      <td>6.0</td>\n",
              "    </tr>\n",
              "    <tr>\n",
              "      <th>JD(U)</th>\n",
              "      <td>5.0</td>\n",
              "    </tr>\n",
              "    <tr>\n",
              "      <th>BSP</th>\n",
              "      <td>5.0</td>\n",
              "    </tr>\n",
              "    <tr>\n",
              "      <th>SAD</th>\n",
              "      <td>5.0</td>\n",
              "    </tr>\n",
              "    <tr>\n",
              "      <th>DMK</th>\n",
              "      <td>4.0</td>\n",
              "    </tr>\n",
              "    <tr>\n",
              "      <th>IND</th>\n",
              "      <td>4.0</td>\n",
              "    </tr>\n",
              "    <tr>\n",
              "      <th>LJP</th>\n",
              "      <td>4.0</td>\n",
              "    </tr>\n",
              "    <tr>\n",
              "      <th>CPI</th>\n",
              "      <td>3.0</td>\n",
              "    </tr>\n",
              "    <tr>\n",
              "      <th>AAAP</th>\n",
              "      <td>3.0</td>\n",
              "    </tr>\n",
              "    <tr>\n",
              "      <th>BLSP</th>\n",
              "      <td>2.0</td>\n",
              "    </tr>\n",
              "    <tr>\n",
              "      <th>JKPDP</th>\n",
              "      <td>2.0</td>\n",
              "    </tr>\n",
              "    <tr>\n",
              "      <th>RSP</th>\n",
              "      <td>2.0</td>\n",
              "    </tr>\n",
              "    <tr>\n",
              "      <th>INLD</th>\n",
              "      <td>2.0</td>\n",
              "    </tr>\n",
              "    <tr>\n",
              "      <th>JD(S)</th>\n",
              "      <td>2.0</td>\n",
              "    </tr>\n",
              "    <tr>\n",
              "      <th>AIUDF</th>\n",
              "      <td>2.0</td>\n",
              "    </tr>\n",
              "    <tr>\n",
              "      <th>PMK</th>\n",
              "      <td>2.0</td>\n",
              "    </tr>\n",
              "    <tr>\n",
              "      <th>JMM</th>\n",
              "      <td>2.0</td>\n",
              "    </tr>\n",
              "    <tr>\n",
              "      <th>LJNSP</th>\n",
              "      <td>1.0</td>\n",
              "    </tr>\n",
              "    <tr>\n",
              "      <th>...</th>\n",
              "      <td>...</td>\n",
              "    </tr>\n",
              "    <tr>\n",
              "      <th>ASDC</th>\n",
              "      <td>0.0</td>\n",
              "    </tr>\n",
              "    <tr>\n",
              "      <th>LS</th>\n",
              "      <td>0.0</td>\n",
              "    </tr>\n",
              "    <tr>\n",
              "      <th>SJP(R)</th>\n",
              "      <td>0.0</td>\n",
              "    </tr>\n",
              "    <tr>\n",
              "      <th>AGP</th>\n",
              "      <td>0.0</td>\n",
              "    </tr>\n",
              "    <tr>\n",
              "      <th>WBTC</th>\n",
              "      <td>0.0</td>\n",
              "    </tr>\n",
              "    <tr>\n",
              "      <th>UMFA</th>\n",
              "      <td>0.0</td>\n",
              "    </tr>\n",
              "    <tr>\n",
              "      <th>RPI(A)</th>\n",
              "      <td>0.0</td>\n",
              "    </tr>\n",
              "    <tr>\n",
              "      <th>NLP</th>\n",
              "      <td>0.0</td>\n",
              "    </tr>\n",
              "    <tr>\n",
              "      <th>HVP</th>\n",
              "      <td>0.0</td>\n",
              "    </tr>\n",
              "    <tr>\n",
              "      <th>RPI</th>\n",
              "      <td>0.0</td>\n",
              "    </tr>\n",
              "    <tr>\n",
              "      <th>IFDP</th>\n",
              "      <td>0.0</td>\n",
              "    </tr>\n",
              "    <tr>\n",
              "      <th>MNF</th>\n",
              "      <td>0.0</td>\n",
              "    </tr>\n",
              "    <tr>\n",
              "      <th>JD</th>\n",
              "      <td>0.0</td>\n",
              "    </tr>\n",
              "    <tr>\n",
              "      <th>AIRJP</th>\n",
              "      <td>0.0</td>\n",
              "    </tr>\n",
              "    <tr>\n",
              "      <th>BBM</th>\n",
              "      <td>0.0</td>\n",
              "    </tr>\n",
              "    <tr>\n",
              "      <th>FBL</th>\n",
              "      <td>0.0</td>\n",
              "    </tr>\n",
              "    <tr>\n",
              "      <th>HLD(R)</th>\n",
              "      <td>0.0</td>\n",
              "    </tr>\n",
              "    <tr>\n",
              "      <th>MSCP</th>\n",
              "      <td>0.0</td>\n",
              "    </tr>\n",
              "    <tr>\n",
              "      <th>HVC</th>\n",
              "      <td>0.0</td>\n",
              "    </tr>\n",
              "    <tr>\n",
              "      <th>SAD(M)</th>\n",
              "      <td>0.0</td>\n",
              "    </tr>\n",
              "    <tr>\n",
              "      <th>MADMK</th>\n",
              "      <td>0.0</td>\n",
              "    </tr>\n",
              "    <tr>\n",
              "      <th>AIIC(S)</th>\n",
              "      <td>0.0</td>\n",
              "    </tr>\n",
              "    <tr>\n",
              "      <th>KEC</th>\n",
              "      <td>0.0</td>\n",
              "    </tr>\n",
              "    <tr>\n",
              "      <th>ABLTC</th>\n",
              "      <td>0.0</td>\n",
              "    </tr>\n",
              "    <tr>\n",
              "      <th>PWPI</th>\n",
              "      <td>0.0</td>\n",
              "    </tr>\n",
              "    <tr>\n",
              "      <th>JP</th>\n",
              "      <td>0.0</td>\n",
              "    </tr>\n",
              "    <tr>\n",
              "      <th>MUL</th>\n",
              "      <td>0.0</td>\n",
              "    </tr>\n",
              "    <tr>\n",
              "      <th>TMC(M)</th>\n",
              "      <td>0.0</td>\n",
              "    </tr>\n",
              "    <tr>\n",
              "      <th>CPI(ML)(L)</th>\n",
              "      <td>0.0</td>\n",
              "    </tr>\n",
              "    <tr>\n",
              "      <th>BNP</th>\n",
              "      <td>0.0</td>\n",
              "    </tr>\n",
              "  </tbody>\n",
              "</table>\n",
              "<p>75 rows × 1 columns</p>\n",
              "</div>"
            ],
            "text/plain": [
              "            SEATS\n",
              "BJP         244.0\n",
              "INC          72.0\n",
              "ADMK         28.0\n",
              "AITC         25.0\n",
              "CPM          18.0\n",
              "BJD          17.0\n",
              "TDP          15.0\n",
              "SHS          15.0\n",
              "SP           13.0\n",
              "TRS           9.0\n",
              "RJD           8.0\n",
              "NCP           6.0\n",
              "YSRCP         6.0\n",
              "JD(U)         5.0\n",
              "BSP           5.0\n",
              "SAD           5.0\n",
              "DMK           4.0\n",
              "IND           4.0\n",
              "LJP           4.0\n",
              "CPI           3.0\n",
              "AAAP          3.0\n",
              "BLSP          2.0\n",
              "JKPDP         2.0\n",
              "RSP           2.0\n",
              "INLD          2.0\n",
              "JD(S)         2.0\n",
              "AIUDF         2.0\n",
              "PMK           2.0\n",
              "JMM           2.0\n",
              "LJNSP         1.0\n",
              "...           ...\n",
              "ASDC          0.0\n",
              "LS            0.0\n",
              "SJP(R)        0.0\n",
              "AGP           0.0\n",
              "WBTC          0.0\n",
              "UMFA          0.0\n",
              "RPI(A)        0.0\n",
              "NLP           0.0\n",
              "HVP           0.0\n",
              "RPI           0.0\n",
              "IFDP          0.0\n",
              "MNF           0.0\n",
              "JD            0.0\n",
              "AIRJP         0.0\n",
              "BBM           0.0\n",
              "FBL           0.0\n",
              "HLD(R)        0.0\n",
              "MSCP          0.0\n",
              "HVC           0.0\n",
              "SAD(M)        0.0\n",
              "MADMK         0.0\n",
              "AIIC(S)       0.0\n",
              "KEC           0.0\n",
              "ABLTC         0.0\n",
              "PWPI          0.0\n",
              "JP            0.0\n",
              "MUL           0.0\n",
              "TMC(M)        0.0\n",
              "CPI(ML)(L)    0.0\n",
              "BNP           0.0\n",
              "\n",
              "[75 rows x 1 columns]"
            ]
          },
          "metadata": {
            "tags": []
          },
          "execution_count": 406
        }
      ]
    },
    {
      "cell_type": "markdown",
      "metadata": {
        "id": "ufwqacZM5_2d",
        "colab_type": "text"
      },
      "source": [
        "**So as per the historical analysis I can say that BJP with some major NDA allies will get below seat**\n",
        "\n",
        "**BJP   \t244.0/\n",
        "ADMK\t   28.0/\n",
        "BJD\t        17.0/\n",
        "SHS\t       15.0/\n",
        "JD(U)\t     5.0/\n",
        "SAD\t       5.0/**"
      ]
    }
  ]
}