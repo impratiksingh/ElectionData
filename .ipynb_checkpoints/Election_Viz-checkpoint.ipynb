{
 "cells": [
  {
   "cell_type": "markdown",
   "metadata": {},
   "source": [
    "# Data Preparation and Analysis"
   ]
  },
  {
   "cell_type": "code",
   "execution_count": 55,
   "metadata": {
    "colab": {
     "base_uri": "https://localhost:8080/",
     "height": 2873
    },
    "colab_type": "code",
    "id": "cRSyrTNpcU0E",
    "outputId": "88d20732-5df5-4ea9-cc8e-e86d3d2bb932"
   },
   "outputs": [],
   "source": [
    "import geopandas as gpd\n",
    "import pandas as pd\n",
    "import matplotlib.pyplot as plt\n",
    "import seaborn as sns"
   ]
  },
  {
   "cell_type": "markdown",
   "metadata": {},
   "source": [
    "# Analysing Winners"
   ]
  },
  {
   "cell_type": "code",
   "execution_count": 56,
   "metadata": {},
   "outputs": [],
   "source": [
    "winners=pd.read_csv('winners.csv')\n"
   ]
  },
  {
   "cell_type": "code",
   "execution_count": 57,
   "metadata": {},
   "outputs": [
    {
     "data": {
      "text/html": [
       "<div>\n",
       "<style scoped>\n",
       "    .dataframe tbody tr th:only-of-type {\n",
       "        vertical-align: middle;\n",
       "    }\n",
       "\n",
       "    .dataframe tbody tr th {\n",
       "        vertical-align: top;\n",
       "    }\n",
       "\n",
       "    .dataframe thead th {\n",
       "        text-align: right;\n",
       "    }\n",
       "</style>\n",
       "<table border=\"1\" class=\"dataframe\">\n",
       "  <thead>\n",
       "    <tr style=\"text-align: right;\">\n",
       "      <th></th>\n",
       "      <th>SerialNo</th>\n",
       "      <th>Candidate</th>\n",
       "      <th>Constituency</th>\n",
       "      <th>Party</th>\n",
       "      <th>CriminalCases</th>\n",
       "      <th>Education</th>\n",
       "      <th>Assest</th>\n",
       "      <th>Liabilities</th>\n",
       "    </tr>\n",
       "  </thead>\n",
       "  <tbody>\n",
       "    <tr>\n",
       "      <th>0</th>\n",
       "      <td>1</td>\n",
       "      <td>A M Ariff</td>\n",
       "      <td>ALAPPUZHA</td>\n",
       "      <td>CPI(M)</td>\n",
       "      <td>2.0</td>\n",
       "      <td>Graduate Professional</td>\n",
       "      <td>Rs 1,52,68,906</td>\n",
       "      <td>Rs 22,20,700,</td>\n",
       "    </tr>\n",
       "    <tr>\n",
       "      <th>1</th>\n",
       "      <td>2</td>\n",
       "      <td>A Narayanaswamy</td>\n",
       "      <td>CHITRADURGA</td>\n",
       "      <td>BJP</td>\n",
       "      <td>NaN</td>\n",
       "      <td>Graduate</td>\n",
       "      <td>Rs 9,61,97,642</td>\n",
       "      <td>Rs 0,</td>\n",
       "    </tr>\n",
       "    <tr>\n",
       "      <th>2</th>\n",
       "      <td>3</td>\n",
       "      <td>A. Raja</td>\n",
       "      <td>NILGIRIS</td>\n",
       "      <td>DMK</td>\n",
       "      <td>6.0</td>\n",
       "      <td>Graduate Professional</td>\n",
       "      <td>Rs 4,95,91,024</td>\n",
       "      <td>Rs 14,24,914,</td>\n",
       "    </tr>\n",
       "    <tr>\n",
       "      <th>3</th>\n",
       "      <td>4</td>\n",
       "      <td>Abdul Khaleque</td>\n",
       "      <td>BARPETA</td>\n",
       "      <td>INC</td>\n",
       "      <td>NaN</td>\n",
       "      <td>Post Graduate</td>\n",
       "      <td>Rs 73,98,753</td>\n",
       "      <td>Rs 27,03,693,</td>\n",
       "    </tr>\n",
       "    <tr>\n",
       "      <th>4</th>\n",
       "      <td>5</td>\n",
       "      <td>Abhishek Banerjee</td>\n",
       "      <td>DIAMOND HARBOUR</td>\n",
       "      <td>AITC</td>\n",
       "      <td>NaN</td>\n",
       "      <td>Graduate</td>\n",
       "      <td>Rs 1,37,94,320</td>\n",
       "      <td>Rs 0,</td>\n",
       "    </tr>\n",
       "  </tbody>\n",
       "</table>\n",
       "</div>"
      ],
      "text/plain": [
       "   SerialNo          Candidate     Constituency   Party  CriminalCases  \\\n",
       "0         1          A M Ariff        ALAPPUZHA  CPI(M)            2.0   \n",
       "1         2    A Narayanaswamy      CHITRADURGA     BJP            NaN   \n",
       "2         3            A. Raja         NILGIRIS     DMK            6.0   \n",
       "3         4     Abdul Khaleque          BARPETA     INC            NaN   \n",
       "4         5  Abhishek Banerjee  DIAMOND HARBOUR    AITC            NaN   \n",
       "\n",
       "               Education          Assest     Liabilities  \n",
       "0  Graduate Professional  Rs 1,52,68,906  Rs 22,20,700,   \n",
       "1               Graduate  Rs 9,61,97,642          Rs 0,   \n",
       "2  Graduate Professional  Rs 4,95,91,024  Rs 14,24,914,   \n",
       "3          Post Graduate    Rs 73,98,753  Rs 27,03,693,   \n",
       "4               Graduate  Rs 1,37,94,320          Rs 0,   "
      ]
     },
     "execution_count": 57,
     "metadata": {},
     "output_type": "execute_result"
    }
   ],
   "source": [
    "winners.head()"
   ]
  },
  {
   "cell_type": "code",
   "execution_count": 58,
   "metadata": {},
   "outputs": [
    {
     "data": {
      "text/plain": [
       "(539, 8)"
      ]
     },
     "execution_count": 58,
     "metadata": {},
     "output_type": "execute_result"
    }
   ],
   "source": [
    "winners.shape"
   ]
  },
  {
   "cell_type": "code",
   "execution_count": 59,
   "metadata": {},
   "outputs": [],
   "source": [
    "winners.Constituency=winners.Constituency.str.replace('-',' ')\n",
    "winners['pc_name']=winners.Constituency.str.lower()\n",
    "winners.drop('Constituency',axis=1,inplace=True)\n",
    "winners['CriminalCases'].fillna(0 , inplace=True)"
   ]
  },
  {
   "cell_type": "code",
   "execution_count": 60,
   "metadata": {},
   "outputs": [
    {
     "data": {
      "text/html": [
       "<div>\n",
       "<style scoped>\n",
       "    .dataframe tbody tr th:only-of-type {\n",
       "        vertical-align: middle;\n",
       "    }\n",
       "\n",
       "    .dataframe tbody tr th {\n",
       "        vertical-align: top;\n",
       "    }\n",
       "\n",
       "    .dataframe thead th {\n",
       "        text-align: right;\n",
       "    }\n",
       "</style>\n",
       "<table border=\"1\" class=\"dataframe\">\n",
       "  <thead>\n",
       "    <tr style=\"text-align: right;\">\n",
       "      <th></th>\n",
       "      <th>SerialNo</th>\n",
       "      <th>Candidate</th>\n",
       "      <th>Party</th>\n",
       "      <th>CriminalCases</th>\n",
       "      <th>Education</th>\n",
       "      <th>Assest</th>\n",
       "      <th>Liabilities</th>\n",
       "      <th>pc_name</th>\n",
       "    </tr>\n",
       "  </thead>\n",
       "  <tbody>\n",
       "    <tr>\n",
       "      <th>0</th>\n",
       "      <td>1</td>\n",
       "      <td>A M Ariff</td>\n",
       "      <td>CPI(M)</td>\n",
       "      <td>2.0</td>\n",
       "      <td>Graduate Professional</td>\n",
       "      <td>Rs 1,52,68,906</td>\n",
       "      <td>Rs 22,20,700,</td>\n",
       "      <td>alappuzha</td>\n",
       "    </tr>\n",
       "    <tr>\n",
       "      <th>1</th>\n",
       "      <td>2</td>\n",
       "      <td>A Narayanaswamy</td>\n",
       "      <td>BJP</td>\n",
       "      <td>0.0</td>\n",
       "      <td>Graduate</td>\n",
       "      <td>Rs 9,61,97,642</td>\n",
       "      <td>Rs 0,</td>\n",
       "      <td>chitradurga</td>\n",
       "    </tr>\n",
       "    <tr>\n",
       "      <th>2</th>\n",
       "      <td>3</td>\n",
       "      <td>A. Raja</td>\n",
       "      <td>DMK</td>\n",
       "      <td>6.0</td>\n",
       "      <td>Graduate Professional</td>\n",
       "      <td>Rs 4,95,91,024</td>\n",
       "      <td>Rs 14,24,914,</td>\n",
       "      <td>nilgiris</td>\n",
       "    </tr>\n",
       "    <tr>\n",
       "      <th>3</th>\n",
       "      <td>4</td>\n",
       "      <td>Abdul Khaleque</td>\n",
       "      <td>INC</td>\n",
       "      <td>0.0</td>\n",
       "      <td>Post Graduate</td>\n",
       "      <td>Rs 73,98,753</td>\n",
       "      <td>Rs 27,03,693,</td>\n",
       "      <td>barpeta</td>\n",
       "    </tr>\n",
       "    <tr>\n",
       "      <th>4</th>\n",
       "      <td>5</td>\n",
       "      <td>Abhishek Banerjee</td>\n",
       "      <td>AITC</td>\n",
       "      <td>0.0</td>\n",
       "      <td>Graduate</td>\n",
       "      <td>Rs 1,37,94,320</td>\n",
       "      <td>Rs 0,</td>\n",
       "      <td>diamond harbour</td>\n",
       "    </tr>\n",
       "  </tbody>\n",
       "</table>\n",
       "</div>"
      ],
      "text/plain": [
       "   SerialNo          Candidate   Party  CriminalCases              Education  \\\n",
       "0         1          A M Ariff  CPI(M)            2.0  Graduate Professional   \n",
       "1         2    A Narayanaswamy     BJP            0.0               Graduate   \n",
       "2         3            A. Raja     DMK            6.0  Graduate Professional   \n",
       "3         4     Abdul Khaleque     INC            0.0          Post Graduate   \n",
       "4         5  Abhishek Banerjee    AITC            0.0               Graduate   \n",
       "\n",
       "           Assest     Liabilities          pc_name  \n",
       "0  Rs 1,52,68,906  Rs 22,20,700,         alappuzha  \n",
       "1  Rs 9,61,97,642          Rs 0,       chitradurga  \n",
       "2  Rs 4,95,91,024  Rs 14,24,914,          nilgiris  \n",
       "3    Rs 73,98,753  Rs 27,03,693,           barpeta  \n",
       "4  Rs 1,37,94,320          Rs 0,   diamond harbour  "
      ]
     },
     "execution_count": 60,
     "metadata": {},
     "output_type": "execute_result"
    }
   ],
   "source": [
    "winners.head()"
   ]
  },
  {
   "cell_type": "code",
   "execution_count": null,
   "metadata": {},
   "outputs": [],
   "source": []
  },
  {
   "cell_type": "code",
   "execution_count": null,
   "metadata": {},
   "outputs": [],
   "source": []
  },
  {
   "cell_type": "code",
   "execution_count": 35,
   "metadata": {},
   "outputs": [
    {
     "data": {
      "text/plain": [
       "0       (1, 5]\n",
       "1          NaN\n",
       "2      (5, 25]\n",
       "3          NaN\n",
       "4          NaN\n",
       "5          NaN\n",
       "6       (1, 5]\n",
       "7          NaN\n",
       "8          NaN\n",
       "9      (5, 25]\n",
       "10     (5, 25]\n",
       "11      (1, 5]\n",
       "12         NaN\n",
       "13         NaN\n",
       "14      (0, 1]\n",
       "15         NaN\n",
       "16      (0, 1]\n",
       "17         NaN\n",
       "18         NaN\n",
       "19         NaN\n",
       "20         NaN\n",
       "21         NaN\n",
       "22      (1, 5]\n",
       "23         NaN\n",
       "24      (1, 5]\n",
       "25         NaN\n",
       "26         NaN\n",
       "27         NaN\n",
       "28         NaN\n",
       "29         NaN\n",
       "        ...   \n",
       "509        NaN\n",
       "510     (0, 1]\n",
       "511        NaN\n",
       "512     (0, 1]\n",
       "513     (0, 1]\n",
       "514    (5, 25]\n",
       "515        NaN\n",
       "516        NaN\n",
       "517        NaN\n",
       "518        NaN\n",
       "519     (1, 5]\n",
       "520        NaN\n",
       "521        NaN\n",
       "522        NaN\n",
       "523        NaN\n",
       "524     (1, 5]\n",
       "525     (1, 5]\n",
       "526        NaN\n",
       "527     (1, 5]\n",
       "528     (1, 5]\n",
       "529        NaN\n",
       "530     (1, 5]\n",
       "531        NaN\n",
       "532     (1, 5]\n",
       "533        NaN\n",
       "534        NaN\n",
       "535     (0, 1]\n",
       "536        NaN\n",
       "537        NaN\n",
       "538     (1, 5]\n",
       "Name: CriminalCases, Length: 539, dtype: category\n",
       "Categories (4, interval[int64]): [(0, 1] < (1, 5] < (5, 25] < (25, 100]]"
      ]
     },
     "execution_count": 35,
     "metadata": {},
     "output_type": "execute_result"
    }
   ],
   "source": [
    "pd.cut(winners['CriminalCases'],[0,1,5,25,100])"
   ]
  },
  {
   "cell_type": "code",
   "execution_count": null,
   "metadata": {},
   "outputs": [],
   "source": []
  },
  {
   "cell_type": "code",
   "execution_count": null,
   "metadata": {},
   "outputs": [],
   "source": []
  },
  {
   "cell_type": "code",
   "execution_count": 61,
   "metadata": {},
   "outputs": [
    {
     "data": {
      "text/plain": [
       "536"
      ]
     },
     "execution_count": 61,
     "metadata": {},
     "output_type": "execute_result"
    }
   ],
   "source": [
    "len(winners.pc_name.unique())"
   ]
  },
  {
   "cell_type": "code",
   "execution_count": 62,
   "metadata": {},
   "outputs": [
    {
     "data": {
      "text/html": [
       "<div>\n",
       "<style scoped>\n",
       "    .dataframe tbody tr th:only-of-type {\n",
       "        vertical-align: middle;\n",
       "    }\n",
       "\n",
       "    .dataframe tbody tr th {\n",
       "        vertical-align: top;\n",
       "    }\n",
       "\n",
       "    .dataframe thead th {\n",
       "        text-align: right;\n",
       "    }\n",
       "</style>\n",
       "<table border=\"1\" class=\"dataframe\">\n",
       "  <thead>\n",
       "    <tr style=\"text-align: right;\">\n",
       "      <th></th>\n",
       "      <th>SerialNo</th>\n",
       "      <th>Candidate</th>\n",
       "      <th>Party</th>\n",
       "      <th>CriminalCases</th>\n",
       "      <th>Education</th>\n",
       "      <th>Assest</th>\n",
       "      <th>Liabilities</th>\n",
       "      <th>pc_name</th>\n",
       "    </tr>\n",
       "  </thead>\n",
       "  <tbody>\n",
       "    <tr>\n",
       "      <th>35</th>\n",
       "      <td>36</td>\n",
       "      <td>Anurag Singh Thakur</td>\n",
       "      <td>BJP</td>\n",
       "      <td>3.0</td>\n",
       "      <td>Graduate</td>\n",
       "      <td>Rs 5,67,70,463</td>\n",
       "      <td>Rs 10,85,145,</td>\n",
       "      <td>hamirpur</td>\n",
       "    </tr>\n",
       "    <tr>\n",
       "      <th>197</th>\n",
       "      <td>198</td>\n",
       "      <td>Imtiaz Jaleel Syed</td>\n",
       "      <td>AIMIM</td>\n",
       "      <td>4.0</td>\n",
       "      <td>Post Graduate</td>\n",
       "      <td>Rs 2,95,62,768</td>\n",
       "      <td>Rs 68,00,000,</td>\n",
       "      <td>aurangabad</td>\n",
       "    </tr>\n",
       "    <tr>\n",
       "      <th>204</th>\n",
       "      <td>205</td>\n",
       "      <td>Janardan Singh Sigriwal</td>\n",
       "      <td>BJP</td>\n",
       "      <td>5.0</td>\n",
       "      <td>Graduate</td>\n",
       "      <td>Rs 1,04,51,986</td>\n",
       "      <td>Rs 3,76,000,</td>\n",
       "      <td>maharajganj</td>\n",
       "    </tr>\n",
       "    <tr>\n",
       "      <th>257</th>\n",
       "      <td>258</td>\n",
       "      <td>Kunwar Pushpendra Singh</td>\n",
       "      <td>BJP</td>\n",
       "      <td>4.0</td>\n",
       "      <td>Post Graduate</td>\n",
       "      <td>Rs 16,71,59,924</td>\n",
       "      <td>Rs 3,55,02,582,</td>\n",
       "      <td>hamirpur</td>\n",
       "    </tr>\n",
       "    <tr>\n",
       "      <th>323</th>\n",
       "      <td>324</td>\n",
       "      <td>Pankaj Choudhary</td>\n",
       "      <td>BJP</td>\n",
       "      <td>5.0</td>\n",
       "      <td>12th Pass</td>\n",
       "      <td>Rs 37,18,27,109</td>\n",
       "      <td>Rs 44,83,048,</td>\n",
       "      <td>maharajganj</td>\n",
       "    </tr>\n",
       "    <tr>\n",
       "      <th>496</th>\n",
       "      <td>497</td>\n",
       "      <td>Sushil Kumar Singh</td>\n",
       "      <td>BJP</td>\n",
       "      <td>3.0</td>\n",
       "      <td>Post Graduate</td>\n",
       "      <td>Rs 16,78,95,109</td>\n",
       "      <td>Rs 37,46,607,</td>\n",
       "      <td>aurangabad</td>\n",
       "    </tr>\n",
       "  </tbody>\n",
       "</table>\n",
       "</div>"
      ],
      "text/plain": [
       "     SerialNo                Candidate  Party  CriminalCases      Education  \\\n",
       "35         36      Anurag Singh Thakur    BJP            3.0       Graduate   \n",
       "197       198       Imtiaz Jaleel Syed  AIMIM            4.0  Post Graduate   \n",
       "204       205  Janardan Singh Sigriwal    BJP            5.0       Graduate   \n",
       "257       258  Kunwar Pushpendra Singh    BJP            4.0  Post Graduate   \n",
       "323       324         Pankaj Choudhary    BJP            5.0      12th Pass   \n",
       "496       497       Sushil Kumar Singh    BJP            3.0  Post Graduate   \n",
       "\n",
       "              Assest       Liabilities      pc_name  \n",
       "35    Rs 5,67,70,463    Rs 10,85,145,      hamirpur  \n",
       "197   Rs 2,95,62,768    Rs 68,00,000,    aurangabad  \n",
       "204   Rs 1,04,51,986     Rs 3,76,000,   maharajganj  \n",
       "257  Rs 16,71,59,924  Rs 3,55,02,582,      hamirpur  \n",
       "323  Rs 37,18,27,109    Rs 44,83,048,   maharajganj  \n",
       "496  Rs 16,78,95,109    Rs 37,46,607,    aurangabad  "
      ]
     },
     "execution_count": 62,
     "metadata": {},
     "output_type": "execute_result"
    }
   ],
   "source": [
    "winners[winners['pc_name'].duplicated(keep=False)]"
   ]
  },
  {
   "cell_type": "code",
   "execution_count": 63,
   "metadata": {},
   "outputs": [],
   "source": [
    "unique_winner_pc=list(winners.pc_name.unique())"
   ]
  },
  {
   "cell_type": "code",
   "execution_count": 64,
   "metadata": {},
   "outputs": [
    {
     "data": {
      "text/html": [
       "<div>\n",
       "<style scoped>\n",
       "    .dataframe tbody tr th:only-of-type {\n",
       "        vertical-align: middle;\n",
       "    }\n",
       "\n",
       "    .dataframe tbody tr th {\n",
       "        vertical-align: top;\n",
       "    }\n",
       "\n",
       "    .dataframe thead th {\n",
       "        text-align: right;\n",
       "    }\n",
       "</style>\n",
       "<table border=\"1\" class=\"dataframe\">\n",
       "  <thead>\n",
       "    <tr style=\"text-align: right;\">\n",
       "      <th></th>\n",
       "      <th>SerialNo</th>\n",
       "      <th>Candidate</th>\n",
       "      <th>Party</th>\n",
       "      <th>CriminalCases</th>\n",
       "      <th>Education</th>\n",
       "      <th>Assest</th>\n",
       "      <th>Liabilities</th>\n",
       "      <th>pc_name</th>\n",
       "    </tr>\n",
       "  </thead>\n",
       "  <tbody>\n",
       "  </tbody>\n",
       "</table>\n",
       "</div>"
      ],
      "text/plain": [
       "Empty DataFrame\n",
       "Columns: [SerialNo, Candidate, Party, CriminalCases, Education, Assest, Liabilities, pc_name]\n",
       "Index: []"
      ]
     },
     "execution_count": 64,
     "metadata": {},
     "output_type": "execute_result"
    }
   ],
   "source": [
    "winners[winners.pc_name.str.strip()=='akbarpur']"
   ]
  },
  {
   "cell_type": "markdown",
   "metadata": {},
   "source": [
    "# Analysing Geo Data"
   ]
  },
  {
   "cell_type": "code",
   "execution_count": 65,
   "metadata": {
    "colab": {
     "base_uri": "https://localhost:8080/",
     "height": 279
    },
    "colab_type": "code",
    "id": "K67Lu-4ucZAl",
    "outputId": "3ec9bdf9-a333-4d79-8eb6-1f6106245e5e"
   },
   "outputs": [
    {
     "data": {
      "text/html": [
       "<div>\n",
       "<style scoped>\n",
       "    .dataframe tbody tr th:only-of-type {\n",
       "        vertical-align: middle;\n",
       "    }\n",
       "\n",
       "    .dataframe tbody tr th {\n",
       "        vertical-align: top;\n",
       "    }\n",
       "\n",
       "    .dataframe thead th {\n",
       "        text-align: right;\n",
       "    }\n",
       "</style>\n",
       "<table border=\"1\" class=\"dataframe\">\n",
       "  <thead>\n",
       "    <tr style=\"text-align: right;\">\n",
       "      <th></th>\n",
       "      <th>pc_id</th>\n",
       "      <th>st_code</th>\n",
       "      <th>st_name</th>\n",
       "      <th>pc_no</th>\n",
       "      <th>pc_name</th>\n",
       "      <th>pc_name_hi</th>\n",
       "      <th>pc_category</th>\n",
       "      <th>wikidata_qid</th>\n",
       "      <th>status</th>\n",
       "      <th>2019_election_phase</th>\n",
       "      <th>2019_election_date</th>\n",
       "      <th>geometry</th>\n",
       "    </tr>\n",
       "  </thead>\n",
       "  <tbody>\n",
       "    <tr>\n",
       "      <th>0</th>\n",
       "      <td>201</td>\n",
       "      <td>2</td>\n",
       "      <td>Himachal Pradesh</td>\n",
       "      <td>1</td>\n",
       "      <td>Kangra</td>\n",
       "      <td>कांगड़ा</td>\n",
       "      <td>GEN</td>\n",
       "      <td>Q6362861</td>\n",
       "      <td>None</td>\n",
       "      <td>7</td>\n",
       "      <td>2019-05-19</td>\n",
       "      <td>(POLYGON ((76.577 33.206, 76.598 33.204, 76.61...</td>\n",
       "    </tr>\n",
       "    <tr>\n",
       "      <th>1</th>\n",
       "      <td>202</td>\n",
       "      <td>2</td>\n",
       "      <td>Himachal Pradesh</td>\n",
       "      <td>2</td>\n",
       "      <td>Mandi</td>\n",
       "      <td>मंडी</td>\n",
       "      <td>GEN</td>\n",
       "      <td>Q6748042</td>\n",
       "      <td>None</td>\n",
       "      <td>7</td>\n",
       "      <td>2019-05-19</td>\n",
       "      <td>(POLYGON ((76.795 33.256, 76.81999999999999 33...</td>\n",
       "    </tr>\n",
       "    <tr>\n",
       "      <th>2</th>\n",
       "      <td>203</td>\n",
       "      <td>2</td>\n",
       "      <td>Himachal Pradesh</td>\n",
       "      <td>3</td>\n",
       "      <td>Hamirpur</td>\n",
       "      <td>हमीरपुर</td>\n",
       "      <td>GEN</td>\n",
       "      <td>Q5645333</td>\n",
       "      <td>None</td>\n",
       "      <td>7</td>\n",
       "      <td>2019-05-19</td>\n",
       "      <td>(POLYGON ((76.02 32.14, 76.04300000000001 32.0...</td>\n",
       "    </tr>\n",
       "    <tr>\n",
       "      <th>3</th>\n",
       "      <td>204</td>\n",
       "      <td>2</td>\n",
       "      <td>Himachal Pradesh</td>\n",
       "      <td>4</td>\n",
       "      <td>Shimla</td>\n",
       "      <td>शिमला</td>\n",
       "      <td>SC</td>\n",
       "      <td>Q7496887</td>\n",
       "      <td>None</td>\n",
       "      <td>7</td>\n",
       "      <td>2019-05-19</td>\n",
       "      <td>(POLYGON ((78.09399999999999 31.419, 78.162000...</td>\n",
       "    </tr>\n",
       "    <tr>\n",
       "      <th>4</th>\n",
       "      <td>301</td>\n",
       "      <td>3</td>\n",
       "      <td>Punjab</td>\n",
       "      <td>1</td>\n",
       "      <td>Gurdaspur</td>\n",
       "      <td>गुरदासपुर</td>\n",
       "      <td>GEN</td>\n",
       "      <td>Q5619909</td>\n",
       "      <td>None</td>\n",
       "      <td>7</td>\n",
       "      <td>2019-05-19</td>\n",
       "      <td>(POLYGON ((75.843 32.503, 75.902 32.453, 75.93...</td>\n",
       "    </tr>\n",
       "  </tbody>\n",
       "</table>\n",
       "</div>"
      ],
      "text/plain": [
       "   pc_id  st_code           st_name  pc_no    pc_name pc_name_hi pc_category  \\\n",
       "0    201        2  Himachal Pradesh      1     Kangra    कांगड़ा         GEN   \n",
       "1    202        2  Himachal Pradesh      2      Mandi       मंडी         GEN   \n",
       "2    203        2  Himachal Pradesh      3   Hamirpur    हमीरपुर         GEN   \n",
       "3    204        2  Himachal Pradesh      4     Shimla      शिमला          SC   \n",
       "4    301        3            Punjab      1  Gurdaspur  गुरदासपुर         GEN   \n",
       "\n",
       "  wikidata_qid status  2019_election_phase 2019_election_date  \\\n",
       "0     Q6362861   None                    7         2019-05-19   \n",
       "1     Q6748042   None                    7         2019-05-19   \n",
       "2     Q5645333   None                    7         2019-05-19   \n",
       "3     Q7496887   None                    7         2019-05-19   \n",
       "4     Q5619909   None                    7         2019-05-19   \n",
       "\n",
       "                                            geometry  \n",
       "0  (POLYGON ((76.577 33.206, 76.598 33.204, 76.61...  \n",
       "1  (POLYGON ((76.795 33.256, 76.81999999999999 33...  \n",
       "2  (POLYGON ((76.02 32.14, 76.04300000000001 32.0...  \n",
       "3  (POLYGON ((78.09399999999999 31.419, 78.162000...  \n",
       "4  (POLYGON ((75.843 32.503, 75.902 32.453, 75.93...  "
      ]
     },
     "execution_count": 65,
     "metadata": {},
     "output_type": "execute_result"
    }
   ],
   "source": [
    "geo_data=gpd.read_file('india_pc_2019_simplified.geojson')\n",
    "geo_data.head()"
   ]
  },
  {
   "cell_type": "code",
   "execution_count": 66,
   "metadata": {
    "colab": {},
    "colab_type": "code",
    "id": "WId76-jClukG"
   },
   "outputs": [],
   "source": [
    "geo_data.pc_name=geo_data.pc_name.str.replace('-',' ')\n",
    "geo_data.pc_name=geo_data.pc_name.str.lower()"
   ]
  },
  {
   "cell_type": "code",
   "execution_count": 67,
   "metadata": {
    "colab": {
     "base_uri": "https://localhost:8080/",
     "height": 279
    },
    "colab_type": "code",
    "id": "26nIQBj-5ihp",
    "outputId": "c1073ee5-366f-477a-edae-a69e90a78c55"
   },
   "outputs": [
    {
     "data": {
      "text/html": [
       "<div>\n",
       "<style scoped>\n",
       "    .dataframe tbody tr th:only-of-type {\n",
       "        vertical-align: middle;\n",
       "    }\n",
       "\n",
       "    .dataframe tbody tr th {\n",
       "        vertical-align: top;\n",
       "    }\n",
       "\n",
       "    .dataframe thead th {\n",
       "        text-align: right;\n",
       "    }\n",
       "</style>\n",
       "<table border=\"1\" class=\"dataframe\">\n",
       "  <thead>\n",
       "    <tr style=\"text-align: right;\">\n",
       "      <th></th>\n",
       "      <th>pc_id</th>\n",
       "      <th>st_code</th>\n",
       "      <th>st_name</th>\n",
       "      <th>pc_no</th>\n",
       "      <th>pc_name</th>\n",
       "      <th>pc_name_hi</th>\n",
       "      <th>pc_category</th>\n",
       "      <th>wikidata_qid</th>\n",
       "      <th>status</th>\n",
       "      <th>2019_election_phase</th>\n",
       "      <th>2019_election_date</th>\n",
       "      <th>geometry</th>\n",
       "    </tr>\n",
       "  </thead>\n",
       "  <tbody>\n",
       "    <tr>\n",
       "      <th>0</th>\n",
       "      <td>201</td>\n",
       "      <td>2</td>\n",
       "      <td>Himachal Pradesh</td>\n",
       "      <td>1</td>\n",
       "      <td>kangra</td>\n",
       "      <td>कांगड़ा</td>\n",
       "      <td>GEN</td>\n",
       "      <td>Q6362861</td>\n",
       "      <td>None</td>\n",
       "      <td>7</td>\n",
       "      <td>2019-05-19</td>\n",
       "      <td>(POLYGON ((76.577 33.206, 76.598 33.204, 76.61...</td>\n",
       "    </tr>\n",
       "    <tr>\n",
       "      <th>1</th>\n",
       "      <td>202</td>\n",
       "      <td>2</td>\n",
       "      <td>Himachal Pradesh</td>\n",
       "      <td>2</td>\n",
       "      <td>mandi</td>\n",
       "      <td>मंडी</td>\n",
       "      <td>GEN</td>\n",
       "      <td>Q6748042</td>\n",
       "      <td>None</td>\n",
       "      <td>7</td>\n",
       "      <td>2019-05-19</td>\n",
       "      <td>(POLYGON ((76.795 33.256, 76.81999999999999 33...</td>\n",
       "    </tr>\n",
       "    <tr>\n",
       "      <th>2</th>\n",
       "      <td>203</td>\n",
       "      <td>2</td>\n",
       "      <td>Himachal Pradesh</td>\n",
       "      <td>3</td>\n",
       "      <td>hamirpur</td>\n",
       "      <td>हमीरपुर</td>\n",
       "      <td>GEN</td>\n",
       "      <td>Q5645333</td>\n",
       "      <td>None</td>\n",
       "      <td>7</td>\n",
       "      <td>2019-05-19</td>\n",
       "      <td>(POLYGON ((76.02 32.14, 76.04300000000001 32.0...</td>\n",
       "    </tr>\n",
       "    <tr>\n",
       "      <th>3</th>\n",
       "      <td>204</td>\n",
       "      <td>2</td>\n",
       "      <td>Himachal Pradesh</td>\n",
       "      <td>4</td>\n",
       "      <td>shimla</td>\n",
       "      <td>शिमला</td>\n",
       "      <td>SC</td>\n",
       "      <td>Q7496887</td>\n",
       "      <td>None</td>\n",
       "      <td>7</td>\n",
       "      <td>2019-05-19</td>\n",
       "      <td>(POLYGON ((78.09399999999999 31.419, 78.162000...</td>\n",
       "    </tr>\n",
       "    <tr>\n",
       "      <th>4</th>\n",
       "      <td>301</td>\n",
       "      <td>3</td>\n",
       "      <td>Punjab</td>\n",
       "      <td>1</td>\n",
       "      <td>gurdaspur</td>\n",
       "      <td>गुरदासपुर</td>\n",
       "      <td>GEN</td>\n",
       "      <td>Q5619909</td>\n",
       "      <td>None</td>\n",
       "      <td>7</td>\n",
       "      <td>2019-05-19</td>\n",
       "      <td>(POLYGON ((75.843 32.503, 75.902 32.453, 75.93...</td>\n",
       "    </tr>\n",
       "  </tbody>\n",
       "</table>\n",
       "</div>"
      ],
      "text/plain": [
       "   pc_id  st_code           st_name  pc_no    pc_name pc_name_hi pc_category  \\\n",
       "0    201        2  Himachal Pradesh      1     kangra    कांगड़ा         GEN   \n",
       "1    202        2  Himachal Pradesh      2      mandi       मंडी         GEN   \n",
       "2    203        2  Himachal Pradesh      3   hamirpur    हमीरपुर         GEN   \n",
       "3    204        2  Himachal Pradesh      4     shimla      शिमला          SC   \n",
       "4    301        3            Punjab      1  gurdaspur  गुरदासपुर         GEN   \n",
       "\n",
       "  wikidata_qid status  2019_election_phase 2019_election_date  \\\n",
       "0     Q6362861   None                    7         2019-05-19   \n",
       "1     Q6748042   None                    7         2019-05-19   \n",
       "2     Q5645333   None                    7         2019-05-19   \n",
       "3     Q7496887   None                    7         2019-05-19   \n",
       "4     Q5619909   None                    7         2019-05-19   \n",
       "\n",
       "                                            geometry  \n",
       "0  (POLYGON ((76.577 33.206, 76.598 33.204, 76.61...  \n",
       "1  (POLYGON ((76.795 33.256, 76.81999999999999 33...  \n",
       "2  (POLYGON ((76.02 32.14, 76.04300000000001 32.0...  \n",
       "3  (POLYGON ((78.09399999999999 31.419, 78.162000...  \n",
       "4  (POLYGON ((75.843 32.503, 75.902 32.453, 75.93...  "
      ]
     },
     "execution_count": 67,
     "metadata": {},
     "output_type": "execute_result"
    }
   ],
   "source": [
    "geo_data.head()"
   ]
  },
  {
   "cell_type": "code",
   "execution_count": 68,
   "metadata": {
    "colab": {
     "base_uri": "https://localhost:8080/",
     "height": 286
    },
    "colab_type": "code",
    "id": "ko8wMnS-cY9P",
    "outputId": "c1bdd13a-3619-44be-974c-3a246242aac3"
   },
   "outputs": [
    {
     "data": {
      "text/plain": [
       "<matplotlib.axes._subplots.AxesSubplot at 0x248f6c65240>"
      ]
     },
     "execution_count": 68,
     "metadata": {},
     "output_type": "execute_result"
    },
    {
     "data": {
      "image/png": "[encoded data removed]",
      "text/plain": [
       "<Figure size 432x288 with 1 Axes>"
      ]
     },
     "metadata": {
      "needs_background": "light"
     },
     "output_type": "display_data"
    }
   ],
   "source": [
    "geo_data.plot(column='pc_name')\n"
   ]
  },
  {
   "cell_type": "code",
   "execution_count": 69,
   "metadata": {
    "colab": {
     "base_uri": "https://localhost:8080/",
     "height": 34
    },
    "colab_type": "code",
    "id": "dh_zapFHcY0L",
    "outputId": "714f1730-88ce-4820-af7f-831d56fa7283"
   },
   "outputs": [
    {
     "data": {
      "text/plain": [
       "(543, 12)"
      ]
     },
     "execution_count": 69,
     "metadata": {},
     "output_type": "execute_result"
    }
   ],
   "source": [
    "geo_data.shape"
   ]
  },
  {
   "cell_type": "code",
   "execution_count": 70,
   "metadata": {
    "colab": {
     "base_uri": "https://localhost:8080/",
     "height": 34
    },
    "colab_type": "code",
    "id": "rUyZaUWQiJ1F",
    "outputId": "dc32369f-1109-4bd9-9714-787be759dfaf"
   },
   "outputs": [
    {
     "data": {
      "text/plain": [
       "543"
      ]
     },
     "execution_count": 70,
     "metadata": {},
     "output_type": "execute_result"
    }
   ],
   "source": [
    "len(geo_data.pc_name)"
   ]
  },
  {
   "cell_type": "code",
   "execution_count": 71,
   "metadata": {
    "colab": {},
    "colab_type": "code",
    "id": "QFS0tNU1cYoA"
   },
   "outputs": [],
   "source": [
    "unique_geo_pc=list(geo_data.pc_name.unique())"
   ]
  },
  {
   "cell_type": "code",
   "execution_count": 72,
   "metadata": {},
   "outputs": [
    {
     "data": {
      "text/plain": [
       "539"
      ]
     },
     "execution_count": 72,
     "metadata": {},
     "output_type": "execute_result"
    }
   ],
   "source": [
    "len(unique_geo_pc)"
   ]
  },
  {
   "cell_type": "code",
   "execution_count": 73,
   "metadata": {
    "colab": {},
    "colab_type": "code",
    "id": "K_6v7fM8cYlH"
   },
   "outputs": [
    {
     "data": {
      "text/html": [
       "<div>\n",
       "<style scoped>\n",
       "    .dataframe tbody tr th:only-of-type {\n",
       "        vertical-align: middle;\n",
       "    }\n",
       "\n",
       "    .dataframe tbody tr th {\n",
       "        vertical-align: top;\n",
       "    }\n",
       "\n",
       "    .dataframe thead th {\n",
       "        text-align: right;\n",
       "    }\n",
       "</style>\n",
       "<table border=\"1\" class=\"dataframe\">\n",
       "  <thead>\n",
       "    <tr style=\"text-align: right;\">\n",
       "      <th></th>\n",
       "      <th>pc_id</th>\n",
       "      <th>st_code</th>\n",
       "      <th>st_name</th>\n",
       "      <th>pc_no</th>\n",
       "      <th>pc_name</th>\n",
       "      <th>pc_name_hi</th>\n",
       "      <th>pc_category</th>\n",
       "      <th>wikidata_qid</th>\n",
       "      <th>status</th>\n",
       "      <th>2019_election_phase</th>\n",
       "      <th>2019_election_date</th>\n",
       "      <th>geometry</th>\n",
       "    </tr>\n",
       "  </thead>\n",
       "  <tbody>\n",
       "    <tr>\n",
       "      <th>2</th>\n",
       "      <td>203</td>\n",
       "      <td>2</td>\n",
       "      <td>Himachal Pradesh</td>\n",
       "      <td>3</td>\n",
       "      <td>hamirpur</td>\n",
       "      <td>हमीरपुर</td>\n",
       "      <td>GEN</td>\n",
       "      <td>Q5645333</td>\n",
       "      <td>None</td>\n",
       "      <td>7</td>\n",
       "      <td>2019-05-19</td>\n",
       "      <td>(POLYGON ((76.02 32.14, 76.04300000000001 32.0...</td>\n",
       "    </tr>\n",
       "    <tr>\n",
       "      <th>118</th>\n",
       "      <td>947</td>\n",
       "      <td>9</td>\n",
       "      <td>Uttar Pradesh</td>\n",
       "      <td>47</td>\n",
       "      <td>hamirpur</td>\n",
       "      <td>हमीरपुर</td>\n",
       "      <td>GEN</td>\n",
       "      <td>Q5645332</td>\n",
       "      <td>None</td>\n",
       "      <td>4</td>\n",
       "      <td>2019-04-29</td>\n",
       "      <td>(POLYGON ((79.36499999999999 25.171, 79.354 25...</td>\n",
       "    </tr>\n",
       "    <tr>\n",
       "      <th>134</th>\n",
       "      <td>963</td>\n",
       "      <td>9</td>\n",
       "      <td>Uttar Pradesh</td>\n",
       "      <td>63</td>\n",
       "      <td>maharajganj</td>\n",
       "      <td>महाराजगंज</td>\n",
       "      <td>GEN</td>\n",
       "      <td>Q6733274</td>\n",
       "      <td>None</td>\n",
       "      <td>7</td>\n",
       "      <td>2019-05-19</td>\n",
       "      <td>(POLYGON ((83.617 27.468, 83.831 27.369, 83.86...</td>\n",
       "    </tr>\n",
       "    <tr>\n",
       "      <th>170</th>\n",
       "      <td>1019</td>\n",
       "      <td>10</td>\n",
       "      <td>Bihar</td>\n",
       "      <td>19</td>\n",
       "      <td>maharajganj</td>\n",
       "      <td>महराजगंज</td>\n",
       "      <td>GEN</td>\n",
       "      <td>Q6733273</td>\n",
       "      <td>None</td>\n",
       "      <td>6</td>\n",
       "      <td>2019-05-12</td>\n",
       "      <td>(POLYGON ((84.592 26.314, 84.654 26.299, 84.65...</td>\n",
       "    </tr>\n",
       "    <tr>\n",
       "      <th>180</th>\n",
       "      <td>1037</td>\n",
       "      <td>10</td>\n",
       "      <td>Bihar</td>\n",
       "      <td>37</td>\n",
       "      <td>aurangabad</td>\n",
       "      <td>औरंगाबाद</td>\n",
       "      <td>GEN</td>\n",
       "      <td>Q4822111</td>\n",
       "      <td>None</td>\n",
       "      <td>1</td>\n",
       "      <td>2019-04-11</td>\n",
       "      <td>(POLYGON ((84.816 25.073, 84.834 25.061, 84.88...</td>\n",
       "    </tr>\n",
       "    <tr>\n",
       "      <th>358</th>\n",
       "      <td>2719</td>\n",
       "      <td>27</td>\n",
       "      <td>Maharashtra</td>\n",
       "      <td>19</td>\n",
       "      <td>aurangabad</td>\n",
       "      <td>औरंगाबाद</td>\n",
       "      <td>GEN</td>\n",
       "      <td>Q3763786</td>\n",
       "      <td>None</td>\n",
       "      <td>3</td>\n",
       "      <td>2019-04-23</td>\n",
       "      <td>(POLYGON ((75.21299999999999 20.498, 75.257000...</td>\n",
       "    </tr>\n",
       "    <tr>\n",
       "      <th>387</th>\n",
       "      <td>2730</td>\n",
       "      <td>27</td>\n",
       "      <td>Maharashtra</td>\n",
       "      <td>30</td>\n",
       "      <td>mumbai south</td>\n",
       "      <td>मुंबई - दक्षिण</td>\n",
       "      <td>GEN</td>\n",
       "      <td>Q12446954</td>\n",
       "      <td>None</td>\n",
       "      <td>4</td>\n",
       "      <td>2019-04-29</td>\n",
       "      <td>(POLYGON ((72.925 19.046, 72.95099999999999 19...</td>\n",
       "    </tr>\n",
       "    <tr>\n",
       "      <th>388</th>\n",
       "      <td>2731</td>\n",
       "      <td>27</td>\n",
       "      <td>Maharashtra</td>\n",
       "      <td>31</td>\n",
       "      <td>mumbai south</td>\n",
       "      <td>मुंबई - दक्षिण</td>\n",
       "      <td>GEN</td>\n",
       "      <td>Q12446954</td>\n",
       "      <td>None</td>\n",
       "      <td>4</td>\n",
       "      <td>2019-04-29</td>\n",
       "      <td>(POLYGON ((72.827 19.009, 72.857 19.005, 72.86...</td>\n",
       "    </tr>\n",
       "  </tbody>\n",
       "</table>\n",
       "</div>"
      ],
      "text/plain": [
       "     pc_id  st_code           st_name  pc_no       pc_name      pc_name_hi  \\\n",
       "2      203        2  Himachal Pradesh      3      hamirpur         हमीरपुर   \n",
       "118    947        9     Uttar Pradesh     47      hamirpur         हमीरपुर   \n",
       "134    963        9     Uttar Pradesh     63   maharajganj       महाराजगंज   \n",
       "170   1019       10             Bihar     19   maharajganj        महराजगंज   \n",
       "180   1037       10             Bihar     37    aurangabad        औरंगाबाद   \n",
       "358   2719       27       Maharashtra     19    aurangabad        औरंगाबाद   \n",
       "387   2730       27       Maharashtra     30  mumbai south  मुंबई - दक्षिण   \n",
       "388   2731       27       Maharashtra     31  mumbai south  मुंबई - दक्षिण   \n",
       "\n",
       "    pc_category wikidata_qid status  2019_election_phase 2019_election_date  \\\n",
       "2           GEN     Q5645333   None                    7         2019-05-19   \n",
       "118         GEN     Q5645332   None                    4         2019-04-29   \n",
       "134         GEN     Q6733274   None                    7         2019-05-19   \n",
       "170         GEN     Q6733273   None                    6         2019-05-12   \n",
       "180         GEN     Q4822111   None                    1         2019-04-11   \n",
       "358         GEN     Q3763786   None                    3         2019-04-23   \n",
       "387         GEN    Q12446954   None                    4         2019-04-29   \n",
       "388         GEN    Q12446954   None                    4         2019-04-29   \n",
       "\n",
       "                                              geometry  \n",
       "2    (POLYGON ((76.02 32.14, 76.04300000000001 32.0...  \n",
       "118  (POLYGON ((79.36499999999999 25.171, 79.354 25...  \n",
       "134  (POLYGON ((83.617 27.468, 83.831 27.369, 83.86...  \n",
       "170  (POLYGON ((84.592 26.314, 84.654 26.299, 84.65...  \n",
       "180  (POLYGON ((84.816 25.073, 84.834 25.061, 84.88...  \n",
       "358  (POLYGON ((75.21299999999999 20.498, 75.257000...  \n",
       "387  (POLYGON ((72.925 19.046, 72.95099999999999 19...  \n",
       "388  (POLYGON ((72.827 19.009, 72.857 19.005, 72.86...  "
      ]
     },
     "execution_count": 73,
     "metadata": {},
     "output_type": "execute_result"
    }
   ],
   "source": [
    "geo_data[geo_data['pc_name'].duplicated(keep=False)]"
   ]
  },
  {
   "cell_type": "markdown",
   "metadata": {},
   "source": [
    "Calculation"
   ]
  },
  {
   "cell_type": "code",
   "execution_count": 74,
   "metadata": {
    "colab": {
     "base_uri": "https://localhost:8080/",
     "height": 370
    },
    "colab_type": "code",
    "id": "yLou1AMacYiP",
    "outputId": "65ea8d72-a994-4da7-fd18-c9d82957eb06"
   },
   "outputs": [
    {
     "data": {
      "text/plain": [
       "['anakapalli',\n",
       " 'anantapuramu',\n",
       " 'arambagh',\n",
       " 'barrackpore',\n",
       " 'belagavi',\n",
       " 'bhuvanagiri',\n",
       " 'chikballapur',\n",
       " 'chikodi',\n",
       " 'davangere',\n",
       " 'firozepur',\n",
       " 'haasan',\n",
       " 'janjgir',\n",
       " 'kanyakumari',\n",
       " 'mahabubnagar',\n",
       " 'mandsaur',\n",
       " 'mavelikara',\n",
       " 'mayiladuturai',\n",
       " 'nowgong',\n",
       " 'peddapalli',\n",
       " 'thiruvallur',\n",
       " 'thoothukudi']"
      ]
     },
     "execution_count": 74,
     "metadata": {},
     "output_type": "execute_result"
    }
   ],
   "source": [
    "list_a=sorted(list(set(unique_geo_pc) - set(unique_winner_pc))) # 30\n",
    "#list_a\n",
    "list_a=list_a[1:-5]+['thiruvallur', 'thoothukudi']\n",
    "list_a"
   ]
  },
  {
   "cell_type": "code",
   "execution_count": 75,
   "metadata": {
    "colab": {
     "base_uri": "https://localhost:8080/",
     "height": 370
    },
    "colab_type": "code",
    "id": "abbrNrtNcYfT",
    "outputId": "247eaa11-a751-48b6-e7a9-45767438bad9"
   },
   "outputs": [
    {
     "data": {
      "text/plain": [
       "['anakapalle',\n",
       " 'anantapur',\n",
       " 'arambag',\n",
       " 'barrackpur',\n",
       " 'belgaum',\n",
       " 'bhongir',\n",
       " 'chikkballapur',\n",
       " 'chikkodi',\n",
       " 'davanagere',\n",
       " 'firozpur',\n",
       " 'hassan',\n",
       " 'janjgir champa',\n",
       " 'kanniyakumari',\n",
       " 'mahbubnagar',\n",
       " 'mandsour',\n",
       " 'mavelikkara',\n",
       " 'mayiladuthurai',\n",
       " 'nawgong',\n",
       " 'peddapalle',\n",
       " 'tiruvallur',\n",
       " 'thoothukkudi']"
      ]
     },
     "execution_count": 75,
     "metadata": {},
     "output_type": "execute_result"
    }
   ],
   "source": [
    "list_b=sorted(list(set(unique_winner_pc) - set(unique_geo_pc))) # 31\n",
    "list_b=list_b[:-5]+ ['nawgong',\n",
    " 'peddapalle',\n",
    "  'tiruvallur',            \n",
    " 'thoothukkudi'\n",
    " ]\n",
    "list_b"
   ]
  },
  {
   "cell_type": "code",
   "execution_count": 76,
   "metadata": {
    "colab": {
     "base_uri": "https://localhost:8080/",
     "height": 370
    },
    "colab_type": "code",
    "id": "48RT5xfSzLMq",
    "outputId": "c95cfeec-36b9-4470-9106-f2bd11e5ce3c"
   },
   "outputs": [
    {
     "data": {
      "text/plain": [
       "{'anakapalli': 'anakapalle',\n",
       " 'anantapuramu': 'anantapur',\n",
       " 'arambagh': 'arambag',\n",
       " 'barrackpore': 'barrackpur',\n",
       " 'belagavi': 'belgaum',\n",
       " 'bhuvanagiri': 'bhongir',\n",
       " 'chikballapur': 'chikkballapur',\n",
       " 'chikodi': 'chikkodi',\n",
       " 'davangere': 'davanagere',\n",
       " 'firozepur': 'firozpur',\n",
       " 'haasan': 'hassan',\n",
       " 'janjgir': 'janjgir champa',\n",
       " 'kanyakumari': 'kanniyakumari',\n",
       " 'mahabubnagar': 'mahbubnagar',\n",
       " 'mandsaur': 'mandsour',\n",
       " 'mavelikara': 'mavelikkara',\n",
       " 'mayiladuturai': 'mayiladuthurai',\n",
       " 'nowgong': 'nawgong',\n",
       " 'peddapalli': 'peddapalle',\n",
       " 'thiruvallur': 'tiruvallur',\n",
       " 'thoothukudi': 'thoothukkudi'}"
      ]
     },
     "execution_count": 76,
     "metadata": {},
     "output_type": "execute_result"
    }
   ],
   "source": [
    "to_replace=dict(zip(list_a,list_b))\n",
    "to_replace"
   ]
  },
  {
   "cell_type": "code",
   "execution_count": 77,
   "metadata": {
    "colab": {},
    "colab_type": "code",
    "id": "GhMhLZiRD6Jv"
   },
   "outputs": [],
   "source": [
    "geo_data=geo_data.replace(to_replace=to_replace,value=None)"
   ]
  },
  {
   "cell_type": "code",
   "execution_count": 78,
   "metadata": {
    "colab": {
     "base_uri": "https://localhost:8080/",
     "height": 34
    },
    "colab_type": "code",
    "id": "Vy8gc-EoD6Fy",
    "outputId": "98f4affb-348e-4dec-a326-202933d7ae96"
   },
   "outputs": [
    {
     "data": {
      "text/plain": [
       "geopandas.geodataframe.GeoDataFrame"
      ]
     },
     "execution_count": 78,
     "metadata": {},
     "output_type": "execute_result"
    }
   ],
   "source": [
    "type(geo_data)"
   ]
  },
  {
   "cell_type": "code",
   "execution_count": 79,
   "metadata": {
    "colab": {
     "base_uri": "https://localhost:8080/",
     "height": 279
    },
    "colab_type": "code",
    "id": "IGX6nmrmD6Ch",
    "outputId": "dc9034e3-4e31-4d59-f577-b2fd65d43311"
   },
   "outputs": [
    {
     "data": {
      "text/html": [
       "<div>\n",
       "<style scoped>\n",
       "    .dataframe tbody tr th:only-of-type {\n",
       "        vertical-align: middle;\n",
       "    }\n",
       "\n",
       "    .dataframe tbody tr th {\n",
       "        vertical-align: top;\n",
       "    }\n",
       "\n",
       "    .dataframe thead th {\n",
       "        text-align: right;\n",
       "    }\n",
       "</style>\n",
       "<table border=\"1\" class=\"dataframe\">\n",
       "  <thead>\n",
       "    <tr style=\"text-align: right;\">\n",
       "      <th></th>\n",
       "      <th>pc_id</th>\n",
       "      <th>st_code</th>\n",
       "      <th>st_name</th>\n",
       "      <th>pc_no</th>\n",
       "      <th>pc_name</th>\n",
       "      <th>pc_name_hi</th>\n",
       "      <th>pc_category</th>\n",
       "      <th>wikidata_qid</th>\n",
       "      <th>status</th>\n",
       "      <th>2019_election_phase</th>\n",
       "      <th>2019_election_date</th>\n",
       "      <th>geometry</th>\n",
       "    </tr>\n",
       "  </thead>\n",
       "  <tbody>\n",
       "    <tr>\n",
       "      <th>0</th>\n",
       "      <td>201</td>\n",
       "      <td>2</td>\n",
       "      <td>Himachal Pradesh</td>\n",
       "      <td>1</td>\n",
       "      <td>kangra</td>\n",
       "      <td>कांगड़ा</td>\n",
       "      <td>GEN</td>\n",
       "      <td>Q6362861</td>\n",
       "      <td>None</td>\n",
       "      <td>7</td>\n",
       "      <td>2019-05-19</td>\n",
       "      <td>(POLYGON ((76.577 33.206, 76.598 33.204, 76.61...</td>\n",
       "    </tr>\n",
       "    <tr>\n",
       "      <th>1</th>\n",
       "      <td>202</td>\n",
       "      <td>2</td>\n",
       "      <td>Himachal Pradesh</td>\n",
       "      <td>2</td>\n",
       "      <td>mandi</td>\n",
       "      <td>मंडी</td>\n",
       "      <td>GEN</td>\n",
       "      <td>Q6748042</td>\n",
       "      <td>None</td>\n",
       "      <td>7</td>\n",
       "      <td>2019-05-19</td>\n",
       "      <td>(POLYGON ((76.795 33.256, 76.81999999999999 33...</td>\n",
       "    </tr>\n",
       "    <tr>\n",
       "      <th>2</th>\n",
       "      <td>203</td>\n",
       "      <td>2</td>\n",
       "      <td>Himachal Pradesh</td>\n",
       "      <td>3</td>\n",
       "      <td>hamirpur</td>\n",
       "      <td>हमीरपुर</td>\n",
       "      <td>GEN</td>\n",
       "      <td>Q5645333</td>\n",
       "      <td>None</td>\n",
       "      <td>7</td>\n",
       "      <td>2019-05-19</td>\n",
       "      <td>(POLYGON ((76.02 32.14, 76.04300000000001 32.0...</td>\n",
       "    </tr>\n",
       "    <tr>\n",
       "      <th>3</th>\n",
       "      <td>204</td>\n",
       "      <td>2</td>\n",
       "      <td>Himachal Pradesh</td>\n",
       "      <td>4</td>\n",
       "      <td>shimla</td>\n",
       "      <td>शिमला</td>\n",
       "      <td>SC</td>\n",
       "      <td>Q7496887</td>\n",
       "      <td>None</td>\n",
       "      <td>7</td>\n",
       "      <td>2019-05-19</td>\n",
       "      <td>(POLYGON ((78.09399999999999 31.419, 78.162000...</td>\n",
       "    </tr>\n",
       "    <tr>\n",
       "      <th>4</th>\n",
       "      <td>301</td>\n",
       "      <td>3</td>\n",
       "      <td>Punjab</td>\n",
       "      <td>1</td>\n",
       "      <td>gurdaspur</td>\n",
       "      <td>गुरदासपुर</td>\n",
       "      <td>GEN</td>\n",
       "      <td>Q5619909</td>\n",
       "      <td>None</td>\n",
       "      <td>7</td>\n",
       "      <td>2019-05-19</td>\n",
       "      <td>(POLYGON ((75.843 32.503, 75.902 32.453, 75.93...</td>\n",
       "    </tr>\n",
       "  </tbody>\n",
       "</table>\n",
       "</div>"
      ],
      "text/plain": [
       "   pc_id  st_code           st_name  pc_no    pc_name pc_name_hi pc_category  \\\n",
       "0    201        2  Himachal Pradesh      1     kangra    कांगड़ा         GEN   \n",
       "1    202        2  Himachal Pradesh      2      mandi       मंडी         GEN   \n",
       "2    203        2  Himachal Pradesh      3   hamirpur    हमीरपुर         GEN   \n",
       "3    204        2  Himachal Pradesh      4     shimla      शिमला          SC   \n",
       "4    301        3            Punjab      1  gurdaspur  गुरदासपुर         GEN   \n",
       "\n",
       "  wikidata_qid status  2019_election_phase 2019_election_date  \\\n",
       "0     Q6362861   None                    7         2019-05-19   \n",
       "1     Q6748042   None                    7         2019-05-19   \n",
       "2     Q5645333   None                    7         2019-05-19   \n",
       "3     Q7496887   None                    7         2019-05-19   \n",
       "4     Q5619909   None                    7         2019-05-19   \n",
       "\n",
       "                                            geometry  \n",
       "0  (POLYGON ((76.577 33.206, 76.598 33.204, 76.61...  \n",
       "1  (POLYGON ((76.795 33.256, 76.81999999999999 33...  \n",
       "2  (POLYGON ((76.02 32.14, 76.04300000000001 32.0...  \n",
       "3  (POLYGON ((78.09399999999999 31.419, 78.162000...  \n",
       "4  (POLYGON ((75.843 32.503, 75.902 32.453, 75.93...  "
      ]
     },
     "execution_count": 79,
     "metadata": {},
     "output_type": "execute_result"
    }
   ],
   "source": [
    "geo_data.head()\n"
   ]
  },
  {
   "cell_type": "code",
   "execution_count": 80,
   "metadata": {
    "colab": {},
    "colab_type": "code",
    "id": "HDNJGgjND58B"
   },
   "outputs": [
    {
     "data": {
      "text/html": [
       "<div>\n",
       "<style scoped>\n",
       "    .dataframe tbody tr th:only-of-type {\n",
       "        vertical-align: middle;\n",
       "    }\n",
       "\n",
       "    .dataframe tbody tr th {\n",
       "        vertical-align: top;\n",
       "    }\n",
       "\n",
       "    .dataframe thead th {\n",
       "        text-align: right;\n",
       "    }\n",
       "</style>\n",
       "<table border=\"1\" class=\"dataframe\">\n",
       "  <thead>\n",
       "    <tr style=\"text-align: right;\">\n",
       "      <th></th>\n",
       "      <th>pc_id</th>\n",
       "      <th>st_code</th>\n",
       "      <th>st_name</th>\n",
       "      <th>pc_no</th>\n",
       "      <th>pc_name</th>\n",
       "      <th>pc_name_hi</th>\n",
       "      <th>pc_category</th>\n",
       "      <th>wikidata_qid</th>\n",
       "      <th>status</th>\n",
       "      <th>2019_election_phase</th>\n",
       "      <th>2019_election_date</th>\n",
       "      <th>geometry</th>\n",
       "    </tr>\n",
       "  </thead>\n",
       "  <tbody>\n",
       "  </tbody>\n",
       "</table>\n",
       "</div>"
      ],
      "text/plain": [
       "Empty GeoDataFrame\n",
       "Columns: [pc_id, st_code, st_name, pc_no, pc_name, pc_name_hi, pc_category, wikidata_qid, status, 2019_election_phase, 2019_election_date, geometry]\n",
       "Index: []"
      ]
     },
     "execution_count": 80,
     "metadata": {},
     "output_type": "execute_result"
    }
   ],
   "source": [
    "geo_data[geo_data.pc_name.str.strip()=='peddapalli']"
   ]
  },
  {
   "cell_type": "markdown",
   "metadata": {
    "colab_type": "text",
    "id": "uF1mIlx8kNId"
   },
   "source": [
    "We see that few constituencies in the geojson file have '-' in their name which is missing from the 2019 file.\n",
    "\n",
    "a. A good approach would be to replace '-' with blank.\n",
    "\n",
    "Currently : \n",
    "\n",
    "set(data_geo) - set(unique_cont_2019) # 30 applying a. reduced mismatch to 22\n",
    "\n",
    "set(unique_cont_2019) - set(data_geo) # 31 -> 23"
   ]
  },
  {
   "cell_type": "code",
   "execution_count": 81,
   "metadata": {
    "colab": {},
    "colab_type": "code",
    "id": "mw-eHEXYkM00"
   },
   "outputs": [],
   "source": [
    "unique_geo_pc=list(geo_data.pc_name.str.lower())\n"
   ]
  },
  {
   "cell_type": "code",
   "execution_count": 82,
   "metadata": {
    "colab": {
     "base_uri": "https://localhost:8080/",
     "height": 34
    },
    "colab_type": "code",
    "id": "HFl0s1NykMxb",
    "outputId": "882e0217-1778-4cb9-aced-fc65389c3590"
   },
   "outputs": [
    {
     "data": {
      "text/plain": [
       "['sasaram', 'vellore', 'virudhunagar', 'akbarpur']"
      ]
     },
     "execution_count": 82,
     "metadata": {},
     "output_type": "execute_result"
    }
   ],
   "source": [
    "list(set(unique_geo_pc) - set(unique_winner_pc))"
   ]
  },
  {
   "cell_type": "code",
   "execution_count": 83,
   "metadata": {
    "colab": {
     "base_uri": "https://localhost:8080/",
     "height": 303
    },
    "colab_type": "code",
    "id": "9fJZ4Z4PkMul",
    "outputId": "d9f635ca-d201-4aed-d5c2-434aa62dd040"
   },
   "outputs": [],
   "source": [
    "joined=geo_data.merge(winners,on='pc_name')"
   ]
  },
  {
   "cell_type": "markdown",
   "metadata": {},
   "source": [
    "# Test"
   ]
  },
  {
   "cell_type": "code",
   "execution_count": 84,
   "metadata": {},
   "outputs": [],
   "source": [
    "def case_category(x):\n",
    "    if x == 0:\n",
    "        return '1:0'\n",
    "    elif x in range(1,6):\n",
    "        return '2:1-5'\n",
    "    elif x in range(6,26):\n",
    "        return '3:5-25'\n",
    "    elif x in range(26,101):\n",
    "        return '4:25-100'\n",
    "    else :\n",
    "        return '5:100+'\n",
    "\n",
    "\n",
    "joined['CaseCategory']=joined['CriminalCases'].apply(case_category)"
   ]
  },
  {
   "cell_type": "code",
   "execution_count": 85,
   "metadata": {
    "colab": {},
    "colab_type": "code",
    "id": "uX8wQkFYkMrr"
   },
   "outputs": [
    {
     "data": {
      "text/html": [
       "<div>\n",
       "<style scoped>\n",
       "    .dataframe tbody tr th:only-of-type {\n",
       "        vertical-align: middle;\n",
       "    }\n",
       "\n",
       "    .dataframe tbody tr th {\n",
       "        vertical-align: top;\n",
       "    }\n",
       "\n",
       "    .dataframe thead th {\n",
       "        text-align: right;\n",
       "    }\n",
       "</style>\n",
       "<table border=\"1\" class=\"dataframe\">\n",
       "  <thead>\n",
       "    <tr style=\"text-align: right;\">\n",
       "      <th></th>\n",
       "      <th>pc_id</th>\n",
       "      <th>st_code</th>\n",
       "      <th>st_name</th>\n",
       "      <th>pc_no</th>\n",
       "      <th>pc_name</th>\n",
       "      <th>pc_name_hi</th>\n",
       "      <th>pc_category</th>\n",
       "      <th>wikidata_qid</th>\n",
       "      <th>status</th>\n",
       "      <th>2019_election_phase</th>\n",
       "      <th>2019_election_date</th>\n",
       "      <th>geometry</th>\n",
       "      <th>SerialNo</th>\n",
       "      <th>Candidate</th>\n",
       "      <th>Party</th>\n",
       "      <th>CriminalCases</th>\n",
       "      <th>Education</th>\n",
       "      <th>Assest</th>\n",
       "      <th>Liabilities</th>\n",
       "      <th>CaseCategory</th>\n",
       "    </tr>\n",
       "  </thead>\n",
       "  <tbody>\n",
       "    <tr>\n",
       "      <th>0</th>\n",
       "      <td>201</td>\n",
       "      <td>2</td>\n",
       "      <td>Himachal Pradesh</td>\n",
       "      <td>1</td>\n",
       "      <td>kangra</td>\n",
       "      <td>कांगड़ा</td>\n",
       "      <td>GEN</td>\n",
       "      <td>Q6362861</td>\n",
       "      <td>None</td>\n",
       "      <td>7</td>\n",
       "      <td>2019-05-19</td>\n",
       "      <td>(POLYGON ((76.577 33.206, 76.598 33.204, 76.61...</td>\n",
       "      <td>245</td>\n",
       "      <td>Kishan Kapoor</td>\n",
       "      <td>BJP</td>\n",
       "      <td>2.0</td>\n",
       "      <td>12th Pass</td>\n",
       "      <td>Rs 8,58,41,247</td>\n",
       "      <td>Rs 36,05,161,</td>\n",
       "      <td>2:1-5</td>\n",
       "    </tr>\n",
       "    <tr>\n",
       "      <th>1</th>\n",
       "      <td>202</td>\n",
       "      <td>2</td>\n",
       "      <td>Himachal Pradesh</td>\n",
       "      <td>2</td>\n",
       "      <td>mandi</td>\n",
       "      <td>मंडी</td>\n",
       "      <td>GEN</td>\n",
       "      <td>Q6748042</td>\n",
       "      <td>None</td>\n",
       "      <td>7</td>\n",
       "      <td>2019-05-19</td>\n",
       "      <td>(POLYGON ((76.795 33.256, 76.81999999999999 33...</td>\n",
       "      <td>384</td>\n",
       "      <td>Ram Swaroop Sharma</td>\n",
       "      <td>BJP</td>\n",
       "      <td>0.0</td>\n",
       "      <td>10th Pass</td>\n",
       "      <td>Rs 1,57,24,337</td>\n",
       "      <td>Rs 7,83,963,</td>\n",
       "      <td>1:0</td>\n",
       "    </tr>\n",
       "    <tr>\n",
       "      <th>2</th>\n",
       "      <td>203</td>\n",
       "      <td>2</td>\n",
       "      <td>Himachal Pradesh</td>\n",
       "      <td>3</td>\n",
       "      <td>hamirpur</td>\n",
       "      <td>हमीरपुर</td>\n",
       "      <td>GEN</td>\n",
       "      <td>Q5645333</td>\n",
       "      <td>None</td>\n",
       "      <td>7</td>\n",
       "      <td>2019-05-19</td>\n",
       "      <td>(POLYGON ((76.02 32.14, 76.04300000000001 32.0...</td>\n",
       "      <td>36</td>\n",
       "      <td>Anurag Singh Thakur</td>\n",
       "      <td>BJP</td>\n",
       "      <td>3.0</td>\n",
       "      <td>Graduate</td>\n",
       "      <td>Rs 5,67,70,463</td>\n",
       "      <td>Rs 10,85,145,</td>\n",
       "      <td>2:1-5</td>\n",
       "    </tr>\n",
       "    <tr>\n",
       "      <th>3</th>\n",
       "      <td>203</td>\n",
       "      <td>2</td>\n",
       "      <td>Himachal Pradesh</td>\n",
       "      <td>3</td>\n",
       "      <td>hamirpur</td>\n",
       "      <td>हमीरपुर</td>\n",
       "      <td>GEN</td>\n",
       "      <td>Q5645333</td>\n",
       "      <td>None</td>\n",
       "      <td>7</td>\n",
       "      <td>2019-05-19</td>\n",
       "      <td>(POLYGON ((76.02 32.14, 76.04300000000001 32.0...</td>\n",
       "      <td>258</td>\n",
       "      <td>Kunwar Pushpendra Singh</td>\n",
       "      <td>BJP</td>\n",
       "      <td>4.0</td>\n",
       "      <td>Post Graduate</td>\n",
       "      <td>Rs 16,71,59,924</td>\n",
       "      <td>Rs 3,55,02,582,</td>\n",
       "      <td>2:1-5</td>\n",
       "    </tr>\n",
       "    <tr>\n",
       "      <th>4</th>\n",
       "      <td>947</td>\n",
       "      <td>9</td>\n",
       "      <td>Uttar Pradesh</td>\n",
       "      <td>47</td>\n",
       "      <td>hamirpur</td>\n",
       "      <td>हमीरपुर</td>\n",
       "      <td>GEN</td>\n",
       "      <td>Q5645332</td>\n",
       "      <td>None</td>\n",
       "      <td>4</td>\n",
       "      <td>2019-04-29</td>\n",
       "      <td>(POLYGON ((79.36499999999999 25.171, 79.354 25...</td>\n",
       "      <td>36</td>\n",
       "      <td>Anurag Singh Thakur</td>\n",
       "      <td>BJP</td>\n",
       "      <td>3.0</td>\n",
       "      <td>Graduate</td>\n",
       "      <td>Rs 5,67,70,463</td>\n",
       "      <td>Rs 10,85,145,</td>\n",
       "      <td>2:1-5</td>\n",
       "    </tr>\n",
       "  </tbody>\n",
       "</table>\n",
       "</div>"
      ],
      "text/plain": [
       "   pc_id  st_code           st_name  pc_no   pc_name pc_name_hi pc_category  \\\n",
       "0    201        2  Himachal Pradesh      1    kangra    कांगड़ा         GEN   \n",
       "1    202        2  Himachal Pradesh      2     mandi       मंडी         GEN   \n",
       "2    203        2  Himachal Pradesh      3  hamirpur    हमीरपुर         GEN   \n",
       "3    203        2  Himachal Pradesh      3  hamirpur    हमीरपुर         GEN   \n",
       "4    947        9     Uttar Pradesh     47  hamirpur    हमीरपुर         GEN   \n",
       "\n",
       "  wikidata_qid status  2019_election_phase 2019_election_date  \\\n",
       "0     Q6362861   None                    7         2019-05-19   \n",
       "1     Q6748042   None                    7         2019-05-19   \n",
       "2     Q5645333   None                    7         2019-05-19   \n",
       "3     Q5645333   None                    7         2019-05-19   \n",
       "4     Q5645332   None                    4         2019-04-29   \n",
       "\n",
       "                                            geometry  SerialNo  \\\n",
       "0  (POLYGON ((76.577 33.206, 76.598 33.204, 76.61...       245   \n",
       "1  (POLYGON ((76.795 33.256, 76.81999999999999 33...       384   \n",
       "2  (POLYGON ((76.02 32.14, 76.04300000000001 32.0...        36   \n",
       "3  (POLYGON ((76.02 32.14, 76.04300000000001 32.0...       258   \n",
       "4  (POLYGON ((79.36499999999999 25.171, 79.354 25...        36   \n",
       "\n",
       "                 Candidate Party  CriminalCases      Education  \\\n",
       "0            Kishan Kapoor   BJP            2.0      12th Pass   \n",
       "1       Ram Swaroop Sharma   BJP            0.0      10th Pass   \n",
       "2      Anurag Singh Thakur   BJP            3.0       Graduate   \n",
       "3  Kunwar Pushpendra Singh   BJP            4.0  Post Graduate   \n",
       "4      Anurag Singh Thakur   BJP            3.0       Graduate   \n",
       "\n",
       "            Assest       Liabilities CaseCategory  \n",
       "0   Rs 8,58,41,247    Rs 36,05,161,         2:1-5  \n",
       "1   Rs 1,57,24,337     Rs 7,83,963,           1:0  \n",
       "2   Rs 5,67,70,463    Rs 10,85,145,         2:1-5  \n",
       "3  Rs 16,71,59,924  Rs 3,55,02,582,         2:1-5  \n",
       "4   Rs 5,67,70,463    Rs 10,85,145,         2:1-5  "
      ]
     },
     "execution_count": 85,
     "metadata": {},
     "output_type": "execute_result"
    }
   ],
   "source": [
    "joined.head()"
   ]
  },
  {
   "cell_type": "code",
   "execution_count": null,
   "metadata": {},
   "outputs": [],
   "source": []
  },
  {
   "cell_type": "code",
   "execution_count": null,
   "metadata": {},
   "outputs": [],
   "source": []
  },
  {
   "cell_type": "code",
   "execution_count": null,
   "metadata": {},
   "outputs": [],
   "source": []
  },
  {
   "cell_type": "code",
   "execution_count": null,
   "metadata": {},
   "outputs": [],
   "source": []
  },
  {
   "cell_type": "markdown",
   "metadata": {},
   "source": [
    "# Test End"
   ]
  },
  {
   "cell_type": "code",
   "execution_count": 86,
   "metadata": {
    "colab": {},
    "colab_type": "code",
    "id": "ICS_Ux5MkMo7"
   },
   "outputs": [
    {
     "data": {
      "text/plain": [
       "(545, 20)"
      ]
     },
     "execution_count": 86,
     "metadata": {},
     "output_type": "execute_result"
    }
   ],
   "source": [
    "joined.shape"
   ]
  },
  {
   "cell_type": "markdown",
   "metadata": {},
   "source": [
    "# Visualisation and Insights\n",
    "# Analysis of Criminal Cases"
   ]
  },
  {
   "cell_type": "markdown",
   "metadata": {},
   "source": [
    "# 1. Distribution of MPs with Criminal Cases in different Contituencies along with %age of each category\n"
   ]
  },
  {
   "cell_type": "code",
   "execution_count": 87,
   "metadata": {},
   "outputs": [
    {
     "data": {
      "image/png": "[encoded data removed]",
      "text/plain": [
       "<Figure size 864x864 with 1 Axes>"
      ]
     },
     "metadata": {
      "needs_background": "light"
     },
     "output_type": "display_data"
    }
   ],
   "source": [
    "f,ax=plt.subplots(1,figsize=(12,12))\n",
    "ax=joined.plot(ax=ax,column='CaseCategory',legend=True, cmap='YlOrRd')\n",
    "plt.show()\n"
   ]
  },
  {
   "cell_type": "code",
   "execution_count": 88,
   "metadata": {},
   "outputs": [
    {
     "data": {
      "text/html": [
       "<div>\n",
       "<style scoped>\n",
       "    .dataframe tbody tr th:only-of-type {\n",
       "        vertical-align: middle;\n",
       "    }\n",
       "\n",
       "    .dataframe tbody tr th {\n",
       "        vertical-align: top;\n",
       "    }\n",
       "\n",
       "    .dataframe thead th {\n",
       "        text-align: right;\n",
       "    }\n",
       "</style>\n",
       "<table border=\"1\" class=\"dataframe\">\n",
       "  <thead>\n",
       "    <tr style=\"text-align: right;\">\n",
       "      <th></th>\n",
       "      <th>CriminalCases</th>\n",
       "    </tr>\n",
       "    <tr>\n",
       "      <th>CaseCategory</th>\n",
       "      <th></th>\n",
       "    </tr>\n",
       "  </thead>\n",
       "  <tbody>\n",
       "    <tr>\n",
       "      <th>1:0</th>\n",
       "      <td>55.963303</td>\n",
       "    </tr>\n",
       "    <tr>\n",
       "      <th>2:1-5</th>\n",
       "      <td>37.431193</td>\n",
       "    </tr>\n",
       "    <tr>\n",
       "      <th>3:5-25</th>\n",
       "      <td>6.055046</td>\n",
       "    </tr>\n",
       "    <tr>\n",
       "      <th>4:25-100</th>\n",
       "      <td>0.366972</td>\n",
       "    </tr>\n",
       "    <tr>\n",
       "      <th>5:100+</th>\n",
       "      <td>0.183486</td>\n",
       "    </tr>\n",
       "  </tbody>\n",
       "</table>\n",
       "</div>"
      ],
      "text/plain": [
       "              CriminalCases\n",
       "CaseCategory               \n",
       "1:0               55.963303\n",
       "2:1-5             37.431193\n",
       "3:5-25             6.055046\n",
       "4:25-100           0.366972\n",
       "5:100+             0.183486"
      ]
     },
     "execution_count": 88,
     "metadata": {},
     "output_type": "execute_result"
    }
   ],
   "source": [
    "joined[['CaseCategory','CriminalCases']].groupby('CaseCategory').count()*100/len(joined)"
   ]
  },
  {
   "cell_type": "markdown",
   "metadata": {},
   "source": [
    "# Which State contributes more to polluting the Parliament"
   ]
  },
  {
   "cell_type": "code",
   "execution_count": 89,
   "metadata": {},
   "outputs": [
    {
     "data": {
      "text/plain": [
       "<matplotlib.axes._subplots.AxesSubplot at 0x248f6c2b6a0>"
      ]
     },
     "execution_count": 89,
     "metadata": {},
     "output_type": "execute_result"
    },
    {
     "data": {
      "image/png": "[encoded data removed]",
      "text/plain": [
       "<Figure size 432x288 with 1 Axes>"
      ]
     },
     "metadata": {
      "needs_background": "light"
     },
     "output_type": "display_data"
    }
   ],
   "source": [
    "st_crime_top=joined[['st_name','CriminalCases']].groupby('st_name').sum().sort_values(by='CriminalCases',ascending=False)[:10]\n",
    "st_crime_top.plot(kind='bar')"
   ]
  },
  {
   "cell_type": "markdown",
   "metadata": {},
   "source": [
    "# Who are the most tainted MPs in the parliament"
   ]
  },
  {
   "cell_type": "code",
   "execution_count": 90,
   "metadata": {},
   "outputs": [
    {
     "data": {
      "text/html": [
       "<div>\n",
       "<style scoped>\n",
       "    .dataframe tbody tr th:only-of-type {\n",
       "        vertical-align: middle;\n",
       "    }\n",
       "\n",
       "    .dataframe tbody tr th {\n",
       "        vertical-align: top;\n",
       "    }\n",
       "\n",
       "    .dataframe thead th {\n",
       "        text-align: right;\n",
       "    }\n",
       "</style>\n",
       "<table border=\"1\" class=\"dataframe\">\n",
       "  <thead>\n",
       "    <tr style=\"text-align: right;\">\n",
       "      <th></th>\n",
       "      <th>Candidate</th>\n",
       "      <th>pc_name</th>\n",
       "      <th>st_name</th>\n",
       "      <th>Party</th>\n",
       "      <th>CriminalCases</th>\n",
       "      <th>Education</th>\n",
       "    </tr>\n",
       "  </thead>\n",
       "  <tbody>\n",
       "    <tr>\n",
       "      <th>469</th>\n",
       "      <td>Dean Kuriakose</td>\n",
       "      <td>idukki</td>\n",
       "      <td>Kerala</td>\n",
       "      <td>INC</td>\n",
       "      <td>204.0</td>\n",
       "      <td>Post Graduate</td>\n",
       "    </tr>\n",
       "    <tr>\n",
       "      <th>368</th>\n",
       "      <td>Bapu Rao Soyam</td>\n",
       "      <td>adilabad</td>\n",
       "      <td>Telangana</td>\n",
       "      <td>BJP</td>\n",
       "      <td>52.0</td>\n",
       "      <td>12th Pass</td>\n",
       "    </tr>\n",
       "    <tr>\n",
       "      <th>395</th>\n",
       "      <td>Anumula Revanth Reddy</td>\n",
       "      <td>malkajgiri</td>\n",
       "      <td>Telangana</td>\n",
       "      <td>INC</td>\n",
       "      <td>42.0</td>\n",
       "      <td>Graduate</td>\n",
       "    </tr>\n",
       "    <tr>\n",
       "      <th>227</th>\n",
       "      <td>Arjun Singh</td>\n",
       "      <td>barrackpur</td>\n",
       "      <td>West Bengal</td>\n",
       "      <td>BJP</td>\n",
       "      <td>24.0</td>\n",
       "      <td>10th Pass</td>\n",
       "    </tr>\n",
       "    <tr>\n",
       "      <th>393</th>\n",
       "      <td>B.B.Patil</td>\n",
       "      <td>zahirabad</td>\n",
       "      <td>Telangana</td>\n",
       "      <td>TRS</td>\n",
       "      <td>18.0</td>\n",
       "      <td>Graduate</td>\n",
       "    </tr>\n",
       "  </tbody>\n",
       "</table>\n",
       "</div>"
      ],
      "text/plain": [
       "                 Candidate     pc_name      st_name Party  CriminalCases  \\\n",
       "469         Dean Kuriakose      idukki       Kerala   INC          204.0   \n",
       "368         Bapu Rao Soyam    adilabad    Telangana   BJP           52.0   \n",
       "395  Anumula Revanth Reddy  malkajgiri    Telangana   INC           42.0   \n",
       "227            Arjun Singh  barrackpur  West Bengal   BJP           24.0   \n",
       "393              B.B.Patil   zahirabad    Telangana   TRS           18.0   \n",
       "\n",
       "         Education  \n",
       "469  Post Graduate  \n",
       "368      12th Pass  \n",
       "395       Graduate  \n",
       "227      10th Pass  \n",
       "393       Graduate  "
      ]
     },
     "execution_count": 90,
     "metadata": {},
     "output_type": "execute_result"
    }
   ],
   "source": [
    "joined.sort_values(by='CriminalCases',ascending=False)[:5][['Candidate','pc_name','st_name','Party','CriminalCases','Education']]"
   ]
  },
  {
   "cell_type": "markdown",
   "metadata": {},
   "source": [
    "# Which Party sent more tainted MPs to parliament"
   ]
  },
  {
   "cell_type": "code",
   "execution_count": 91,
   "metadata": {},
   "outputs": [],
   "source": [
    "# The Party State Combination"
   ]
  },
  {
   "cell_type": "code",
   "execution_count": 92,
   "metadata": {},
   "outputs": [
    {
     "data": {
      "text/plain": [
       "<matplotlib.axes._subplots.AxesSubplot at 0x248f6ca5748>"
      ]
     },
     "execution_count": 92,
     "metadata": {},
     "output_type": "execute_result"
    },
    {
     "data": {
      "image/png": "[encoded data removed]",
      "text/plain": [
       "<Figure size 432x288 with 1 Axes>"
      ]
     },
     "metadata": {
      "needs_background": "light"
     },
     "output_type": "display_data"
    }
   ],
   "source": [
    "\n",
    "st_crime_top=joined.groupby(['st_name','Party']).sum().sort_values(by='CriminalCases',ascending=False)[:10]\n",
    "#st_crime_top=st_crime_top.reset_index().set_index('st_name',drop=False)\n",
    "st_crime_top['CriminalCases'].plot(kind='bar')\n",
    "#st_crime_top\n"
   ]
  },
  {
   "cell_type": "code",
   "execution_count": 93,
   "metadata": {},
   "outputs": [
    {
     "data": {
      "text/html": [
       "<div>\n",
       "<style scoped>\n",
       "    .dataframe tbody tr th:only-of-type {\n",
       "        vertical-align: middle;\n",
       "    }\n",
       "\n",
       "    .dataframe tbody tr th {\n",
       "        vertical-align: top;\n",
       "    }\n",
       "\n",
       "    .dataframe thead th {\n",
       "        text-align: right;\n",
       "    }\n",
       "</style>\n",
       "<table border=\"1\" class=\"dataframe\">\n",
       "  <thead>\n",
       "    <tr style=\"text-align: right;\">\n",
       "      <th></th>\n",
       "      <th>CriminalCases</th>\n",
       "      <th>NoOfMP</th>\n",
       "    </tr>\n",
       "    <tr>\n",
       "      <th>Party</th>\n",
       "      <th></th>\n",
       "      <th></th>\n",
       "    </tr>\n",
       "  </thead>\n",
       "  <tbody>\n",
       "    <tr>\n",
       "      <th>BJP</th>\n",
       "      <td>435.0</td>\n",
       "      <td>306.0</td>\n",
       "    </tr>\n",
       "    <tr>\n",
       "      <th>INC</th>\n",
       "      <td>354.0</td>\n",
       "      <td>51.0</td>\n",
       "    </tr>\n",
       "    <tr>\n",
       "      <th>SHS</th>\n",
       "      <td>36.0</td>\n",
       "      <td>18.0</td>\n",
       "    </tr>\n",
       "    <tr>\n",
       "      <th>JD(U)</th>\n",
       "      <td>31.0</td>\n",
       "      <td>16.0</td>\n",
       "    </tr>\n",
       "    <tr>\n",
       "      <th>DMK</th>\n",
       "      <td>28.0</td>\n",
       "      <td>23.0</td>\n",
       "    </tr>\n",
       "    <tr>\n",
       "      <th>BSP</th>\n",
       "      <td>27.0</td>\n",
       "      <td>10.0</td>\n",
       "    </tr>\n",
       "    <tr>\n",
       "      <th>TRS</th>\n",
       "      <td>24.0</td>\n",
       "      <td>9.0</td>\n",
       "    </tr>\n",
       "    <tr>\n",
       "      <th>YSRCP</th>\n",
       "      <td>24.0</td>\n",
       "      <td>22.0</td>\n",
       "    </tr>\n",
       "    <tr>\n",
       "      <th>AITC</th>\n",
       "      <td>17.0</td>\n",
       "      <td>22.0</td>\n",
       "    </tr>\n",
       "    <tr>\n",
       "      <th>AIMIM</th>\n",
       "      <td>13.0</td>\n",
       "      <td>NaN</td>\n",
       "    </tr>\n",
       "  </tbody>\n",
       "</table>\n",
       "</div>"
      ],
      "text/plain": [
       "       CriminalCases  NoOfMP\n",
       "Party                       \n",
       "BJP            435.0   306.0\n",
       "INC            354.0    51.0\n",
       "SHS             36.0    18.0\n",
       "JD(U)           31.0    16.0\n",
       "DMK             28.0    23.0\n",
       "BSP             27.0    10.0\n",
       "TRS             24.0     9.0\n",
       "YSRCP           24.0    22.0\n",
       "AITC            17.0    22.0\n",
       "AIMIM           13.0     NaN"
      ]
     },
     "execution_count": 93,
     "metadata": {},
     "output_type": "execute_result"
    }
   ],
   "source": [
    "party_crime_top=joined[['Party','CriminalCases']].groupby('Party').sum().sort_values(by='CriminalCases',ascending=False)[:10]\n",
    "party_crime_top['NoOfMP']=joined[['Party','CriminalCases']].groupby('Party').count().sort_values(by='CriminalCases',ascending=False)[:10]\n",
    "#party_crime_top.plot(kind='bar')\n",
    "party_crime_top"
   ]
  },
  {
   "cell_type": "code",
   "execution_count": 94,
   "metadata": {},
   "outputs": [
    {
     "data": {
      "text/html": [
       "<div>\n",
       "<style scoped>\n",
       "    .dataframe tbody tr th:only-of-type {\n",
       "        vertical-align: middle;\n",
       "    }\n",
       "\n",
       "    .dataframe tbody tr th {\n",
       "        vertical-align: top;\n",
       "    }\n",
       "\n",
       "    .dataframe thead th {\n",
       "        text-align: right;\n",
       "    }\n",
       "</style>\n",
       "<table border=\"1\" class=\"dataframe\">\n",
       "  <thead>\n",
       "    <tr style=\"text-align: right;\">\n",
       "      <th></th>\n",
       "      <th>pc_id</th>\n",
       "      <th>st_code</th>\n",
       "      <th>st_name</th>\n",
       "      <th>pc_no</th>\n",
       "      <th>pc_name</th>\n",
       "      <th>pc_name_hi</th>\n",
       "      <th>pc_category</th>\n",
       "      <th>wikidata_qid</th>\n",
       "      <th>status</th>\n",
       "      <th>2019_election_phase</th>\n",
       "      <th>2019_election_date</th>\n",
       "      <th>geometry</th>\n",
       "      <th>SerialNo</th>\n",
       "      <th>Candidate</th>\n",
       "      <th>Party</th>\n",
       "      <th>CriminalCases</th>\n",
       "      <th>Education</th>\n",
       "      <th>Assest</th>\n",
       "      <th>Liabilities</th>\n",
       "      <th>CaseCategory</th>\n",
       "    </tr>\n",
       "  </thead>\n",
       "  <tbody>\n",
       "    <tr>\n",
       "      <th>182</th>\n",
       "      <td>1037</td>\n",
       "      <td>10</td>\n",
       "      <td>Bihar</td>\n",
       "      <td>37</td>\n",
       "      <td>aurangabad</td>\n",
       "      <td>औरंगाबाद</td>\n",
       "      <td>GEN</td>\n",
       "      <td>Q4822111</td>\n",
       "      <td>None</td>\n",
       "      <td>1</td>\n",
       "      <td>2019-04-11</td>\n",
       "      <td>(POLYGON ((84.816 25.073, 84.834 25.061, 84.88...</td>\n",
       "      <td>198</td>\n",
       "      <td>Imtiaz Jaleel Syed</td>\n",
       "      <td>AIMIM</td>\n",
       "      <td>4.0</td>\n",
       "      <td>Post Graduate</td>\n",
       "      <td>Rs 2,95,62,768</td>\n",
       "      <td>Rs 68,00,000,</td>\n",
       "      <td>2:1-5</td>\n",
       "    </tr>\n",
       "    <tr>\n",
       "      <th>184</th>\n",
       "      <td>2719</td>\n",
       "      <td>27</td>\n",
       "      <td>Maharashtra</td>\n",
       "      <td>19</td>\n",
       "      <td>aurangabad</td>\n",
       "      <td>औरंगाबाद</td>\n",
       "      <td>GEN</td>\n",
       "      <td>Q3763786</td>\n",
       "      <td>None</td>\n",
       "      <td>3</td>\n",
       "      <td>2019-04-23</td>\n",
       "      <td>(POLYGON ((75.21299999999999 20.498, 75.257000...</td>\n",
       "      <td>198</td>\n",
       "      <td>Imtiaz Jaleel Syed</td>\n",
       "      <td>AIMIM</td>\n",
       "      <td>4.0</td>\n",
       "      <td>Post Graduate</td>\n",
       "      <td>Rs 2,95,62,768</td>\n",
       "      <td>Rs 68,00,000,</td>\n",
       "      <td>2:1-5</td>\n",
       "    </tr>\n",
       "    <tr>\n",
       "      <th>397</th>\n",
       "      <td>2809</td>\n",
       "      <td>36</td>\n",
       "      <td>Telangana</td>\n",
       "      <td>9</td>\n",
       "      <td>hyderabad</td>\n",
       "      <td>हैदराबाद</td>\n",
       "      <td>GEN</td>\n",
       "      <td>Q3764307</td>\n",
       "      <td>None</td>\n",
       "      <td>1</td>\n",
       "      <td>2019-04-11</td>\n",
       "      <td>(POLYGON ((78.429 17.397, 78.43899999999999 17...</td>\n",
       "      <td>47</td>\n",
       "      <td>Asaduddin Owaisi</td>\n",
       "      <td>AIMIM</td>\n",
       "      <td>5.0</td>\n",
       "      <td>Graduate Professional</td>\n",
       "      <td>Rs 17,90,44,376</td>\n",
       "      <td>Rs 12,05,00,000,</td>\n",
       "      <td>2:1-5</td>\n",
       "    </tr>\n",
       "  </tbody>\n",
       "</table>\n",
       "</div>"
      ],
      "text/plain": [
       "     pc_id  st_code      st_name  pc_no     pc_name pc_name_hi pc_category  \\\n",
       "182   1037       10        Bihar     37  aurangabad   औरंगाबाद         GEN   \n",
       "184   2719       27  Maharashtra     19  aurangabad   औरंगाबाद         GEN   \n",
       "397   2809       36    Telangana      9   hyderabad   हैदराबाद         GEN   \n",
       "\n",
       "    wikidata_qid status  2019_election_phase 2019_election_date  \\\n",
       "182     Q4822111   None                    1         2019-04-11   \n",
       "184     Q3763786   None                    3         2019-04-23   \n",
       "397     Q3764307   None                    1         2019-04-11   \n",
       "\n",
       "                                              geometry  SerialNo  \\\n",
       "182  (POLYGON ((84.816 25.073, 84.834 25.061, 84.88...       198   \n",
       "184  (POLYGON ((75.21299999999999 20.498, 75.257000...       198   \n",
       "397  (POLYGON ((78.429 17.397, 78.43899999999999 17...        47   \n",
       "\n",
       "              Candidate  Party  CriminalCases              Education  \\\n",
       "182  Imtiaz Jaleel Syed  AIMIM            4.0          Post Graduate   \n",
       "184  Imtiaz Jaleel Syed  AIMIM            4.0          Post Graduate   \n",
       "397    Asaduddin Owaisi  AIMIM            5.0  Graduate Professional   \n",
       "\n",
       "              Assest        Liabilities CaseCategory  \n",
       "182   Rs 2,95,62,768     Rs 68,00,000,         2:1-5  \n",
       "184   Rs 2,95,62,768     Rs 68,00,000,         2:1-5  \n",
       "397  Rs 17,90,44,376  Rs 12,05,00,000,         2:1-5  "
      ]
     },
     "execution_count": 94,
     "metadata": {},
     "output_type": "execute_result"
    }
   ],
   "source": [
    "joined[joined.Party=='AIMIM']"
   ]
  },
  {
   "cell_type": "code",
   "execution_count": 95,
   "metadata": {},
   "outputs": [
    {
     "data": {
      "text/html": [
       "<div>\n",
       "<style scoped>\n",
       "    .dataframe tbody tr th:only-of-type {\n",
       "        vertical-align: middle;\n",
       "    }\n",
       "\n",
       "    .dataframe tbody tr th {\n",
       "        vertical-align: top;\n",
       "    }\n",
       "\n",
       "    .dataframe thead th {\n",
       "        text-align: right;\n",
       "    }\n",
       "</style>\n",
       "<table border=\"1\" class=\"dataframe\">\n",
       "  <thead>\n",
       "    <tr style=\"text-align: right;\">\n",
       "      <th></th>\n",
       "      <th>pc_id</th>\n",
       "      <th>st_code</th>\n",
       "      <th>st_name</th>\n",
       "      <th>pc_no</th>\n",
       "      <th>pc_name</th>\n",
       "      <th>pc_name_hi</th>\n",
       "      <th>pc_category</th>\n",
       "      <th>wikidata_qid</th>\n",
       "      <th>status</th>\n",
       "      <th>2019_election_phase</th>\n",
       "      <th>2019_election_date</th>\n",
       "      <th>geometry</th>\n",
       "      <th>SerialNo</th>\n",
       "      <th>Candidate</th>\n",
       "      <th>Party</th>\n",
       "      <th>CriminalCases</th>\n",
       "      <th>Education</th>\n",
       "      <th>Assest</th>\n",
       "      <th>Liabilities</th>\n",
       "      <th>CaseCategory</th>\n",
       "    </tr>\n",
       "  </thead>\n",
       "  <tbody>\n",
       "    <tr>\n",
       "      <th>0</th>\n",
       "      <td>201</td>\n",
       "      <td>2</td>\n",
       "      <td>Himachal Pradesh</td>\n",
       "      <td>1</td>\n",
       "      <td>kangra</td>\n",
       "      <td>कांगड़ा</td>\n",
       "      <td>GEN</td>\n",
       "      <td>Q6362861</td>\n",
       "      <td>None</td>\n",
       "      <td>7</td>\n",
       "      <td>2019-05-19</td>\n",
       "      <td>(POLYGON ((76.577 33.206, 76.598 33.204, 76.61...</td>\n",
       "      <td>245</td>\n",
       "      <td>Kishan Kapoor</td>\n",
       "      <td>BJP</td>\n",
       "      <td>2.0</td>\n",
       "      <td>12th Pass</td>\n",
       "      <td>Rs 8,58,41,247</td>\n",
       "      <td>Rs 36,05,161,</td>\n",
       "      <td>2:1-5</td>\n",
       "    </tr>\n",
       "    <tr>\n",
       "      <th>1</th>\n",
       "      <td>202</td>\n",
       "      <td>2</td>\n",
       "      <td>Himachal Pradesh</td>\n",
       "      <td>2</td>\n",
       "      <td>mandi</td>\n",
       "      <td>मंडी</td>\n",
       "      <td>GEN</td>\n",
       "      <td>Q6748042</td>\n",
       "      <td>None</td>\n",
       "      <td>7</td>\n",
       "      <td>2019-05-19</td>\n",
       "      <td>(POLYGON ((76.795 33.256, 76.81999999999999 33...</td>\n",
       "      <td>384</td>\n",
       "      <td>Ram Swaroop Sharma</td>\n",
       "      <td>BJP</td>\n",
       "      <td>0.0</td>\n",
       "      <td>10th Pass</td>\n",
       "      <td>Rs 1,57,24,337</td>\n",
       "      <td>Rs 7,83,963,</td>\n",
       "      <td>1:0</td>\n",
       "    </tr>\n",
       "    <tr>\n",
       "      <th>2</th>\n",
       "      <td>203</td>\n",
       "      <td>2</td>\n",
       "      <td>Himachal Pradesh</td>\n",
       "      <td>3</td>\n",
       "      <td>hamirpur</td>\n",
       "      <td>हमीरपुर</td>\n",
       "      <td>GEN</td>\n",
       "      <td>Q5645333</td>\n",
       "      <td>None</td>\n",
       "      <td>7</td>\n",
       "      <td>2019-05-19</td>\n",
       "      <td>(POLYGON ((76.02 32.14, 76.04300000000001 32.0...</td>\n",
       "      <td>36</td>\n",
       "      <td>Anurag Singh Thakur</td>\n",
       "      <td>BJP</td>\n",
       "      <td>3.0</td>\n",
       "      <td>Graduate</td>\n",
       "      <td>Rs 5,67,70,463</td>\n",
       "      <td>Rs 10,85,145,</td>\n",
       "      <td>2:1-5</td>\n",
       "    </tr>\n",
       "    <tr>\n",
       "      <th>3</th>\n",
       "      <td>203</td>\n",
       "      <td>2</td>\n",
       "      <td>Himachal Pradesh</td>\n",
       "      <td>3</td>\n",
       "      <td>hamirpur</td>\n",
       "      <td>हमीरपुर</td>\n",
       "      <td>GEN</td>\n",
       "      <td>Q5645333</td>\n",
       "      <td>None</td>\n",
       "      <td>7</td>\n",
       "      <td>2019-05-19</td>\n",
       "      <td>(POLYGON ((76.02 32.14, 76.04300000000001 32.0...</td>\n",
       "      <td>258</td>\n",
       "      <td>Kunwar Pushpendra Singh</td>\n",
       "      <td>BJP</td>\n",
       "      <td>4.0</td>\n",
       "      <td>Post Graduate</td>\n",
       "      <td>Rs 16,71,59,924</td>\n",
       "      <td>Rs 3,55,02,582,</td>\n",
       "      <td>2:1-5</td>\n",
       "    </tr>\n",
       "    <tr>\n",
       "      <th>4</th>\n",
       "      <td>947</td>\n",
       "      <td>9</td>\n",
       "      <td>Uttar Pradesh</td>\n",
       "      <td>47</td>\n",
       "      <td>hamirpur</td>\n",
       "      <td>हमीरपुर</td>\n",
       "      <td>GEN</td>\n",
       "      <td>Q5645332</td>\n",
       "      <td>None</td>\n",
       "      <td>4</td>\n",
       "      <td>2019-04-29</td>\n",
       "      <td>(POLYGON ((79.36499999999999 25.171, 79.354 25...</td>\n",
       "      <td>36</td>\n",
       "      <td>Anurag Singh Thakur</td>\n",
       "      <td>BJP</td>\n",
       "      <td>3.0</td>\n",
       "      <td>Graduate</td>\n",
       "      <td>Rs 5,67,70,463</td>\n",
       "      <td>Rs 10,85,145,</td>\n",
       "      <td>2:1-5</td>\n",
       "    </tr>\n",
       "  </tbody>\n",
       "</table>\n",
       "</div>"
      ],
      "text/plain": [
       "   pc_id  st_code           st_name  pc_no   pc_name pc_name_hi pc_category  \\\n",
       "0    201        2  Himachal Pradesh      1    kangra    कांगड़ा         GEN   \n",
       "1    202        2  Himachal Pradesh      2     mandi       मंडी         GEN   \n",
       "2    203        2  Himachal Pradesh      3  hamirpur    हमीरपुर         GEN   \n",
       "3    203        2  Himachal Pradesh      3  hamirpur    हमीरपुर         GEN   \n",
       "4    947        9     Uttar Pradesh     47  hamirpur    हमीरपुर         GEN   \n",
       "\n",
       "  wikidata_qid status  2019_election_phase 2019_election_date  \\\n",
       "0     Q6362861   None                    7         2019-05-19   \n",
       "1     Q6748042   None                    7         2019-05-19   \n",
       "2     Q5645333   None                    7         2019-05-19   \n",
       "3     Q5645333   None                    7         2019-05-19   \n",
       "4     Q5645332   None                    4         2019-04-29   \n",
       "\n",
       "                                            geometry  SerialNo  \\\n",
       "0  (POLYGON ((76.577 33.206, 76.598 33.204, 76.61...       245   \n",
       "1  (POLYGON ((76.795 33.256, 76.81999999999999 33...       384   \n",
       "2  (POLYGON ((76.02 32.14, 76.04300000000001 32.0...        36   \n",
       "3  (POLYGON ((76.02 32.14, 76.04300000000001 32.0...       258   \n",
       "4  (POLYGON ((79.36499999999999 25.171, 79.354 25...        36   \n",
       "\n",
       "                 Candidate Party  CriminalCases      Education  \\\n",
       "0            Kishan Kapoor   BJP            2.0      12th Pass   \n",
       "1       Ram Swaroop Sharma   BJP            0.0      10th Pass   \n",
       "2      Anurag Singh Thakur   BJP            3.0       Graduate   \n",
       "3  Kunwar Pushpendra Singh   BJP            4.0  Post Graduate   \n",
       "4      Anurag Singh Thakur   BJP            3.0       Graduate   \n",
       "\n",
       "            Assest       Liabilities CaseCategory  \n",
       "0   Rs 8,58,41,247    Rs 36,05,161,         2:1-5  \n",
       "1   Rs 1,57,24,337     Rs 7,83,963,           1:0  \n",
       "2   Rs 5,67,70,463    Rs 10,85,145,         2:1-5  \n",
       "3  Rs 16,71,59,924  Rs 3,55,02,582,         2:1-5  \n",
       "4   Rs 5,67,70,463    Rs 10,85,145,         2:1-5  "
      ]
     },
     "execution_count": 95,
     "metadata": {},
     "output_type": "execute_result"
    }
   ],
   "source": [
    "joined.head()"
   ]
  },
  {
   "cell_type": "code",
   "execution_count": null,
   "metadata": {},
   "outputs": [],
   "source": []
  },
  {
   "cell_type": "code",
   "execution_count": null,
   "metadata": {},
   "outputs": [],
   "source": []
  },
  {
   "cell_type": "code",
   "execution_count": null,
   "metadata": {},
   "outputs": [],
   "source": []
  },
  {
   "cell_type": "markdown",
   "metadata": {},
   "source": [
    "# Analyzing Kerala with Highest number of Criminal Cases for MPs"
   ]
  },
  {
   "cell_type": "code",
   "execution_count": 96,
   "metadata": {},
   "outputs": [],
   "source": [
    "kerala=joined[joined['st_name']=='Kerala']\n"
   ]
  },
  {
   "cell_type": "code",
   "execution_count": 97,
   "metadata": {},
   "outputs": [
    {
     "data": {
      "image/png": "[encoded data removed]",
      "text/plain": [
       "<Figure size 864x864 with 1 Axes>"
      ]
     },
     "metadata": {
      "needs_background": "light"
     },
     "output_type": "display_data"
    }
   ],
   "source": [
    "f,ax=plt.subplots(1,figsize=(12,12))\n",
    "ax=kerala.plot(ax=ax,column='CaseCategory',legend=True,cmap='YlOrRd')\n",
    "plt.show()"
   ]
  },
  {
   "cell_type": "code",
   "execution_count": 98,
   "metadata": {},
   "outputs": [
    {
     "data": {
      "text/html": [
       "<div>\n",
       "<style scoped>\n",
       "    .dataframe tbody tr th:only-of-type {\n",
       "        vertical-align: middle;\n",
       "    }\n",
       "\n",
       "    .dataframe tbody tr th {\n",
       "        vertical-align: top;\n",
       "    }\n",
       "\n",
       "    .dataframe thead th {\n",
       "        text-align: right;\n",
       "    }\n",
       "</style>\n",
       "<table border=\"1\" class=\"dataframe\">\n",
       "  <thead>\n",
       "    <tr style=\"text-align: right;\">\n",
       "      <th></th>\n",
       "      <th>pc_id</th>\n",
       "      <th>st_code</th>\n",
       "      <th>st_name</th>\n",
       "      <th>pc_no</th>\n",
       "      <th>pc_name</th>\n",
       "      <th>pc_name_hi</th>\n",
       "      <th>pc_category</th>\n",
       "      <th>wikidata_qid</th>\n",
       "      <th>status</th>\n",
       "      <th>2019_election_phase</th>\n",
       "      <th>2019_election_date</th>\n",
       "      <th>geometry</th>\n",
       "      <th>SerialNo</th>\n",
       "      <th>Candidate</th>\n",
       "      <th>Party</th>\n",
       "      <th>CriminalCases</th>\n",
       "      <th>Education</th>\n",
       "      <th>Assest</th>\n",
       "      <th>Liabilities</th>\n",
       "      <th>CaseCategory</th>\n",
       "    </tr>\n",
       "  </thead>\n",
       "  <tbody>\n",
       "    <tr>\n",
       "      <th>469</th>\n",
       "      <td>3213</td>\n",
       "      <td>32</td>\n",
       "      <td>Kerala</td>\n",
       "      <td>13</td>\n",
       "      <td>idukki</td>\n",
       "      <td>इदुक्की</td>\n",
       "      <td>GEN</td>\n",
       "      <td>Q3595503</td>\n",
       "      <td>None</td>\n",
       "      <td>3</td>\n",
       "      <td>2019-04-23</td>\n",
       "      <td>(POLYGON ((77.19499999999999 10.355, 77.236 10...</td>\n",
       "      <td>109</td>\n",
       "      <td>Dean Kuriakose</td>\n",
       "      <td>INC</td>\n",
       "      <td>204.0</td>\n",
       "      <td>Post Graduate</td>\n",
       "      <td>Rs 1,33,95,011</td>\n",
       "      <td>Rs 1,00,00,000,</td>\n",
       "      <td>5:100+</td>\n",
       "    </tr>\n",
       "  </tbody>\n",
       "</table>\n",
       "</div>"
      ],
      "text/plain": [
       "     pc_id  st_code st_name  pc_no pc_name pc_name_hi pc_category  \\\n",
       "469   3213       32  Kerala     13  idukki    इदुक्की         GEN   \n",
       "\n",
       "    wikidata_qid status  2019_election_phase 2019_election_date  \\\n",
       "469     Q3595503   None                    3         2019-04-23   \n",
       "\n",
       "                                              geometry  SerialNo  \\\n",
       "469  (POLYGON ((77.19499999999999 10.355, 77.236 10...       109   \n",
       "\n",
       "          Candidate Party  CriminalCases      Education          Assest  \\\n",
       "469  Dean Kuriakose   INC          204.0  Post Graduate  Rs 1,33,95,011   \n",
       "\n",
       "          Liabilities CaseCategory  \n",
       "469  Rs 1,00,00,000,        5:100+  "
      ]
     },
     "execution_count": 98,
     "metadata": {},
     "output_type": "execute_result"
    }
   ],
   "source": [
    "kerala[kerala.CriminalCases > 100]"
   ]
  },
  {
   "cell_type": "markdown",
   "metadata": {},
   "source": [
    "# Analyzing Uttar Pradesh"
   ]
  },
  {
   "cell_type": "code",
   "execution_count": 99,
   "metadata": {},
   "outputs": [],
   "source": [
    "up=joined[joined['st_name']=='Uttar Pradesh']"
   ]
  },
  {
   "cell_type": "code",
   "execution_count": 100,
   "metadata": {},
   "outputs": [
    {
     "data": {
      "image/png": "[encoded data removed]",
      "text/plain": [
       "<Figure size 864x864 with 1 Axes>"
      ]
     },
     "metadata": {
      "needs_background": "light"
     },
     "output_type": "display_data"
    }
   ],
   "source": [
    "f,ax=plt.subplots(1,figsize=(12,12))\n",
    "ax=up.plot(ax=ax,column='CaseCategory',legend=True,cmap='YlOrRd')\n",
    "plt.show()"
   ]
  },
  {
   "cell_type": "code",
   "execution_count": 101,
   "metadata": {},
   "outputs": [
    {
     "data": {
      "text/html": [
       "<div>\n",
       "<style scoped>\n",
       "    .dataframe tbody tr th:only-of-type {\n",
       "        vertical-align: middle;\n",
       "    }\n",
       "\n",
       "    .dataframe tbody tr th {\n",
       "        vertical-align: top;\n",
       "    }\n",
       "\n",
       "    .dataframe thead th {\n",
       "        text-align: right;\n",
       "    }\n",
       "</style>\n",
       "<table border=\"1\" class=\"dataframe\">\n",
       "  <thead>\n",
       "    <tr style=\"text-align: right;\">\n",
       "      <th></th>\n",
       "      <th>pc_id</th>\n",
       "      <th>st_code</th>\n",
       "      <th>st_name</th>\n",
       "      <th>pc_no</th>\n",
       "      <th>pc_name</th>\n",
       "      <th>pc_name_hi</th>\n",
       "      <th>pc_category</th>\n",
       "      <th>wikidata_qid</th>\n",
       "      <th>status</th>\n",
       "      <th>2019_election_phase</th>\n",
       "      <th>2019_election_date</th>\n",
       "      <th>geometry</th>\n",
       "      <th>SerialNo</th>\n",
       "      <th>Candidate</th>\n",
       "      <th>Party</th>\n",
       "      <th>CriminalCases</th>\n",
       "      <th>Education</th>\n",
       "      <th>Assest</th>\n",
       "      <th>Liabilities</th>\n",
       "      <th>CaseCategory</th>\n",
       "    </tr>\n",
       "  </thead>\n",
       "  <tbody>\n",
       "    <tr>\n",
       "      <th>59</th>\n",
       "      <td>904</td>\n",
       "      <td>9</td>\n",
       "      <td>Uttar Pradesh</td>\n",
       "      <td>4</td>\n",
       "      <td>bijnor</td>\n",
       "      <td>बिजनौर</td>\n",
       "      <td>GEN</td>\n",
       "      <td>Q3633391</td>\n",
       "      <td>None</td>\n",
       "      <td>1</td>\n",
       "      <td>2019-04-11</td>\n",
       "      <td>(POLYGON ((77.93000000000001 29.715, 77.962999...</td>\n",
       "      <td>275</td>\n",
       "      <td>Malook Nagar</td>\n",
       "      <td>BSP</td>\n",
       "      <td>7.0</td>\n",
       "      <td>Graduate</td>\n",
       "      <td>Rs 2,49,96,28,021</td>\n",
       "      <td>Rs 1,01,61,48,176,</td>\n",
       "      <td>3:5-25</td>\n",
       "    </tr>\n",
       "    <tr>\n",
       "      <th>64</th>\n",
       "      <td>907</td>\n",
       "      <td>9</td>\n",
       "      <td>Uttar Pradesh</td>\n",
       "      <td>7</td>\n",
       "      <td>rampur</td>\n",
       "      <td>रामपुर</td>\n",
       "      <td>GEN</td>\n",
       "      <td>Q7290061</td>\n",
       "      <td>None</td>\n",
       "      <td>3</td>\n",
       "      <td>2019-04-23</td>\n",
       "      <td>(POLYGON ((79.04900000000001 29.16, 79.152 29....</td>\n",
       "      <td>289</td>\n",
       "      <td>Mohammad Azam Khan</td>\n",
       "      <td>SP</td>\n",
       "      <td>10.0</td>\n",
       "      <td>Graduate Professional</td>\n",
       "      <td>Rs 4,61,24,814</td>\n",
       "      <td>Rs 0,</td>\n",
       "      <td>3:5-25</td>\n",
       "    </tr>\n",
       "    <tr>\n",
       "      <th>115</th>\n",
       "      <td>941</td>\n",
       "      <td>9</td>\n",
       "      <td>Uttar Pradesh</td>\n",
       "      <td>41</td>\n",
       "      <td>etawah</td>\n",
       "      <td>इटावा</td>\n",
       "      <td>SC</td>\n",
       "      <td>Q5402455</td>\n",
       "      <td>None</td>\n",
       "      <td>4</td>\n",
       "      <td>2019-04-29</td>\n",
       "      <td>(POLYGON ((79.08 26.882, 79.11 26.865, 79.116 ...</td>\n",
       "      <td>128</td>\n",
       "      <td>Dr Ram Shankar Katheria</td>\n",
       "      <td>BJP</td>\n",
       "      <td>12.0</td>\n",
       "      <td>Doctorate</td>\n",
       "      <td>Rs 1,51,54,538</td>\n",
       "      <td>Rs 73,04,616,</td>\n",
       "      <td>3:5-25</td>\n",
       "    </tr>\n",
       "    <tr>\n",
       "      <th>116</th>\n",
       "      <td>942</td>\n",
       "      <td>9</td>\n",
       "      <td>Uttar Pradesh</td>\n",
       "      <td>42</td>\n",
       "      <td>kannauj</td>\n",
       "      <td>कन्नौज</td>\n",
       "      <td>GEN</td>\n",
       "      <td>Q12418036</td>\n",
       "      <td>None</td>\n",
       "      <td>4</td>\n",
       "      <td>2019-04-29</td>\n",
       "      <td>(POLYGON ((79.42400000000001 27.226, 79.441 27...</td>\n",
       "      <td>474</td>\n",
       "      <td>Subrat Pathak</td>\n",
       "      <td>BJP</td>\n",
       "      <td>11.0</td>\n",
       "      <td>Graduate</td>\n",
       "      <td>Rs 5,42,87,991</td>\n",
       "      <td>Rs 2,89,93,930,</td>\n",
       "      <td>3:5-25</td>\n",
       "    </tr>\n",
       "    <tr>\n",
       "      <th>124</th>\n",
       "      <td>952</td>\n",
       "      <td>9</td>\n",
       "      <td>Uttar Pradesh</td>\n",
       "      <td>52</td>\n",
       "      <td>allahabad</td>\n",
       "      <td>इलाहाबाद</td>\n",
       "      <td>GEN</td>\n",
       "      <td>Q4730342</td>\n",
       "      <td>None</td>\n",
       "      <td>6</td>\n",
       "      <td>2019-05-12</td>\n",
       "      <td>(POLYGON ((81.874 25.454, 81.893 25.455, 81.89...</td>\n",
       "      <td>418</td>\n",
       "      <td>Rita Bahuguna Joshi</td>\n",
       "      <td>BJP</td>\n",
       "      <td>6.0</td>\n",
       "      <td>Doctorate</td>\n",
       "      <td>Rs 2,69,19,330</td>\n",
       "      <td>Rs 16,00,000,</td>\n",
       "      <td>3:5-25</td>\n",
       "    </tr>\n",
       "    <tr>\n",
       "      <th>145</th>\n",
       "      <td>970</td>\n",
       "      <td>9</td>\n",
       "      <td>Uttar Pradesh</td>\n",
       "      <td>70</td>\n",
       "      <td>ghosi</td>\n",
       "      <td>घोसी</td>\n",
       "      <td>GEN</td>\n",
       "      <td>Q5557002</td>\n",
       "      <td>None</td>\n",
       "      <td>7</td>\n",
       "      <td>2019-05-19</td>\n",
       "      <td>(POLYGON ((83.578 26.25, 83.616 26.247, 83.608...</td>\n",
       "      <td>53</td>\n",
       "      <td>Atul Kumar Singh</td>\n",
       "      <td>BSP</td>\n",
       "      <td>13.0</td>\n",
       "      <td>Graduate</td>\n",
       "      <td>Rs 6,65,36,025</td>\n",
       "      <td>Rs 34,54,591,</td>\n",
       "      <td>3:5-25</td>\n",
       "    </tr>\n",
       "    <tr>\n",
       "      <th>153</th>\n",
       "      <td>978</td>\n",
       "      <td>9</td>\n",
       "      <td>Uttar Pradesh</td>\n",
       "      <td>78</td>\n",
       "      <td>bhadohi</td>\n",
       "      <td>भदोही</td>\n",
       "      <td>GEN</td>\n",
       "      <td>Q4900529</td>\n",
       "      <td>None</td>\n",
       "      <td>6</td>\n",
       "      <td>2019-05-12</td>\n",
       "      <td>(POLYGON ((82.137 25.679, 82.161 25.678, 82.14...</td>\n",
       "      <td>392</td>\n",
       "      <td>Ramesh Chand</td>\n",
       "      <td>BJP</td>\n",
       "      <td>6.0</td>\n",
       "      <td>10th Pass</td>\n",
       "      <td>Rs 9,40,89,148</td>\n",
       "      <td>Rs 2,16,96,413,</td>\n",
       "      <td>3:5-25</td>\n",
       "    </tr>\n",
       "  </tbody>\n",
       "</table>\n",
       "</div>"
      ],
      "text/plain": [
       "     pc_id  st_code        st_name  pc_no    pc_name pc_name_hi pc_category  \\\n",
       "59     904        9  Uttar Pradesh      4     bijnor     बिजनौर         GEN   \n",
       "64     907        9  Uttar Pradesh      7     rampur     रामपुर         GEN   \n",
       "115    941        9  Uttar Pradesh     41     etawah      इटावा          SC   \n",
       "116    942        9  Uttar Pradesh     42    kannauj     कन्नौज         GEN   \n",
       "124    952        9  Uttar Pradesh     52  allahabad   इलाहाबाद         GEN   \n",
       "145    970        9  Uttar Pradesh     70      ghosi       घोसी         GEN   \n",
       "153    978        9  Uttar Pradesh     78    bhadohi      भदोही         GEN   \n",
       "\n",
       "    wikidata_qid status  2019_election_phase 2019_election_date  \\\n",
       "59      Q3633391   None                    1         2019-04-11   \n",
       "64      Q7290061   None                    3         2019-04-23   \n",
       "115     Q5402455   None                    4         2019-04-29   \n",
       "116    Q12418036   None                    4         2019-04-29   \n",
       "124     Q4730342   None                    6         2019-05-12   \n",
       "145     Q5557002   None                    7         2019-05-19   \n",
       "153     Q4900529   None                    6         2019-05-12   \n",
       "\n",
       "                                              geometry  SerialNo  \\\n",
       "59   (POLYGON ((77.93000000000001 29.715, 77.962999...       275   \n",
       "64   (POLYGON ((79.04900000000001 29.16, 79.152 29....       289   \n",
       "115  (POLYGON ((79.08 26.882, 79.11 26.865, 79.116 ...       128   \n",
       "116  (POLYGON ((79.42400000000001 27.226, 79.441 27...       474   \n",
       "124  (POLYGON ((81.874 25.454, 81.893 25.455, 81.89...       418   \n",
       "145  (POLYGON ((83.578 26.25, 83.616 26.247, 83.608...        53   \n",
       "153  (POLYGON ((82.137 25.679, 82.161 25.678, 82.14...       392   \n",
       "\n",
       "                   Candidate Party  CriminalCases              Education  \\\n",
       "59              Malook Nagar   BSP            7.0               Graduate   \n",
       "64        Mohammad Azam Khan    SP           10.0  Graduate Professional   \n",
       "115  Dr Ram Shankar Katheria   BJP           12.0              Doctorate   \n",
       "116            Subrat Pathak   BJP           11.0               Graduate   \n",
       "124      Rita Bahuguna Joshi   BJP            6.0              Doctorate   \n",
       "145         Atul Kumar Singh   BSP           13.0               Graduate   \n",
       "153             Ramesh Chand   BJP            6.0              10th Pass   \n",
       "\n",
       "                Assest          Liabilities CaseCategory  \n",
       "59   Rs 2,49,96,28,021  Rs 1,01,61,48,176,        3:5-25  \n",
       "64      Rs 4,61,24,814               Rs 0,        3:5-25  \n",
       "115     Rs 1,51,54,538       Rs 73,04,616,        3:5-25  \n",
       "116     Rs 5,42,87,991     Rs 2,89,93,930,        3:5-25  \n",
       "124     Rs 2,69,19,330       Rs 16,00,000,        3:5-25  \n",
       "145     Rs 6,65,36,025       Rs 34,54,591,        3:5-25  \n",
       "153     Rs 9,40,89,148     Rs 2,16,96,413,        3:5-25  "
      ]
     },
     "execution_count": 101,
     "metadata": {},
     "output_type": "execute_result"
    }
   ],
   "source": [
    "up[up.CriminalCases > 5]"
   ]
  },
  {
   "cell_type": "markdown",
   "metadata": {},
   "source": [
    "# Analysis of Education Qualification"
   ]
  },
  {
   "cell_type": "code",
   "execution_count": 102,
   "metadata": {},
   "outputs": [
    {
     "data": {
      "text/html": [
       "<div>\n",
       "<style scoped>\n",
       "    .dataframe tbody tr th:only-of-type {\n",
       "        vertical-align: middle;\n",
       "    }\n",
       "\n",
       "    .dataframe tbody tr th {\n",
       "        vertical-align: top;\n",
       "    }\n",
       "\n",
       "    .dataframe thead th {\n",
       "        text-align: right;\n",
       "    }\n",
       "</style>\n",
       "<table border=\"1\" class=\"dataframe\">\n",
       "  <thead>\n",
       "    <tr style=\"text-align: right;\">\n",
       "      <th></th>\n",
       "      <th>pc_id</th>\n",
       "      <th>st_code</th>\n",
       "      <th>st_name</th>\n",
       "      <th>pc_no</th>\n",
       "      <th>pc_name</th>\n",
       "      <th>pc_name_hi</th>\n",
       "      <th>pc_category</th>\n",
       "      <th>wikidata_qid</th>\n",
       "      <th>status</th>\n",
       "      <th>2019_election_phase</th>\n",
       "      <th>2019_election_date</th>\n",
       "      <th>geometry</th>\n",
       "      <th>SerialNo</th>\n",
       "      <th>Candidate</th>\n",
       "      <th>Party</th>\n",
       "      <th>CriminalCases</th>\n",
       "      <th>Education</th>\n",
       "      <th>Assest</th>\n",
       "      <th>Liabilities</th>\n",
       "      <th>CaseCategory</th>\n",
       "    </tr>\n",
       "  </thead>\n",
       "  <tbody>\n",
       "    <tr>\n",
       "      <th>0</th>\n",
       "      <td>201</td>\n",
       "      <td>2</td>\n",
       "      <td>Himachal Pradesh</td>\n",
       "      <td>1</td>\n",
       "      <td>kangra</td>\n",
       "      <td>कांगड़ा</td>\n",
       "      <td>GEN</td>\n",
       "      <td>Q6362861</td>\n",
       "      <td>None</td>\n",
       "      <td>7</td>\n",
       "      <td>2019-05-19</td>\n",
       "      <td>(POLYGON ((76.577 33.206, 76.598 33.204, 76.61...</td>\n",
       "      <td>245</td>\n",
       "      <td>Kishan Kapoor</td>\n",
       "      <td>BJP</td>\n",
       "      <td>2.0</td>\n",
       "      <td>12th Pass</td>\n",
       "      <td>Rs 8,58,41,247</td>\n",
       "      <td>Rs 36,05,161,</td>\n",
       "      <td>2:1-5</td>\n",
       "    </tr>\n",
       "    <tr>\n",
       "      <th>1</th>\n",
       "      <td>202</td>\n",
       "      <td>2</td>\n",
       "      <td>Himachal Pradesh</td>\n",
       "      <td>2</td>\n",
       "      <td>mandi</td>\n",
       "      <td>मंडी</td>\n",
       "      <td>GEN</td>\n",
       "      <td>Q6748042</td>\n",
       "      <td>None</td>\n",
       "      <td>7</td>\n",
       "      <td>2019-05-19</td>\n",
       "      <td>(POLYGON ((76.795 33.256, 76.81999999999999 33...</td>\n",
       "      <td>384</td>\n",
       "      <td>Ram Swaroop Sharma</td>\n",
       "      <td>BJP</td>\n",
       "      <td>0.0</td>\n",
       "      <td>10th Pass</td>\n",
       "      <td>Rs 1,57,24,337</td>\n",
       "      <td>Rs 7,83,963,</td>\n",
       "      <td>1:0</td>\n",
       "    </tr>\n",
       "  </tbody>\n",
       "</table>\n",
       "</div>"
      ],
      "text/plain": [
       "   pc_id  st_code           st_name  pc_no pc_name pc_name_hi pc_category  \\\n",
       "0    201        2  Himachal Pradesh      1  kangra    कांगड़ा         GEN   \n",
       "1    202        2  Himachal Pradesh      2   mandi       मंडी         GEN   \n",
       "\n",
       "  wikidata_qid status  2019_election_phase 2019_election_date  \\\n",
       "0     Q6362861   None                    7         2019-05-19   \n",
       "1     Q6748042   None                    7         2019-05-19   \n",
       "\n",
       "                                            geometry  SerialNo  \\\n",
       "0  (POLYGON ((76.577 33.206, 76.598 33.204, 76.61...       245   \n",
       "1  (POLYGON ((76.795 33.256, 76.81999999999999 33...       384   \n",
       "\n",
       "            Candidate Party  CriminalCases  Education          Assest  \\\n",
       "0       Kishan Kapoor   BJP            2.0  12th Pass  Rs 8,58,41,247   \n",
       "1  Ram Swaroop Sharma   BJP            0.0  10th Pass  Rs 1,57,24,337   \n",
       "\n",
       "      Liabilities CaseCategory  \n",
       "0  Rs 36,05,161,         2:1-5  \n",
       "1   Rs 7,83,963,           1:0  "
      ]
     },
     "execution_count": 102,
     "metadata": {},
     "output_type": "execute_result"
    }
   ],
   "source": [
    "joined.head(2)"
   ]
  },
  {
   "cell_type": "code",
   "execution_count": null,
   "metadata": {},
   "outputs": [],
   "source": []
  },
  {
   "cell_type": "code",
   "execution_count": null,
   "metadata": {},
   "outputs": [],
   "source": []
  },
  {
   "cell_type": "markdown",
   "metadata": {},
   "source": [
    "# Correalation between Education and Criminality"
   ]
  },
  {
   "cell_type": "code",
   "execution_count": 104,
   "metadata": {},
   "outputs": [
    {
     "data": {
      "text/html": [
       "<div>\n",
       "<style scoped>\n",
       "    .dataframe tbody tr th:only-of-type {\n",
       "        vertical-align: middle;\n",
       "    }\n",
       "\n",
       "    .dataframe tbody tr th {\n",
       "        vertical-align: top;\n",
       "    }\n",
       "\n",
       "    .dataframe thead th {\n",
       "        text-align: right;\n",
       "    }\n",
       "</style>\n",
       "<table border=\"1\" class=\"dataframe\">\n",
       "  <thead>\n",
       "    <tr style=\"text-align: right;\">\n",
       "      <th></th>\n",
       "      <th>pc_id</th>\n",
       "      <th>st_code</th>\n",
       "      <th>st_name</th>\n",
       "      <th>pc_no</th>\n",
       "      <th>pc_name</th>\n",
       "      <th>pc_name_hi</th>\n",
       "      <th>pc_category</th>\n",
       "      <th>wikidata_qid</th>\n",
       "      <th>status</th>\n",
       "      <th>2019_election_phase</th>\n",
       "      <th>2019_election_date</th>\n",
       "      <th>geometry</th>\n",
       "      <th>SerialNo</th>\n",
       "      <th>Candidate</th>\n",
       "      <th>Party</th>\n",
       "      <th>CriminalCases</th>\n",
       "      <th>Education</th>\n",
       "      <th>Assest</th>\n",
       "      <th>Liabilities</th>\n",
       "      <th>CaseCategory</th>\n",
       "    </tr>\n",
       "  </thead>\n",
       "  <tbody>\n",
       "    <tr>\n",
       "      <th>0</th>\n",
       "      <td>201</td>\n",
       "      <td>2</td>\n",
       "      <td>Himachal Pradesh</td>\n",
       "      <td>1</td>\n",
       "      <td>kangra</td>\n",
       "      <td>कांगड़ा</td>\n",
       "      <td>GEN</td>\n",
       "      <td>Q6362861</td>\n",
       "      <td>None</td>\n",
       "      <td>7</td>\n",
       "      <td>2019-05-19</td>\n",
       "      <td>(POLYGON ((76.577 33.206, 76.598 33.204, 76.61...</td>\n",
       "      <td>245</td>\n",
       "      <td>Kishan Kapoor</td>\n",
       "      <td>BJP</td>\n",
       "      <td>2.0</td>\n",
       "      <td>12th Pass</td>\n",
       "      <td>Rs 8,58,41,247</td>\n",
       "      <td>Rs 36,05,161,</td>\n",
       "      <td>2:1-5</td>\n",
       "    </tr>\n",
       "    <tr>\n",
       "      <th>1</th>\n",
       "      <td>202</td>\n",
       "      <td>2</td>\n",
       "      <td>Himachal Pradesh</td>\n",
       "      <td>2</td>\n",
       "      <td>mandi</td>\n",
       "      <td>मंडी</td>\n",
       "      <td>GEN</td>\n",
       "      <td>Q6748042</td>\n",
       "      <td>None</td>\n",
       "      <td>7</td>\n",
       "      <td>2019-05-19</td>\n",
       "      <td>(POLYGON ((76.795 33.256, 76.81999999999999 33...</td>\n",
       "      <td>384</td>\n",
       "      <td>Ram Swaroop Sharma</td>\n",
       "      <td>BJP</td>\n",
       "      <td>0.0</td>\n",
       "      <td>10th Pass</td>\n",
       "      <td>Rs 1,57,24,337</td>\n",
       "      <td>Rs 7,83,963,</td>\n",
       "      <td>1:0</td>\n",
       "    </tr>\n",
       "  </tbody>\n",
       "</table>\n",
       "</div>"
      ],
      "text/plain": [
       "   pc_id  st_code           st_name  pc_no pc_name pc_name_hi pc_category  \\\n",
       "0    201        2  Himachal Pradesh      1  kangra    कांगड़ा         GEN   \n",
       "1    202        2  Himachal Pradesh      2   mandi       मंडी         GEN   \n",
       "\n",
       "  wikidata_qid status  2019_election_phase 2019_election_date  \\\n",
       "0     Q6362861   None                    7         2019-05-19   \n",
       "1     Q6748042   None                    7         2019-05-19   \n",
       "\n",
       "                                            geometry  SerialNo  \\\n",
       "0  (POLYGON ((76.577 33.206, 76.598 33.204, 76.61...       245   \n",
       "1  (POLYGON ((76.795 33.256, 76.81999999999999 33...       384   \n",
       "\n",
       "            Candidate Party  CriminalCases  Education          Assest  \\\n",
       "0       Kishan Kapoor   BJP            2.0  12th Pass  Rs 8,58,41,247   \n",
       "1  Ram Swaroop Sharma   BJP            0.0  10th Pass  Rs 1,57,24,337   \n",
       "\n",
       "      Liabilities CaseCategory  \n",
       "0  Rs 36,05,161,         2:1-5  \n",
       "1   Rs 7,83,963,           1:0  "
      ]
     },
     "execution_count": 104,
     "metadata": {},
     "output_type": "execute_result"
    }
   ],
   "source": [
    "joined.head(2)"
   ]
  },
  {
   "cell_type": "code",
   "execution_count": 105,
   "metadata": {},
   "outputs": [
    {
     "data": {
      "text/plain": [
       "array(['12th Pass', '10th Pass', 'Graduate', 'Post Graduate', 'Others',\n",
       "       'Graduate Professional', '5th Pass', 'Doctorate', '8th Pass',\n",
       "       'Literate', 'Illiterate'], dtype=object)"
      ]
     },
     "execution_count": 105,
     "metadata": {},
     "output_type": "execute_result"
    }
   ],
   "source": [
    "joined.Education.unique()"
   ]
  },
  {
   "cell_type": "code",
   "execution_count": 106,
   "metadata": {},
   "outputs": [],
   "source": [
    "# Others is mianly Diploma of different sorts\n",
    "# literate is some under matriculate."
   ]
  },
  {
   "cell_type": "code",
   "execution_count": 114,
   "metadata": {},
   "outputs": [],
   "source": [
    "def edu_category(x):\n",
    "    if x == 'Illiterate':\n",
    "        return '1: Illiterate'\n",
    "    elif x in ('Literate','5th Pass','8th Pass'):\n",
    "        return '2: Till 8th'\n",
    "    elif x in ('10th Pass','12th Pass','Diploma'):\n",
    "        return '3: Till 12th/Diploma'\n",
    "    elif x in ('Graduate','Graduate Professional'):\n",
    "        return '4: Graduate'\n",
    "    elif x == 'Post Graduate':\n",
    "        return '5: Post Graduate'\n",
    "    else :\n",
    "        return '6: Doctorate'\n",
    "\n",
    "joined['EduCategory']=joined['Education'].apply(edu_category)\n",
    "\n",
    "\n",
    "\n",
    "\n"
   ]
  },
  {
   "cell_type": "code",
   "execution_count": 115,
   "metadata": {},
   "outputs": [
    {
     "data": {
      "image/png": "[encoded data removed]",
      "text/plain": [
       "<Figure size 864x864 with 1 Axes>"
      ]
     },
     "metadata": {
      "needs_background": "light"
     },
     "output_type": "display_data"
    }
   ],
   "source": [
    "f,ax=plt.subplots(1,figsize=(12,12))\n",
    "ax=joined.plot(ax=ax,column='EduCategory',legend=True, cmap='YlOrRd')\n",
    "plt.show()"
   ]
  },
  {
   "cell_type": "code",
   "execution_count": 116,
   "metadata": {},
   "outputs": [
    {
     "data": {
      "text/html": [
       "<div>\n",
       "<style scoped>\n",
       "    .dataframe tbody tr th:only-of-type {\n",
       "        vertical-align: middle;\n",
       "    }\n",
       "\n",
       "    .dataframe tbody tr th {\n",
       "        vertical-align: top;\n",
       "    }\n",
       "\n",
       "    .dataframe thead th {\n",
       "        text-align: right;\n",
       "    }\n",
       "</style>\n",
       "<table border=\"1\" class=\"dataframe\">\n",
       "  <thead>\n",
       "    <tr style=\"text-align: right;\">\n",
       "      <th></th>\n",
       "      <th>Education</th>\n",
       "    </tr>\n",
       "    <tr>\n",
       "      <th>EduCategory</th>\n",
       "      <th></th>\n",
       "    </tr>\n",
       "  </thead>\n",
       "  <tbody>\n",
       "    <tr>\n",
       "      <th>1: Illiterate</th>\n",
       "      <td>0.183486</td>\n",
       "    </tr>\n",
       "    <tr>\n",
       "      <th>2: Till 8th</th>\n",
       "      <td>3.119266</td>\n",
       "    </tr>\n",
       "    <tr>\n",
       "      <th>3: Till 12th/Diploma</th>\n",
       "      <td>20.733945</td>\n",
       "    </tr>\n",
       "    <tr>\n",
       "      <th>4: Graduate</th>\n",
       "      <td>43.302752</td>\n",
       "    </tr>\n",
       "    <tr>\n",
       "      <th>5: Post Graduate</th>\n",
       "      <td>25.321101</td>\n",
       "    </tr>\n",
       "    <tr>\n",
       "      <th>6: Doctorate</th>\n",
       "      <td>7.339450</td>\n",
       "    </tr>\n",
       "  </tbody>\n",
       "</table>\n",
       "</div>"
      ],
      "text/plain": [
       "                      Education\n",
       "EduCategory                    \n",
       "1: Illiterate          0.183486\n",
       "2: Till 8th            3.119266\n",
       "3: Till 12th/Diploma  20.733945\n",
       "4: Graduate           43.302752\n",
       "5: Post Graduate      25.321101\n",
       "6: Doctorate           7.339450"
      ]
     },
     "execution_count": 116,
     "metadata": {},
     "output_type": "execute_result"
    }
   ],
   "source": [
    "joined[['EduCategory','Education']].groupby('EduCategory').count()*100/len(joined)"
   ]
  },
  {
   "cell_type": "code",
   "execution_count": 108,
   "metadata": {},
   "outputs": [
    {
     "data": {
      "text/html": [
       "<div>\n",
       "<style scoped>\n",
       "    .dataframe tbody tr th:only-of-type {\n",
       "        vertical-align: middle;\n",
       "    }\n",
       "\n",
       "    .dataframe tbody tr th {\n",
       "        vertical-align: top;\n",
       "    }\n",
       "\n",
       "    .dataframe thead th {\n",
       "        text-align: right;\n",
       "    }\n",
       "</style>\n",
       "<table border=\"1\" class=\"dataframe\">\n",
       "  <thead>\n",
       "    <tr style=\"text-align: right;\">\n",
       "      <th></th>\n",
       "      <th>pc_id</th>\n",
       "      <th>st_code</th>\n",
       "      <th>st_name</th>\n",
       "      <th>pc_no</th>\n",
       "      <th>pc_name</th>\n",
       "      <th>pc_name_hi</th>\n",
       "      <th>pc_category</th>\n",
       "      <th>wikidata_qid</th>\n",
       "      <th>status</th>\n",
       "      <th>2019_election_phase</th>\n",
       "      <th>...</th>\n",
       "      <th>geometry</th>\n",
       "      <th>SerialNo</th>\n",
       "      <th>Candidate</th>\n",
       "      <th>Party</th>\n",
       "      <th>CriminalCases</th>\n",
       "      <th>Education</th>\n",
       "      <th>Assest</th>\n",
       "      <th>Liabilities</th>\n",
       "      <th>CaseCategory</th>\n",
       "      <th>EduCategory</th>\n",
       "    </tr>\n",
       "  </thead>\n",
       "  <tbody>\n",
       "    <tr>\n",
       "      <th>0</th>\n",
       "      <td>201</td>\n",
       "      <td>2</td>\n",
       "      <td>Himachal Pradesh</td>\n",
       "      <td>1</td>\n",
       "      <td>kangra</td>\n",
       "      <td>कांगड़ा</td>\n",
       "      <td>GEN</td>\n",
       "      <td>Q6362861</td>\n",
       "      <td>None</td>\n",
       "      <td>7</td>\n",
       "      <td>...</td>\n",
       "      <td>(POLYGON ((76.577 33.206, 76.598 33.204, 76.61...</td>\n",
       "      <td>245</td>\n",
       "      <td>Kishan Kapoor</td>\n",
       "      <td>BJP</td>\n",
       "      <td>2.0</td>\n",
       "      <td>12th Pass</td>\n",
       "      <td>Rs 8,58,41,247</td>\n",
       "      <td>Rs 36,05,161,</td>\n",
       "      <td>2:1-5</td>\n",
       "      <td>5</td>\n",
       "    </tr>\n",
       "    <tr>\n",
       "      <th>1</th>\n",
       "      <td>202</td>\n",
       "      <td>2</td>\n",
       "      <td>Himachal Pradesh</td>\n",
       "      <td>2</td>\n",
       "      <td>mandi</td>\n",
       "      <td>मंडी</td>\n",
       "      <td>GEN</td>\n",
       "      <td>Q6748042</td>\n",
       "      <td>None</td>\n",
       "      <td>7</td>\n",
       "      <td>...</td>\n",
       "      <td>(POLYGON ((76.795 33.256, 76.81999999999999 33...</td>\n",
       "      <td>384</td>\n",
       "      <td>Ram Swaroop Sharma</td>\n",
       "      <td>BJP</td>\n",
       "      <td>0.0</td>\n",
       "      <td>10th Pass</td>\n",
       "      <td>Rs 1,57,24,337</td>\n",
       "      <td>Rs 7,83,963,</td>\n",
       "      <td>1:0</td>\n",
       "      <td>4</td>\n",
       "    </tr>\n",
       "  </tbody>\n",
       "</table>\n",
       "<p>2 rows × 21 columns</p>\n",
       "</div>"
      ],
      "text/plain": [
       "   pc_id  st_code           st_name  pc_no pc_name pc_name_hi pc_category  \\\n",
       "0    201        2  Himachal Pradesh      1  kangra    कांगड़ा         GEN   \n",
       "1    202        2  Himachal Pradesh      2   mandi       मंडी         GEN   \n",
       "\n",
       "  wikidata_qid status  2019_election_phase     ...      \\\n",
       "0     Q6362861   None                    7     ...       \n",
       "1     Q6748042   None                    7     ...       \n",
       "\n",
       "                                            geometry SerialNo  \\\n",
       "0  (POLYGON ((76.577 33.206, 76.598 33.204, 76.61...      245   \n",
       "1  (POLYGON ((76.795 33.256, 76.81999999999999 33...      384   \n",
       "\n",
       "            Candidate Party CriminalCases  Education          Assest  \\\n",
       "0       Kishan Kapoor   BJP           2.0  12th Pass  Rs 8,58,41,247   \n",
       "1  Ram Swaroop Sharma   BJP           0.0  10th Pass  Rs 1,57,24,337   \n",
       "\n",
       "      Liabilities CaseCategory EduCategory  \n",
       "0  Rs 36,05,161,         2:1-5           5  \n",
       "1   Rs 7,83,963,           1:0           4  \n",
       "\n",
       "[2 rows x 21 columns]"
      ]
     },
     "execution_count": 108,
     "metadata": {},
     "output_type": "execute_result"
    }
   ],
   "source": [
    "joined.head(2)"
   ]
  },
  {
   "cell_type": "code",
   "execution_count": 122,
   "metadata": {},
   "outputs": [
    {
     "data": {
      "text/plain": [
       "<seaborn.axisgrid.FacetGrid at 0x248f92309e8>"
      ]
     },
     "execution_count": 122,
     "metadata": {},
     "output_type": "execute_result"
    },
    {
     "data": {
      "image/png": "[encoded data removed]",
      "text/plain": [
       "<Figure size 360x360 with 1 Axes>"
      ]
     },
     "metadata": {
      "needs_background": "light"
     },
     "output_type": "display_data"
    }
   ],
   "source": [
    "ax=sns.catplot(x='EduCategory',y='CriminalCases', kind='swarm',data=joined,\n",
    "               order=['1: Illiterate','2: Till 8th','3: Till 12th/Diploma','4: Graduate','5: Post Graduate','6: Doctorate'])\n",
    "ax.set_xticklabels(rotation=30)"
   ]
  },
  {
   "cell_type": "code",
   "execution_count": null,
   "metadata": {},
   "outputs": [],
   "source": []
  },
  {
   "cell_type": "code",
   "execution_count": null,
   "metadata": {},
   "outputs": [],
   "source": []
  }
 ],
 "metadata": {
  "colab": {
   "name": "Election Viz.ipynb",
   "provenance": [],
   "version": "0.3.2"
  },
  "kernelspec": {
   "display_name": "Python 3",
   "language": "python",
   "name": "python3"
  },
  "language_info": {
   "codemirror_mode": {
    "name": "ipython",
    "version": 3
   },
   "file_extension": ".py",
   "mimetype": "text/x-python",
   "name": "python",
   "nbconvert_exporter": "python",
   "pygments_lexer": "ipython3",
   "version": "3.7.1"
  }
 },
 "nbformat": 4,
 "nbformat_minor": 1
}
